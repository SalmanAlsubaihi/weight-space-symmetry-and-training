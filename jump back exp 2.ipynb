{
 "cells": [
  {
   "cell_type": "code",
   "execution_count": 1,
   "metadata": {},
   "outputs": [],
   "source": [
    "from utils import *"
   ]
  },
  {
   "cell_type": "code",
   "execution_count": 2,
   "metadata": {},
   "outputs": [],
   "source": [
    "n1 = nn.Sequential(nn.Linear(5,5),nn.ReLU(), nn.Linear(5,1))\n",
    "n1[0].weight.data = n1[0].weight.data.type(torch.float64)\n",
    "n1[2].weight.data = n1[2].weight.data.type(torch.float64)\n",
    "n1[0].bias.data = n1[0].bias.data.type(torch.float64)\n",
    "n1[2].bias.data = n1[2].bias.data.type(torch.float64)\n",
    "\n",
    "n1[0].bias.data = torch.zeros_like(n1[0].bias.data)\n",
    "n1[2].bias.data = torch.zeros_like(n1[2].bias.data)\n",
    "\n",
    "n1_copy = nn.Sequential(nn.Linear(5,5),nn.ReLU(),nn.Linear(5,1))\n",
    "copy_weights(n1, n1_copy)\n",
    "n1_copy[0].weight.data = n1[0].weight.data.type(torch.float64)\n",
    "n1_copy[2].weight.data = n1[2].weight.data.type(torch.float64)\n",
    "n1_copy[0].bias.data = n1[0].bias.data.type(torch.float64)\n",
    "n1_copy[2].bias.data = n1[2].bias.data.type(torch.float64)\n",
    "\n",
    "n1[0].bias.requires_grad = False\n",
    "n1[2].bias.requires_grad = False\n",
    "n1_copy[0].bias.requires_grad = False\n",
    "n1_copy[2].bias.requires_grad = False"
   ]
  },
  {
   "cell_type": "code",
   "execution_count": 3,
   "metadata": {},
   "outputs": [],
   "source": [
    "batch_size = 1000\n",
    "x = 10*torch.randn(batch_size,5, dtype=torch.float64)\n",
    "targets = 2*torch.randn(batch_size,1, dtype=torch.float64)\n",
    "criterion = nn.MSELoss()"
   ]
  },
  {
   "cell_type": "code",
   "execution_count": 4,
   "metadata": {},
   "outputs": [
    {
     "data": {
      "text/plain": [
       "tensor(0., dtype=torch.float64)"
      ]
     },
     "execution_count": 4,
     "metadata": {},
     "output_type": "execute_result"
    }
   ],
   "source": [
    "(n1[0].weight.data - n1_copy[0].weight.data).abs().max()"
   ]
  },
  {
   "cell_type": "code",
   "execution_count": 5,
   "metadata": {},
   "outputs": [],
   "source": [
    "# v = 2*torch.ones_like(v)\n",
    "v = 1.5*torch.rand(5, dtype=torch.float64) + 0.5\n",
    "diag_mat = torch.diag(v)\n",
    "diag_mat_inv = torch.diag(1/v)\n",
    "n1[0].weight.data = torch.matmul(diag_mat, n1[0].weight.data)\n",
    "# n1[0].bias.data = torch.matmul(diag_mat, n1[0].bias.data)\n",
    "n1[2].weight.data = torch.matmul(n1[2].weight.data, diag_mat_inv)"
   ]
  },
  {
   "cell_type": "code",
   "execution_count": 6,
   "metadata": {},
   "outputs": [
    {
     "data": {
      "text/plain": [
       "tensor(0.3264, dtype=torch.float64)"
      ]
     },
     "execution_count": 6,
     "metadata": {},
     "output_type": "execute_result"
    }
   ],
   "source": [
    "(n1[0].weight.data - n1_copy[0].weight.data).abs().max()"
   ]
  },
  {
   "cell_type": "code",
   "execution_count": 7,
   "metadata": {},
   "outputs": [],
   "source": [
    "diag_mat_sq = torch.matmul(diag_mat, diag_mat)\n",
    "diag_mat_inv_sq = torch.matmul(diag_mat_inv, diag_mat_inv)"
   ]
  },
  {
   "cell_type": "code",
   "execution_count": 8,
   "metadata": {},
   "outputs": [],
   "source": [
    "optim1 = torch.optim.SGD(n1.parameters(), lr = 1)\n",
    "optim2 = torch.optim.SGD(n1_copy.parameters(), lr = 1)"
   ]
  },
  {
   "cell_type": "code",
   "execution_count": 9,
   "metadata": {},
   "outputs": [
    {
     "data": {
      "text/plain": [
       "tensor(3.5527e-15, dtype=torch.float64, grad_fn=<MaxBackward1>)"
      ]
     },
     "execution_count": 9,
     "metadata": {},
     "output_type": "execute_result"
    }
   ],
   "source": [
    "(n1(x) - n1_copy(x)).abs().max()"
   ]
  },
  {
   "cell_type": "code",
   "execution_count": 10,
   "metadata": {},
   "outputs": [
    {
     "name": "stdout",
     "output_type": "stream",
     "text": [
      "tensor([[-0.0442, -0.0722,  0.4110, -0.2565, -0.1130],\n",
      "        [ 0.6692,  2.4375, -3.3742,  3.8786, -2.5412],\n",
      "        [ 6.2621, -1.2921,  1.3541,  6.8524,  3.8434],\n",
      "        [-0.6344, -3.5756,  3.8013, -3.2630,  3.4606],\n",
      "        [ 2.8798,  2.7469, -3.8654,  5.3020, -2.6298]], dtype=torch.float64)\n",
      "tensor([[ 3.2670, 28.6084, 16.0039,  1.1901, 11.8808]], dtype=torch.float64)\n"
     ]
    }
   ],
   "source": [
    "optim1.zero_grad()\n",
    "out1 = n1(x)\n",
    "loss1 = criterion(out1, targets)\n",
    "loss1.backward()\n",
    "gradiants_n1 = []\n",
    "for l in n1:\n",
    "    if isinstance(l, nn.Linear):\n",
    "        gradiants_n1.append(l.weight.grad)\n",
    "        print(l.weight.grad)"
   ]
  },
  {
   "cell_type": "code",
   "execution_count": 11,
   "metadata": {},
   "outputs": [
    {
     "name": "stdout",
     "output_type": "stream",
     "text": [
      "tensor([[-0.0644, -0.1053,  0.5991, -0.3739, -0.1647],\n",
      "        [ 1.3332,  4.8562, -6.7222,  7.7272, -5.0627],\n",
      "        [ 5.2801, -1.0895,  1.1418,  5.7779,  3.2407],\n",
      "        [-0.4546, -2.5620,  2.7237, -2.3380,  2.4797],\n",
      "        [ 1.4923,  1.4235, -2.0030,  2.7475, -1.3628]], dtype=torch.float64)\n",
      "tensor([[ 2.2410, 14.3598, 18.9802,  1.6609, 22.9271]], dtype=torch.float64)\n"
     ]
    }
   ],
   "source": [
    "optim2.zero_grad()\n",
    "out2 = n1_copy(x)\n",
    "loss2 = criterion(out2, targets)\n",
    "loss2.backward()\n",
    "gradiants_copy = []\n",
    "for l in n1_copy:\n",
    "    if isinstance(l, nn.Linear):\n",
    "        gradiants_copy.append(l.weight.grad)\n",
    "        print(l.weight.grad)"
   ]
  },
  {
   "cell_type": "code",
   "execution_count": 12,
   "metadata": {},
   "outputs": [
    {
     "data": {
      "text/plain": [
       "tensor(3.5527e-15, dtype=torch.float64)"
      ]
     },
     "execution_count": 12,
     "metadata": {},
     "output_type": "execute_result"
    }
   ],
   "source": [
    "(torch.matmul(diag_mat_inv, gradiants_copy[0]) - gradiants_n1[0]).abs().max()"
   ]
  },
  {
   "cell_type": "code",
   "execution_count": 13,
   "metadata": {},
   "outputs": [
    {
     "data": {
      "text/plain": [
       "tensor(1.7764e-14, dtype=torch.float64)"
      ]
     },
     "execution_count": 13,
     "metadata": {},
     "output_type": "execute_result"
    }
   ],
   "source": [
    "(torch.matmul(gradiants_copy[1], diag_mat) - gradiants_n1[1]).abs().max()"
   ]
  },
  {
   "cell_type": "code",
   "execution_count": 14,
   "metadata": {},
   "outputs": [],
   "source": [
    "# assign gradients\n",
    "n1_copy[0].weight.grad = torch.matmul(diag_mat_inv_sq, gradiants_copy[0])\n",
    "n1_copy[2].weight.grad = torch.matmul(gradiants_copy[1], diag_mat_sq)"
   ]
  },
  {
   "cell_type": "code",
   "execution_count": 15,
   "metadata": {},
   "outputs": [],
   "source": [
    "optim1.step()\n",
    "optim2.step()"
   ]
  },
  {
   "cell_type": "code",
   "execution_count": 16,
   "metadata": {},
   "outputs": [
    {
     "data": {
      "text/plain": [
       "tensor(5.4570e-12, dtype=torch.float64, grad_fn=<MaxBackward1>)"
      ]
     },
     "execution_count": 16,
     "metadata": {},
     "output_type": "execute_result"
    }
   ],
   "source": [
    "(n1(x) - n1_copy(x)).abs().max()"
   ]
  },
  {
   "cell_type": "code",
   "execution_count": null,
   "metadata": {},
   "outputs": [],
   "source": []
  },
  {
   "cell_type": "code",
   "execution_count": 17,
   "metadata": {},
   "outputs": [],
   "source": [
    "net = nn.Sequential(nn.Linear(5,5),nn.Linear(5,1))\n",
    "batch_size = 1000\n",
    "x = 10*torch.randn(batch_size,5, dtype=torch.float64)\n",
    "targets = 2*torch.randn(batch_size,1, dtype=torch.float64)\n",
    "criterion = nn.MSELoss()"
   ]
  },
  {
   "cell_type": "code",
   "execution_count": 18,
   "metadata": {},
   "outputs": [],
   "source": [
    "v = 1.5*torch.rand(5, dtype=torch.float64) + 0.5\n",
    "diag_mat = torch.diag(v)\n",
    "diag_mat_inv = torch.diag(1/v)"
   ]
  }
 ],
 "metadata": {
  "kernelspec": {
   "display_name": "Python 3",
   "language": "python",
   "name": "python3"
  },
  "language_info": {
   "codemirror_mode": {
    "name": "ipython",
    "version": 3
   },
   "file_extension": ".py",
   "mimetype": "text/x-python",
   "name": "python",
   "nbconvert_exporter": "python",
   "pygments_lexer": "ipython3",
   "version": "3.8.5"
  }
 },
 "nbformat": 4,
 "nbformat_minor": 4
}
