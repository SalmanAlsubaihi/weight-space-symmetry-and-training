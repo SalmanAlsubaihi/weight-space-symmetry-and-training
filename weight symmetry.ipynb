{
 "cells": [
  {
   "cell_type": "code",
   "execution_count": 1,
   "metadata": {},
   "outputs": [],
   "source": [
    "import torch\n",
    "from torch import nn\n",
    "import numpy as np\n",
    "import matplotlib.pyplot as plt\n",
    "import time\n",
    "import random"
   ]
  },
  {
   "cell_type": "code",
   "execution_count": null,
   "metadata": {},
   "outputs": [],
   "source": []
  },
  {
   "cell_type": "code",
   "execution_count": 274,
   "metadata": {},
   "outputs": [],
   "source": [
    "class Sequential_modified(nn.Sequential):\n",
    "    def __init__(self, width_list, seed):\n",
    "        self.seed = seed\n",
    "        torch.manual_seed(self.seed)\n",
    "        self.width_list = width_list\n",
    "        layer_sizes = list(zip(width_list[:-1],width_list[1:]))\n",
    "        layer_list = []\n",
    "        for size in layer_sizes[:-1]:\n",
    "            layer_list.append(nn.Linear(*size))\n",
    "            layer_list.append(nn.ReLU())\n",
    "        layer_list.append(nn.Linear(*layer_sizes[-1]))\n",
    "        super().__init__(*layer_list)\n",
    "\n",
    "        \n",
    "def generate_numbers_mul_to_1(num, range_):\n",
    "    torch.manual_seed(random.randint(0,10000))\n",
    "    rand_numbers = (range_[1]-range_[0]) * torch.rand(num) + range_[0]\n",
    "    m = 1.0\n",
    "    for i in range(num):\n",
    "        m *= rand_numbers[i]\n",
    "    rand_numbers = rand_numbers/(m**(1/num))\n",
    "    return rand_numbers\n",
    "\n",
    "def scale_net(net, factors):\n",
    "    layers = filter(lambda layer:isinstance(layer, nn.Linear), net)\n",
    "    for i, layer in enumerate(layers):\n",
    "        layer.weight.data = factors[i] * layer.weight.data\n",
    "        layer.bias.data = multiply_list_of_num(factors[:i+1]) * layer.bias.data\n",
    "    return net\n",
    "\n",
    "def diagonal_matrix_symmetry_1(net, range_):\n",
    "    for i, layer in enumerate(net):\n",
    "        if isinstance(layer, nn.ReLU):\n",
    "            d = net[i-1].weight.data.shape[0]\n",
    "            v = (range_[1]-range_[0])*torch.rand(d) + range_[0]\n",
    "            diag_mat = torch.diag(v).to('cuda:0')\n",
    "            diag_mat_inv = torch.diag(1/v).to('cuda:0')\n",
    "            net[i-1].weight.data = torch.matmul(diag_mat, net[i-1].weight.data)\n",
    "            net[i-1].bias.data = torch.matmul(diag_mat, net[i-1].bias.data)\n",
    "            net[i+1].weight.data = torch.matmul(net[i+1].weight.data, diag_mat_inv)\n",
    "    return net\n",
    "\n",
    "\n",
    "def diagonal_matrix_symmetry_balanced_1(net, range_, symm_counter):\n",
    "    torch.manual_seed(symm_counter//2)\n",
    "    for i, layer in enumerate(net):\n",
    "        if isinstance(layer, nn.ReLU):\n",
    "            d = net[i-1].weight.data.shape[0]\n",
    "            v = (range_[1]-range_[0])*torch.rand(d) + range_[0]\n",
    "            if symm_counter%2 == 1:\n",
    "                v = 1/v\n",
    "            diag_mat = torch.diag(v).to('cuda:0')\n",
    "            diag_mat_inv = torch.diag(1/v).to('cuda:0')\n",
    "            net[i-1].weight.data = torch.matmul(diag_mat, net[i-1].weight.data)\n",
    "            net[i-1].bias.data = torch.matmul(diag_mat, net[i-1].bias.data)\n",
    "            net[i+1].weight.data = torch.matmul(net[i+1].weight.data, diag_mat_inv)\n",
    "    return net\n",
    "\n",
    "\n",
    "def diagonal_matrix_symmetry_balanced_2(net, scale, symm_counter):\n",
    "    torch.manual_seed(symm_counter//2)\n",
    "    for i, layer in enumerate(net):\n",
    "        if isinstance(layer, nn.ReLU):\n",
    "            d = net[i-1].weight.data.shape[0]\n",
    "            v = (2*torch.rand(d) - 1)\n",
    "            v = ((v>0)*v) * scaler + ((v<0)*v.abs()) / scaler\n",
    "            if symm_counter%2 == 1:\n",
    "                v = 1/v\n",
    "            diag_mat = torch.diag(v).to('cuda:0')\n",
    "            diag_mat_inv = torch.diag(1/v).to('cuda:0')\n",
    "            net[i-1].weight.data = torch.matmul(diag_mat, net[i-1].weight.data)\n",
    "            net[i-1].bias.data = torch.matmul(diag_mat, net[i-1].bias.data)\n",
    "            net[i+1].weight.data = torch.matmul(net[i+1].weight.data, diag_mat_inv)\n",
    "    return net\n",
    "\n",
    "\n",
    "def diagonal_matrix_symmetry_balanced_3(net, scale, symm_counter):\n",
    "    torch.manual_seed(symm_counter//2)\n",
    "    for i, layer in enumerate(net):\n",
    "        if isinstance(layer, nn.ReLU):\n",
    "            d = net[i-1].weight.data.shape[0]\n",
    "            v = (2*torch.rand(d) - 1)\n",
    "            v = ((v>0)*v) * scaler + ((v<0)*(v.abs()+(1/scaler)))\n",
    "            if symm_counter%2 == 1:\n",
    "                v = 1/v\n",
    "            diag_mat = torch.diag(v).to('cuda:0')\n",
    "            diag_mat_inv = torch.diag(1/v).to('cuda:0')\n",
    "            net[i-1].weight.data = torch.matmul(diag_mat, net[i-1].weight.data)\n",
    "            net[i-1].bias.data = torch.matmul(diag_mat, net[i-1].bias.data)\n",
    "            net[i+1].weight.data = torch.matmul(net[i+1].weight.data, diag_mat_inv)\n",
    "    return net\n",
    "\n",
    "def turn_grad_off(net, weights=True, bias=True):\n",
    "    for idx, param in net.named_children():\n",
    "        if isinstance(param, nn.Linear):\n",
    "            if weights:\n",
    "                param.weight.requires_grad = False\n",
    "            if bias:\n",
    "                param.bias.requires_grad = False\n",
    "    return net\n",
    "\n",
    "def diff(net1, net2):\n",
    "    input_size = net1[0].weight.data.shape[1]\n",
    "    random_input = torch.randn(10000,input_size)\n",
    "    error = (net2(random_input)-net1(random_input)).abs().max()\n",
    "    return error\n",
    "\n",
    "def multiply_list_of_num(list_):\n",
    "    multiplication = 1\n",
    "    for num in list_:\n",
    "        multiplication *= num\n",
    "    return multiplication\n",
    "\n",
    "def clone_net(old_net):\n",
    "    new_layers = []\n",
    "    for old_layer in old_net:\n",
    "        if isinstance(old_layer, nn.Linear):\n",
    "            new_layer = nn.Linear(*(old_layer.weight.shape[::-1]))\n",
    "            new_layer.weight.data = torch.tensor(old_layer.weight.data.tolist().copy()).to('cuda:0')\n",
    "            new_layer.bias.data = torch.tensor(old_layer.bias.data.tolist().copy()).to('cuda:0')\n",
    "        if isinstance(old_layer, nn.ReLU):\n",
    "            new_layer = nn.ReLU()\n",
    "        new_layers.append(new_layer)\n",
    "    new_net = nn.Sequential(*new_layers)\n",
    "    return new_net\n",
    "\n",
    "\n",
    "def copy_weights(src_net, dst_net):\n",
    "    with torch.no_grad():\n",
    "        for dst_params, src_params in zip(dst_net.parameters(), src_net.parameters()):\n",
    "            dst_params.copy_(src_params)\n",
    "            \n",
    "def revert_condition(loss, iter_loss, threshold=0.1):\n",
    "    if iter_loss:\n",
    "        return iter_loss[-1][0] > 1 and (loss-iter_loss[-1][1])/iter_loss[-1][1] > threshold\n",
    "    return False"
   ]
  },
  {
   "cell_type": "code",
   "execution_count": 231,
   "metadata": {},
   "outputs": [],
   "source": [
    "class Sequential_modified(nn.Sequential):\n",
    "    def __init__(self, width_list, seed):\n",
    "        self.seed = seed\n",
    "        torch.manual_seed(self.seed)\n",
    "        self.width_list = width_list\n",
    "        layer_sizes = list(zip(width_list[:-1],width_list[1:]))\n",
    "        layer_list = []\n",
    "        for size in layer_sizes[:-1]:\n",
    "            layer_list.append(nn.Linear(*size))\n",
    "            layer_list.append(nn.ReLU())\n",
    "        layer_list.append(nn.Linear(*layer_sizes[-1]))\n",
    "        super().__init__(*layer_list)\n",
    "\n",
    "    def jump_to_symmetrical_point(self, symmetrical_point_generator, *args):\n",
    "        symmetrical_point_generator(self, *args)"
   ]
  },
  {
   "cell_type": "code",
   "execution_count": 81,
   "metadata": {},
   "outputs": [
    {
     "name": "stdout",
     "output_type": "stream",
     "text": [
      "aaa\n"
     ]
    }
   ],
   "source": [
    "if ['a']:\n",
    "    print('aaa')"
   ]
  },
  {
   "cell_type": "code",
   "execution_count": null,
   "metadata": {},
   "outputs": [],
   "source": [
    "def train(module, data_loader, weight_symmetry_function, weight_symmetry_condition, revert_condition, ):"
   ]
  },
  {
   "cell_type": "code",
   "execution_count": null,
   "metadata": {},
   "outputs": [],
   "source": []
  },
  {
   "cell_type": "code",
   "execution_count": 26,
   "metadata": {},
   "outputs": [
    {
     "name": "stdout",
     "output_type": "stream",
     "text": [
      "tensor([[-0.0330, -0.0135, -0.1477,  0.0906, -0.2254],\n",
      "        [-0.1148,  0.2524,  0.6113,  0.1534, -0.2210],\n",
      "        [ 0.0638, -0.0745,  0.2715,  0.0762,  0.2606],\n",
      "        [ 0.4113, -0.1761, -0.0150,  0.0975, -0.0028],\n",
      "        [-0.0360, -0.3327, -0.3243, -0.3383, -0.3679],\n",
      "        [-0.4489, -0.3651, -0.4347, -0.4521,  0.2113],\n",
      "        [ 0.3626,  0.3995,  0.3185,  0.2003,  0.2604],\n",
      "        [-0.3624,  0.5900, -0.0452,  0.5654,  0.2009],\n",
      "        [ 0.5091,  0.5189, -0.1359, -0.1892,  0.0979],\n",
      "        [-0.0234,  0.0862,  0.2796, -0.4307, -0.0253]], device='cuda:0')\n"
     ]
    }
   ],
   "source": [
    "n.jump_to_symmetrical_point(scale_net_type2, [0.5,1.5])\n",
    "print(n[0].weight.data)"
   ]
  },
  {
   "cell_type": "code",
   "execution_count": 422,
   "metadata": {},
   "outputs": [],
   "source": [
    "lr_loss1 = []\n",
    "lr_loss2 = []\n",
    "num_points = 1001\n",
    "\n",
    "for lr in np.linspace(0, 1, num_points):\n",
    "    net1 = Sequential_modified(width_list, 100)\n",
    "    net2 = Sequential_modified(width_list, net1.seed)\n",
    "    \n",
    "    net2 = scale_net(net2, factors)\n",
    "    \n",
    "    optim1 = torch.optim.SGD(net1.parameters(), lr=lr)\n",
    "    optim2 = torch.optim.SGD(net2.parameters(), lr=lr)\n",
    "    \n",
    "    optim1.zero_grad()\n",
    "    y1 = net1(x)\n",
    "    loss1 = criterion1(y1,targets)\n",
    "    loss1.backward()\n",
    "    optim1.step()\n",
    "    y1 = net1(x)\n",
    "    loss1 = criterion1(y1,targets)\n",
    "    lr_loss1.append((lr,loss1.item()))\n",
    "    \n",
    "    optim2.zero_grad()\n",
    "    y2 = net2(x)\n",
    "    loss2 = criterion2(y2,targets)\n",
    "    loss2.backward()\n",
    "    optim2.step()\n",
    "    y2 = net2(x)\n",
    "    loss2 = criterion2(y2,targets)\n",
    "    lr_loss2.append((lr,loss2.item()))"
   ]
  },
  {
   "cell_type": "code",
   "execution_count": null,
   "metadata": {},
   "outputs": [],
   "source": []
  },
  {
   "cell_type": "code",
   "execution_count": 423,
   "metadata": {},
   "outputs": [
    {
     "data": {
      "text/plain": [
       "0.7933530211448669"
      ]
     },
     "execution_count": 423,
     "metadata": {},
     "output_type": "execute_result"
    },
    {
     "data": {
      "image/png": "[encoded data removed]",
      "text/plain": [
       "<Figure size 432x288 with 1 Axes>"
      ]
     },
     "metadata": {
      "needs_background": "light"
     },
     "output_type": "display_data"
    }
   ],
   "source": [
    "lr, loss1 = zip(*lr_loss1)\n",
    "plt.plot(lr[0:num_points], loss1[0:num_points])\n",
    "min(loss1)"
   ]
  },
  {
   "cell_type": "code",
   "execution_count": 424,
   "metadata": {},
   "outputs": [
    {
     "data": {
      "text/plain": [
       "0.750558078289032"
      ]
     },
     "execution_count": 424,
     "metadata": {},
     "output_type": "execute_result"
    },
    {
     "data": {
      "image/png": "[encoded data removed]",
      "text/plain": [
       "<Figure size 432x288 with 1 Axes>"
      ]
     },
     "metadata": {
      "needs_background": "light"
     },
     "output_type": "display_data"
    }
   ],
   "source": [
    "lr, loss2 = zip(*lr_loss2)\n",
    "plt.plot(lr[0:num_points], loss2[0:num_points])\n",
    "min(loss2)"
   ]
  },
  {
   "cell_type": "code",
   "execution_count": 419,
   "metadata": {},
   "outputs": [
    {
     "data": {
      "text/plain": [
       "[0.1, 2.5, 4]"
      ]
     },
     "execution_count": 419,
     "metadata": {},
     "output_type": "execute_result"
    }
   ],
   "source": [
    "factors"
   ]
  },
  {
   "cell_type": "code",
   "execution_count": 4,
   "metadata": {},
   "outputs": [],
   "source": [
    "width_list=[5,10,10,10,10,1]\n",
    "batch_size = 1000\n",
    "x = torch.randn(batch_size,width_list[0])\n",
    "labels_net = Sequential_modified(width_list, 123)\n",
    "targets = labels_net(x)\n",
    "targets = targets.detach()\n",
    "\n",
    "criterion1 = torch.nn.MSELoss()"
   ]
  },
  {
   "cell_type": "code",
   "execution_count": 33,
   "metadata": {},
   "outputs": [
    {
     "name": "stdout",
     "output_type": "stream",
     "text": [
      "579.4294760227203\n"
     ]
    }
   ],
   "source": [
    "start_time = time.time()\n",
    "iter_loss1 = []\n",
    "\n",
    "num_iter1 = 200000\n",
    "lr = 0.001\n",
    "net1 = Sequential_modified(width_list, 300)\n",
    "\n",
    "x = x.to('cuda:0')\n",
    "targets = targets.to('cuda:0')\n",
    "net1 = net1.to('cuda:0')\n",
    "\n",
    "optim1 = torch.optim.SGD(net1.parameters(), lr=lr)\n",
    "for iter_ in range(num_iter1):\n",
    "    optim1.zero_grad()\n",
    "    y1 = net1(x)\n",
    "    loss1 = criterion1(y1,targets)\n",
    "    iter_loss1.append((iter_,loss1.item()))\n",
    "    loss1.backward()\n",
    "    optim1.step()\n",
    "loss1 = criterion1(y1,targets)\n",
    "iter_loss1.append((iter_+1,loss1.item()))\n",
    "elapsed_time = time.time() - start_time\n",
    "print(elapsed_time)"
   ]
  },
  {
   "cell_type": "code",
   "execution_count": 113,
   "metadata": {},
   "outputs": [
    {
     "ename": "NameError",
     "evalue": "name 'iter_loss1' is not defined",
     "output_type": "error",
     "traceback": [
      "\u001b[0;31m---------------------------------------------------------------------------\u001b[0m",
      "\u001b[0;31mNameError\u001b[0m                                 Traceback (most recent call last)",
      "\u001b[0;32m<ipython-input-113-3ccd3eb15dad>\u001b[0m in \u001b[0;36m<module>\u001b[0;34m\u001b[0m\n\u001b[1;32m      1\u001b[0m \u001b[0mstart\u001b[0m \u001b[0;34m=\u001b[0m \u001b[0;36m2000\u001b[0m\u001b[0;34m\u001b[0m\u001b[0;34m\u001b[0m\u001b[0m\n\u001b[1;32m      2\u001b[0m \u001b[0mstop\u001b[0m \u001b[0;34m=\u001b[0m \u001b[0;36m300000\u001b[0m\u001b[0;34m\u001b[0m\u001b[0;34m\u001b[0m\u001b[0m\n\u001b[0;32m----> 3\u001b[0;31m \u001b[0miter_\u001b[0m\u001b[0;34m,\u001b[0m \u001b[0mloss1\u001b[0m \u001b[0;34m=\u001b[0m \u001b[0mzip\u001b[0m\u001b[0;34m(\u001b[0m\u001b[0;34m*\u001b[0m\u001b[0miter_loss1\u001b[0m\u001b[0;34m)\u001b[0m\u001b[0;34m\u001b[0m\u001b[0;34m\u001b[0m\u001b[0m\n\u001b[0m\u001b[1;32m      4\u001b[0m \u001b[0mplt\u001b[0m\u001b[0;34m.\u001b[0m\u001b[0mplot\u001b[0m\u001b[0;34m(\u001b[0m\u001b[0miter_\u001b[0m\u001b[0;34m[\u001b[0m\u001b[0mstart\u001b[0m\u001b[0;34m:\u001b[0m\u001b[0mstop\u001b[0m\u001b[0;34m]\u001b[0m\u001b[0;34m,\u001b[0m \u001b[0mloss1\u001b[0m\u001b[0;34m[\u001b[0m\u001b[0mstart\u001b[0m\u001b[0;34m:\u001b[0m\u001b[0mstop\u001b[0m\u001b[0;34m]\u001b[0m\u001b[0;34m)\u001b[0m\u001b[0;34m\u001b[0m\u001b[0;34m\u001b[0m\u001b[0m\n\u001b[1;32m      5\u001b[0m \u001b[0mprint\u001b[0m\u001b[0;34m(\u001b[0m\u001b[0mmin\u001b[0m\u001b[0;34m(\u001b[0m\u001b[0mloss1\u001b[0m\u001b[0;34m)\u001b[0m\u001b[0;34m)\u001b[0m\u001b[0;34m\u001b[0m\u001b[0;34m\u001b[0m\u001b[0m\n",
      "\u001b[0;31mNameError\u001b[0m: name 'iter_loss1' is not defined"
     ]
    }
   ],
   "source": [
    "start = 2000\n",
    "stop = 300000\n",
    "iter_, loss1 = zip(*iter_loss1)\n",
    "plt.plot(iter_[start:stop], loss1[start:stop])\n",
    "print(min(loss1))\n",
    "\n",
    "iter_, loss2 = zip(*iter_loss2)\n",
    "plt.plot(iter_[start:stop], loss2[start:stop])\n",
    "print(min(loss2))"
   ]
  },
  {
   "cell_type": "code",
   "execution_count": 240,
   "metadata": {},
   "outputs": [],
   "source": [
    "def net_at_stationary_point(iter_loss, iter_interval=100, percentage=1):\n",
    "    loss1, loss2 = iter_loss[-iter_interval][1], iter_loss[-1][1]\n",
    "    return abs(loss1-loss2)/loss1*100 < percentage"
   ]
  },
  {
   "cell_type": "code",
   "execution_count": 277,
   "metadata": {
    "scrolled": true
   },
   "outputs": [
    {
     "name": "stdout",
     "output_type": "stream",
     "text": [
      "[36399] At stationary point:  calculating eqivelant net ..\n",
      "[47199] At stationary point:  calculating eqivelant net ..\n",
      "[47299] At stationary point:  calculating eqivelant net ..\n",
      "[56499] At stationary point:  calculating eqivelant net ..\n",
      "[56599] At stationary point:  calculating eqivelant net ..\n",
      "[64899] At stationary point:  calculating eqivelant net ..\n",
      "[64999] At stationary point:  calculating eqivelant net ..\n",
      "[65099] At stationary point:  calculating eqivelant net ..\n",
      "[65199] At stationary point:  calculating eqivelant net ..\n",
      "[65299] At stationary point:  calculating eqivelant net ..\n",
      "[65399] At stationary point:  calculating eqivelant net ..\n",
      "[65699] At stationary point:  calculating eqivelant net ..\n",
      "[65799] At stationary point:  calculating eqivelant net ..\n",
      "[65899] At stationary point:  calculating eqivelant net ..\n",
      "[65999] At stationary point:  calculating eqivelant net ..\n",
      "[70999] At stationary point:  calculating eqivelant net ..\n",
      "[71099] At stationary point:  calculating eqivelant net ..\n",
      "[71199] At stationary point:  calculating eqivelant net ..\n",
      "[71299] At stationary point:  calculating eqivelant net ..\n",
      "[71499] At stationary point:  calculating eqivelant net ..\n",
      "[71599] At stationary point:  calculating eqivelant net ..\n",
      "[71699] At stationary point:  calculating eqivelant net ..\n",
      "[71799] At stationary point:  calculating eqivelant net ..\n",
      "[74799] At stationary point:  calculating eqivelant net ..\n",
      "[74899] At stationary point:  calculating eqivelant net ..\n",
      "[74999] At stationary point:  calculating eqivelant net ..\n",
      "[75099] At stationary point:  calculating eqivelant net ..\n",
      "[75199] At stationary point:  calculating eqivelant net ..\n",
      "[75299] At stationary point:  calculating eqivelant net ..\n",
      "[75399] At stationary point:  calculating eqivelant net ..\n",
      "[75499] At stationary point:  calculating eqivelant net ..\n",
      "[77099] At stationary point:  calculating eqivelant net ..\n",
      "[77199] At stationary point:  calculating eqivelant net ..\n",
      "[77299] At stationary point:  calculating eqivelant net ..\n",
      "[77399] At stationary point:  calculating eqivelant net ..\n",
      "[77499] At stationary point:  calculating eqivelant net ..\n",
      "[77599] At stationary point:  calculating eqivelant net ..\n",
      "[77699] At stationary point:  calculating eqivelant net ..\n",
      "[77799] At stationary point:  calculating eqivelant net ..\n",
      "[77899] At stationary point:  calculating eqivelant net ..\n",
      "[77999] At stationary point:  calculating eqivelant net ..\n",
      "[79399] At stationary point:  calculating eqivelant net ..\n",
      "[79499] At stationary point:  calculating eqivelant net ..\n",
      "[79699] At stationary point:  calculating eqivelant net ..\n",
      "[79799] At stationary point:  calculating eqivelant net ..\n",
      "[80899] At stationary point:  calculating eqivelant net ..\n",
      "[80999] At stationary point:  calculating eqivelant net ..\n",
      "[81099] At stationary point:  calculating eqivelant net ..\n",
      "[81199] At stationary point:  calculating eqivelant net ..\n",
      "[81299] At stationary point:  calculating eqivelant net ..\n",
      "[81399] At stationary point:  calculating eqivelant net ..\n",
      "[81499] At stationary point:  calculating eqivelant net ..\n",
      "[81599] At stationary point:  calculating eqivelant net ..\n",
      "[81699] At stationary point:  calculating eqivelant net ..\n",
      "[81799] At stationary point:  calculating eqivelant net ..\n",
      "[81899] At stationary point:  calculating eqivelant net ..\n",
      "[81999] At stationary point:  calculating eqivelant net ..\n",
      "[82099] At stationary point:  calculating eqivelant net ..\n",
      "[82199] At stationary point:  calculating eqivelant net ..\n",
      "[82299] At stationary point:  calculating eqivelant net ..\n",
      "[82399] At stationary point:  calculating eqivelant net ..\n",
      "[82499] At stationary point:  calculating eqivelant net ..\n",
      "[82599] At stationary point:  calculating eqivelant net ..\n",
      "[82699] At stationary point:  calculating eqivelant net ..\n",
      "[82799] At stationary point:  calculating eqivelant net ..\n",
      "[82899] At stationary point:  calculating eqivelant net ..\n",
      "[82999] At stationary point:  calculating eqivelant net ..\n",
      "[83099] At stationary point:  calculating eqivelant net ..\n",
      "[83199] At stationary point:  calculating eqivelant net ..\n",
      "[83299] At stationary point:  calculating eqivelant net ..\n",
      "[83399] At stationary point:  calculating eqivelant net ..\n",
      "[83499] At stationary point:  calculating eqivelant net ..\n",
      "[83599] At stationary point:  calculating eqivelant net ..\n",
      "[83699] At stationary point:  calculating eqivelant net ..\n",
      "[83799] At stationary point:  calculating eqivelant net ..\n",
      "[84099] At stationary point:  calculating eqivelant net ..\n",
      "[84199] At stationary point:  calculating eqivelant net ..\n",
      "[84299] At stationary point:  calculating eqivelant net ..\n",
      "[84399] At stationary point:  calculating eqivelant net ..\n",
      "[84499] At stationary point:  calculating eqivelant net ..\n",
      "[84599] At stationary point:  calculating eqivelant net ..\n",
      "[84699] At stationary point:  calculating eqivelant net ..\n",
      "[84799] At stationary point:  calculating eqivelant net ..\n",
      "[84899] At stationary point:  calculating eqivelant net ..\n",
      "[84999] At stationary point:  calculating eqivelant net ..\n",
      "[85099] At stationary point:  calculating eqivelant net ..\n",
      "[85199] At stationary point:  calculating eqivelant net ..\n",
      "[85299] At stationary point:  calculating eqivelant net ..\n",
      "[85399] At stationary point:  calculating eqivelant net ..\n",
      "[85499] At stationary point:  calculating eqivelant net ..\n",
      "[85599] At stationary point:  calculating eqivelant net ..\n",
      "[85899] At stationary point:  calculating eqivelant net ..\n",
      "[85999] At stationary point:  calculating eqivelant net ..\n",
      "[86099] At stationary point:  calculating eqivelant net ..\n",
      "[86199] At stationary point:  calculating eqivelant net ..\n",
      "[86299] At stationary point:  calculating eqivelant net ..\n",
      "[86399] At stationary point:  calculating eqivelant net ..\n",
      "[86499] At stationary point:  calculating eqivelant net ..\n",
      "[86599] At stationary point:  calculating eqivelant net ..\n",
      "[86699] At stationary point:  calculating eqivelant net ..\n",
      "[86799] At stationary point:  calculating eqivelant net ..\n",
      "[86899] At stationary point:  calculating eqivelant net ..\n",
      "[86999] At stationary point:  calculating eqivelant net ..\n",
      "[92699] At stationary point:  calculating eqivelant net ..\n",
      "[92799] At stationary point:  calculating eqivelant net ..\n",
      "[92899] At stationary point:  calculating eqivelant net ..\n",
      "[92999] At stationary point:  calculating eqivelant net ..\n",
      "[93099] At stationary point:  calculating eqivelant net ..\n",
      "[93199] At stationary point:  calculating eqivelant net ..\n",
      "[93299] At stationary point:  calculating eqivelant net ..\n",
      "[93399] At stationary point:  calculating eqivelant net ..\n",
      "[93499] At stationary point:  calculating eqivelant net ..\n",
      "[93599] At stationary point:  calculating eqivelant net ..\n",
      "[94999] At stationary point:  calculating eqivelant net ..\n",
      "[95099] At stationary point:  calculating eqivelant net ..\n",
      "[95199] At stationary point:  calculating eqivelant net ..\n",
      "[95299] At stationary point:  calculating eqivelant net ..\n",
      "[95399] At stationary point:  calculating eqivelant net ..\n",
      "[95499] At stationary point:  calculating eqivelant net ..\n",
      "[95599] At stationary point:  calculating eqivelant net ..\n",
      "[95699] At stationary point:  calculating eqivelant net ..\n",
      "[95799] At stationary point:  calculating eqivelant net ..\n",
      "[95899] At stationary point:  calculating eqivelant net ..\n",
      "[95999] At stationary point:  calculating eqivelant net ..\n",
      "[96099] At stationary point:  calculating eqivelant net ..\n",
      "[96199] At stationary point:  calculating eqivelant net ..\n",
      "[96299] At stationary point:  calculating eqivelant net ..\n",
      "[96399] At stationary point:  calculating eqivelant net ..\n",
      "[96499] At stationary point:  calculating eqivelant net ..\n",
      "[96599] At stationary point:  calculating eqivelant net ..\n",
      "[96699] At stationary point:  calculating eqivelant net ..\n",
      "[96799] At stationary point:  calculating eqivelant net ..\n",
      "[96899] At stationary point:  calculating eqivelant net ..\n",
      "[96999] At stationary point:  calculating eqivelant net ..\n",
      "[97099] At stationary point:  calculating eqivelant net ..\n",
      "[97199] At stationary point:  calculating eqivelant net ..\n",
      "[97299] At stationary point:  calculating eqivelant net ..\n",
      "[97399] At stationary point:  calculating eqivelant net ..\n",
      "[97499] At stationary point:  calculating eqivelant net ..\n"
     ]
    },
    {
     "name": "stdout",
     "output_type": "stream",
     "text": [
      "[97599] At stationary point:  calculating eqivelant net ..\n",
      "[97699] At stationary point:  calculating eqivelant net ..\n",
      "[97799] At stationary point:  calculating eqivelant net ..\n",
      "[97899] At stationary point:  calculating eqivelant net ..\n",
      "[97999] At stationary point:  calculating eqivelant net ..\n",
      "[98099] At stationary point:  calculating eqivelant net ..\n",
      "[98199] At stationary point:  calculating eqivelant net ..\n",
      "[98299] At stationary point:  calculating eqivelant net ..\n",
      "[98399] At stationary point:  calculating eqivelant net ..\n",
      "[98499] At stationary point:  calculating eqivelant net ..\n",
      "[98599] At stationary point:  calculating eqivelant net ..\n",
      "[98699] At stationary point:  calculating eqivelant net ..\n",
      "[98799] At stationary point:  calculating eqivelant net ..\n",
      "[98899] At stationary point:  calculating eqivelant net ..\n",
      "[98999] At stationary point:  calculating eqivelant net ..\n",
      "[99099] At stationary point:  calculating eqivelant net ..\n",
      "[102399] At stationary point:  calculating eqivelant net ..\n",
      "[102499] At stationary point:  calculating eqivelant net ..\n",
      "[102599] At stationary point:  calculating eqivelant net ..\n",
      "[102699] At stationary point:  calculating eqivelant net ..\n",
      "[102999] At stationary point:  calculating eqivelant net ..\n",
      "[103099] At stationary point:  calculating eqivelant net ..\n",
      "[103199] At stationary point:  calculating eqivelant net ..\n",
      "[103299] At stationary point:  calculating eqivelant net ..\n",
      "[103399] At stationary point:  calculating eqivelant net ..\n",
      "[103499] At stationary point:  calculating eqivelant net ..\n",
      "[103599] At stationary point:  calculating eqivelant net ..\n",
      "[103699] At stationary point:  calculating eqivelant net ..\n",
      "[103799] At stationary point:  calculating eqivelant net ..\n",
      "[103899] At stationary point:  calculating eqivelant net ..\n",
      "[103999] At stationary point:  calculating eqivelant net ..\n",
      "[104099] At stationary point:  calculating eqivelant net ..\n",
      "[104199] At stationary point:  calculating eqivelant net ..\n",
      "[104299] At stationary point:  calculating eqivelant net ..\n",
      "[104399] At stationary point:  calculating eqivelant net ..\n",
      "[104499] At stationary point:  calculating eqivelant net ..\n",
      "[104599] At stationary point:  calculating eqivelant net ..\n",
      "[104699] At stationary point:  calculating eqivelant net ..\n",
      "[104799] At stationary point:  calculating eqivelant net ..\n",
      "[104899] At stationary point:  calculating eqivelant net ..\n",
      "[104999] At stationary point:  calculating eqivelant net ..\n",
      "[105099] At stationary point:  calculating eqivelant net ..\n",
      "[105199] At stationary point:  calculating eqivelant net ..\n",
      "[105299] At stationary point:  calculating eqivelant net ..\n",
      "[105399] At stationary point:  calculating eqivelant net ..\n",
      "[105499] At stationary point:  calculating eqivelant net ..\n",
      "[105599] At stationary point:  calculating eqivelant net ..\n",
      "[105699] At stationary point:  calculating eqivelant net ..\n",
      "[105799] At stationary point:  calculating eqivelant net ..\n",
      "[105899] At stationary point:  calculating eqivelant net ..\n",
      "[106099] At stationary point:  calculating eqivelant net ..\n",
      "[106199] At stationary point:  calculating eqivelant net ..\n",
      "[106299] At stationary point:  calculating eqivelant net ..\n",
      "[106399] At stationary point:  calculating eqivelant net ..\n",
      "[106499] At stationary point:  calculating eqivelant net ..\n",
      "[106599] At stationary point:  calculating eqivelant net ..\n",
      "[106699] At stationary point:  calculating eqivelant net ..\n",
      "[106799] At stationary point:  calculating eqivelant net ..\n",
      "[107299] At stationary point:  calculating eqivelant net ..\n",
      "[107399] At stationary point:  calculating eqivelant net ..\n",
      "[107499] At stationary point:  calculating eqivelant net ..\n",
      "[107599] At stationary point:  calculating eqivelant net ..\n",
      "[107699] At stationary point:  calculating eqivelant net ..\n",
      "[107799] At stationary point:  calculating eqivelant net ..\n",
      "[107899] At stationary point:  calculating eqivelant net ..\n",
      "[107999] At stationary point:  calculating eqivelant net ..\n",
      "[108099] At stationary point:  calculating eqivelant net ..\n",
      "[108199] At stationary point:  calculating eqivelant net ..\n",
      "[108299] At stationary point:  calculating eqivelant net ..\n",
      "[108399] At stationary point:  calculating eqivelant net ..\n",
      "[108499] At stationary point:  calculating eqivelant net ..\n",
      "[108599] At stationary point:  calculating eqivelant net ..\n",
      "[108699] At stationary point:  calculating eqivelant net ..\n",
      "[108799] At stationary point:  calculating eqivelant net ..\n",
      "[109699] At stationary point:  calculating eqivelant net ..\n",
      "[109799] At stationary point:  calculating eqivelant net ..\n",
      "[109899] At stationary point:  calculating eqivelant net ..\n",
      "[109999] At stationary point:  calculating eqivelant net ..\n",
      "[110099] At stationary point:  calculating eqivelant net ..\n",
      "[110199] At stationary point:  calculating eqivelant net ..\n",
      "[110299] At stationary point:  calculating eqivelant net ..\n",
      "[110399] At stationary point:  calculating eqivelant net ..\n",
      "[111499] At stationary point:  calculating eqivelant net ..\n",
      "[111599] At stationary point:  calculating eqivelant net ..\n",
      "[111699] At stationary point:  calculating eqivelant net ..\n",
      "[111799] At stationary point:  calculating eqivelant net ..\n",
      "[111899] At stationary point:  calculating eqivelant net ..\n",
      "[111999] At stationary point:  calculating eqivelant net ..\n",
      "[112099] At stationary point:  calculating eqivelant net ..\n",
      "[112199] At stationary point:  calculating eqivelant net ..\n",
      "[112299] At stationary point:  calculating eqivelant net ..\n",
      "[112399] At stationary point:  calculating eqivelant net ..\n",
      "[112499] At stationary point:  calculating eqivelant net ..\n",
      "[112599] At stationary point:  calculating eqivelant net ..\n",
      "[112699] At stationary point:  calculating eqivelant net ..\n",
      "[112799] At stationary point:  calculating eqivelant net ..\n",
      "[112899] At stationary point:  calculating eqivelant net ..\n",
      "[112999] At stationary point:  calculating eqivelant net ..\n",
      "[113099] At stationary point:  calculating eqivelant net ..\n",
      "[113199] At stationary point:  calculating eqivelant net ..\n",
      "[113299] At stationary point:  calculating eqivelant net ..\n",
      "[113399] At stationary point:  calculating eqivelant net ..\n",
      "[113499] At stationary point:  calculating eqivelant net ..\n",
      "[113599] At stationary point:  calculating eqivelant net ..\n",
      "[117199] At stationary point:  calculating eqivelant net ..\n",
      "[117299] At stationary point:  calculating eqivelant net ..\n",
      "[117399] At stationary point:  calculating eqivelant net ..\n",
      "[117499] At stationary point:  calculating eqivelant net ..\n",
      "[117599] At stationary point:  calculating eqivelant net ..\n",
      "[117699] At stationary point:  calculating eqivelant net ..\n",
      "[117799] At stationary point:  calculating eqivelant net ..\n",
      "[117899] At stationary point:  calculating eqivelant net ..\n",
      "[117999] At stationary point:  calculating eqivelant net ..\n",
      "[118099] At stationary point:  calculating eqivelant net ..\n",
      "[118199] At stationary point:  calculating eqivelant net ..\n",
      "[118299] At stationary point:  calculating eqivelant net ..\n",
      "[118399] At stationary point:  calculating eqivelant net ..\n",
      "[118499] At stationary point:  calculating eqivelant net ..\n",
      "[118599] At stationary point:  calculating eqivelant net ..\n",
      "[118699] At stationary point:  calculating eqivelant net ..\n",
      "[118899] At stationary point:  calculating eqivelant net ..\n",
      "[118999] At stationary point:  calculating eqivelant net ..\n",
      "[119099] At stationary point:  calculating eqivelant net ..\n",
      "[119199] At stationary point:  calculating eqivelant net ..\n",
      "[119299] At stationary point:  calculating eqivelant net ..\n",
      "[119399] At stationary point:  calculating eqivelant net ..\n",
      "[119499] At stationary point:  calculating eqivelant net ..\n",
      "[119599] At stationary point:  calculating eqivelant net ..\n",
      "[119699] At stationary point:  calculating eqivelant net ..\n",
      "[119799] At stationary point:  calculating eqivelant net ..\n",
      "[119899] At stationary point:  calculating eqivelant net ..\n",
      "[119999] At stationary point:  calculating eqivelant net ..\n",
      "[120099] At stationary point:  calculating eqivelant net ..\n",
      "[120199] At stationary point:  calculating eqivelant net ..\n",
      "[120299] At stationary point:  calculating eqivelant net ..\n",
      "[120399] At stationary point:  calculating eqivelant net ..\n",
      "[120499] At stationary point:  calculating eqivelant net ..\n"
     ]
    },
    {
     "name": "stdout",
     "output_type": "stream",
     "text": [
      "[120599] At stationary point:  calculating eqivelant net ..\n",
      "[120699] At stationary point:  calculating eqivelant net ..\n",
      "[120799] At stationary point:  calculating eqivelant net ..\n",
      "[120804] Bad location:  retrive to old net ..\n",
      "[120899] At stationary point:  calculating eqivelant net ..\n",
      "[120999] At stationary point:  calculating eqivelant net ..\n",
      "[121099] At stationary point:  calculating eqivelant net ..\n",
      "[121199] At stationary point:  calculating eqivelant net ..\n",
      "[121299] At stationary point:  calculating eqivelant net ..\n",
      "[121399] At stationary point:  calculating eqivelant net ..\n",
      "[121499] At stationary point:  calculating eqivelant net ..\n",
      "[121599] At stationary point:  calculating eqivelant net ..\n",
      "[121699] At stationary point:  calculating eqivelant net ..\n",
      "[121799] At stationary point:  calculating eqivelant net ..\n",
      "[121899] At stationary point:  calculating eqivelant net ..\n",
      "[121999] At stationary point:  calculating eqivelant net ..\n",
      "[122099] At stationary point:  calculating eqivelant net ..\n",
      "[122199] At stationary point:  calculating eqivelant net ..\n",
      "[122299] At stationary point:  calculating eqivelant net ..\n",
      "[122399] At stationary point:  calculating eqivelant net ..\n",
      "[122499] At stationary point:  calculating eqivelant net ..\n",
      "[122599] At stationary point:  calculating eqivelant net ..\n",
      "[122699] At stationary point:  calculating eqivelant net ..\n",
      "[122799] At stationary point:  calculating eqivelant net ..\n",
      "[122899] At stationary point:  calculating eqivelant net ..\n",
      "[122999] At stationary point:  calculating eqivelant net ..\n",
      "[123099] At stationary point:  calculating eqivelant net ..\n",
      "[123199] At stationary point:  calculating eqivelant net ..\n",
      "[123299] At stationary point:  calculating eqivelant net ..\n",
      "[123399] At stationary point:  calculating eqivelant net ..\n",
      "[123499] At stationary point:  calculating eqivelant net ..\n",
      "[123599] At stationary point:  calculating eqivelant net ..\n",
      "[123699] At stationary point:  calculating eqivelant net ..\n",
      "[123799] At stationary point:  calculating eqivelant net ..\n",
      "[123899] At stationary point:  calculating eqivelant net ..\n",
      "[123999] At stationary point:  calculating eqivelant net ..\n",
      "[124099] At stationary point:  calculating eqivelant net ..\n",
      "[124199] At stationary point:  calculating eqivelant net ..\n",
      "[124299] At stationary point:  calculating eqivelant net ..\n",
      "[124399] At stationary point:  calculating eqivelant net ..\n",
      "[124499] At stationary point:  calculating eqivelant net ..\n",
      "[124599] At stationary point:  calculating eqivelant net ..\n",
      "[124699] At stationary point:  calculating eqivelant net ..\n",
      "[124799] At stationary point:  calculating eqivelant net ..\n",
      "[124899] At stationary point:  calculating eqivelant net ..\n",
      "[124999] At stationary point:  calculating eqivelant net ..\n",
      "[125099] At stationary point:  calculating eqivelant net ..\n",
      "[125599] At stationary point:  calculating eqivelant net ..\n",
      "[125699] At stationary point:  calculating eqivelant net ..\n",
      "[125799] At stationary point:  calculating eqivelant net ..\n",
      "[125899] At stationary point:  calculating eqivelant net ..\n",
      "[125999] At stationary point:  calculating eqivelant net ..\n",
      "[126099] At stationary point:  calculating eqivelant net ..\n",
      "[126199] At stationary point:  calculating eqivelant net ..\n",
      "[126299] At stationary point:  calculating eqivelant net ..\n",
      "[126399] At stationary point:  calculating eqivelant net ..\n",
      "[126499] At stationary point:  calculating eqivelant net ..\n",
      "[126599] At stationary point:  calculating eqivelant net ..\n",
      "[126699] At stationary point:  calculating eqivelant net ..\n",
      "[126799] At stationary point:  calculating eqivelant net ..\n",
      "[126899] At stationary point:  calculating eqivelant net ..\n",
      "[126999] At stationary point:  calculating eqivelant net ..\n",
      "[127099] At stationary point:  calculating eqivelant net ..\n",
      "[127199] At stationary point:  calculating eqivelant net ..\n",
      "[127299] At stationary point:  calculating eqivelant net ..\n",
      "[127399] At stationary point:  calculating eqivelant net ..\n",
      "[127499] At stationary point:  calculating eqivelant net ..\n",
      "[127599] At stationary point:  calculating eqivelant net ..\n",
      "[127699] At stationary point:  calculating eqivelant net ..\n",
      "[127799] At stationary point:  calculating eqivelant net ..\n",
      "[127899] At stationary point:  calculating eqivelant net ..\n",
      "[127999] At stationary point:  calculating eqivelant net ..\n",
      "[128099] At stationary point:  calculating eqivelant net ..\n",
      "[128199] At stationary point:  calculating eqivelant net ..\n",
      "[128299] At stationary point:  calculating eqivelant net ..\n",
      "[128399] At stationary point:  calculating eqivelant net ..\n",
      "[128499] At stationary point:  calculating eqivelant net ..\n",
      "[128599] At stationary point:  calculating eqivelant net ..\n",
      "[128699] At stationary point:  calculating eqivelant net ..\n",
      "[128799] At stationary point:  calculating eqivelant net ..\n",
      "[128899] At stationary point:  calculating eqivelant net ..\n",
      "[128999] At stationary point:  calculating eqivelant net ..\n",
      "[129099] At stationary point:  calculating eqivelant net ..\n",
      "[129199] At stationary point:  calculating eqivelant net ..\n",
      "[129299] At stationary point:  calculating eqivelant net ..\n",
      "[129399] At stationary point:  calculating eqivelant net ..\n",
      "[129499] At stationary point:  calculating eqivelant net ..\n",
      "[129599] At stationary point:  calculating eqivelant net ..\n",
      "[129699] At stationary point:  calculating eqivelant net ..\n",
      "[129799] At stationary point:  calculating eqivelant net ..\n",
      "[129899] At stationary point:  calculating eqivelant net ..\n",
      "[129999] At stationary point:  calculating eqivelant net ..\n",
      "[130099] At stationary point:  calculating eqivelant net ..\n",
      "[130199] At stationary point:  calculating eqivelant net ..\n",
      "[130299] At stationary point:  calculating eqivelant net ..\n",
      "[130399] At stationary point:  calculating eqivelant net ..\n",
      "[130499] At stationary point:  calculating eqivelant net ..\n",
      "[130599] At stationary point:  calculating eqivelant net ..\n",
      "[130699] At stationary point:  calculating eqivelant net ..\n",
      "[130799] At stationary point:  calculating eqivelant net ..\n",
      "[130899] At stationary point:  calculating eqivelant net ..\n",
      "[130999] At stationary point:  calculating eqivelant net ..\n",
      "[131099] At stationary point:  calculating eqivelant net ..\n",
      "[131199] At stationary point:  calculating eqivelant net ..\n",
      "[131299] At stationary point:  calculating eqivelant net ..\n",
      "[131399] At stationary point:  calculating eqivelant net ..\n",
      "[131499] At stationary point:  calculating eqivelant net ..\n",
      "[131599] At stationary point:  calculating eqivelant net ..\n",
      "[131699] At stationary point:  calculating eqivelant net ..\n",
      "[131799] At stationary point:  calculating eqivelant net ..\n",
      "[131899] At stationary point:  calculating eqivelant net ..\n",
      "[131999] At stationary point:  calculating eqivelant net ..\n",
      "[132099] At stationary point:  calculating eqivelant net ..\n",
      "[132199] At stationary point:  calculating eqivelant net ..\n",
      "[132299] At stationary point:  calculating eqivelant net ..\n",
      "[132399] At stationary point:  calculating eqivelant net ..\n",
      "[132499] At stationary point:  calculating eqivelant net ..\n",
      "[132599] At stationary point:  calculating eqivelant net ..\n",
      "[132699] At stationary point:  calculating eqivelant net ..\n",
      "[132799] At stationary point:  calculating eqivelant net ..\n",
      "[132899] At stationary point:  calculating eqivelant net ..\n",
      "[132999] At stationary point:  calculating eqivelant net ..\n",
      "[133099] At stationary point:  calculating eqivelant net ..\n",
      "[133199] At stationary point:  calculating eqivelant net ..\n",
      "[133299] At stationary point:  calculating eqivelant net ..\n",
      "[135099] At stationary point:  calculating eqivelant net ..\n",
      "[135199] At stationary point:  calculating eqivelant net ..\n",
      "[135299] At stationary point:  calculating eqivelant net ..\n",
      "[135399] At stationary point:  calculating eqivelant net ..\n",
      "[135499] At stationary point:  calculating eqivelant net ..\n",
      "[135599] At stationary point:  calculating eqivelant net ..\n",
      "[135699] At stationary point:  calculating eqivelant net ..\n",
      "[135799] At stationary point:  calculating eqivelant net ..\n",
      "[135899] At stationary point:  calculating eqivelant net ..\n",
      "[135999] At stationary point:  calculating eqivelant net ..\n",
      "[136099] At stationary point:  calculating eqivelant net ..\n",
      "[136199] At stationary point:  calculating eqivelant net ..\n"
     ]
    },
    {
     "name": "stdout",
     "output_type": "stream",
     "text": [
      "[136299] At stationary point:  calculating eqivelant net ..\n",
      "[136399] At stationary point:  calculating eqivelant net ..\n",
      "[136499] At stationary point:  calculating eqivelant net ..\n",
      "[136599] At stationary point:  calculating eqivelant net ..\n",
      "[136699] At stationary point:  calculating eqivelant net ..\n",
      "[136799] At stationary point:  calculating eqivelant net ..\n",
      "[136899] At stationary point:  calculating eqivelant net ..\n",
      "[136999] At stationary point:  calculating eqivelant net ..\n",
      "[137099] At stationary point:  calculating eqivelant net ..\n",
      "[137199] At stationary point:  calculating eqivelant net ..\n",
      "[137299] At stationary point:  calculating eqivelant net ..\n",
      "[137399] At stationary point:  calculating eqivelant net ..\n",
      "[137499] At stationary point:  calculating eqivelant net ..\n",
      "[137599] At stationary point:  calculating eqivelant net ..\n",
      "[137699] At stationary point:  calculating eqivelant net ..\n",
      "[137799] At stationary point:  calculating eqivelant net ..\n",
      "[137899] At stationary point:  calculating eqivelant net ..\n",
      "[137999] At stationary point:  calculating eqivelant net ..\n",
      "[138099] At stationary point:  calculating eqivelant net ..\n",
      "[138199] At stationary point:  calculating eqivelant net ..\n",
      "[138299] At stationary point:  calculating eqivelant net ..\n",
      "[138399] At stationary point:  calculating eqivelant net ..\n",
      "[138499] At stationary point:  calculating eqivelant net ..\n",
      "[138599] At stationary point:  calculating eqivelant net ..\n",
      "[138699] At stationary point:  calculating eqivelant net ..\n",
      "[138799] At stationary point:  calculating eqivelant net ..\n",
      "[138899] At stationary point:  calculating eqivelant net ..\n",
      "[138999] At stationary point:  calculating eqivelant net ..\n",
      "[139099] At stationary point:  calculating eqivelant net ..\n",
      "[139199] At stationary point:  calculating eqivelant net ..\n",
      "[139299] At stationary point:  calculating eqivelant net ..\n",
      "[139399] At stationary point:  calculating eqivelant net ..\n",
      "[139499] At stationary point:  calculating eqivelant net ..\n",
      "[139599] At stationary point:  calculating eqivelant net ..\n",
      "[139699] At stationary point:  calculating eqivelant net ..\n",
      "[139799] At stationary point:  calculating eqivelant net ..\n",
      "[139899] At stationary point:  calculating eqivelant net ..\n",
      "[139999] At stationary point:  calculating eqivelant net ..\n",
      "[140099] At stationary point:  calculating eqivelant net ..\n",
      "[140199] At stationary point:  calculating eqivelant net ..\n",
      "[140299] At stationary point:  calculating eqivelant net ..\n",
      "[140399] At stationary point:  calculating eqivelant net ..\n",
      "[140499] At stationary point:  calculating eqivelant net ..\n",
      "[140599] At stationary point:  calculating eqivelant net ..\n",
      "[140699] At stationary point:  calculating eqivelant net ..\n",
      "[140799] At stationary point:  calculating eqivelant net ..\n",
      "[140899] At stationary point:  calculating eqivelant net ..\n",
      "[140999] At stationary point:  calculating eqivelant net ..\n",
      "[141099] At stationary point:  calculating eqivelant net ..\n",
      "[141199] At stationary point:  calculating eqivelant net ..\n",
      "[141299] At stationary point:  calculating eqivelant net ..\n",
      "[141399] At stationary point:  calculating eqivelant net ..\n",
      "[141499] At stationary point:  calculating eqivelant net ..\n",
      "[141599] At stationary point:  calculating eqivelant net ..\n",
      "[141699] At stationary point:  calculating eqivelant net ..\n",
      "[141799] At stationary point:  calculating eqivelant net ..\n",
      "[141899] At stationary point:  calculating eqivelant net ..\n",
      "[141999] At stationary point:  calculating eqivelant net ..\n",
      "[142099] At stationary point:  calculating eqivelant net ..\n",
      "[142199] At stationary point:  calculating eqivelant net ..\n",
      "[142299] At stationary point:  calculating eqivelant net ..\n",
      "[142399] At stationary point:  calculating eqivelant net ..\n",
      "[142499] At stationary point:  calculating eqivelant net ..\n",
      "[142599] At stationary point:  calculating eqivelant net ..\n",
      "[142699] At stationary point:  calculating eqivelant net ..\n",
      "[142799] At stationary point:  calculating eqivelant net ..\n",
      "[142899] At stationary point:  calculating eqivelant net ..\n",
      "[142999] At stationary point:  calculating eqivelant net ..\n",
      "[143099] At stationary point:  calculating eqivelant net ..\n",
      "[143199] At stationary point:  calculating eqivelant net ..\n",
      "[143299] At stationary point:  calculating eqivelant net ..\n",
      "[143399] At stationary point:  calculating eqivelant net ..\n",
      "[143499] At stationary point:  calculating eqivelant net ..\n",
      "[143599] At stationary point:  calculating eqivelant net ..\n",
      "[143699] At stationary point:  calculating eqivelant net ..\n",
      "[143799] At stationary point:  calculating eqivelant net ..\n",
      "[143899] At stationary point:  calculating eqivelant net ..\n",
      "[143999] At stationary point:  calculating eqivelant net ..\n",
      "[144099] At stationary point:  calculating eqivelant net ..\n",
      "[144199] At stationary point:  calculating eqivelant net ..\n",
      "[144299] At stationary point:  calculating eqivelant net ..\n",
      "[144399] At stationary point:  calculating eqivelant net ..\n",
      "[144499] At stationary point:  calculating eqivelant net ..\n",
      "[144599] At stationary point:  calculating eqivelant net ..\n",
      "[144699] At stationary point:  calculating eqivelant net ..\n",
      "[144799] At stationary point:  calculating eqivelant net ..\n",
      "[144899] At stationary point:  calculating eqivelant net ..\n",
      "[144999] At stationary point:  calculating eqivelant net ..\n",
      "[145099] At stationary point:  calculating eqivelant net ..\n",
      "[145199] At stationary point:  calculating eqivelant net ..\n",
      "[145299] At stationary point:  calculating eqivelant net ..\n",
      "[145399] At stationary point:  calculating eqivelant net ..\n",
      "[145499] At stationary point:  calculating eqivelant net ..\n",
      "[145599] At stationary point:  calculating eqivelant net ..\n",
      "[145699] At stationary point:  calculating eqivelant net ..\n",
      "[145799] At stationary point:  calculating eqivelant net ..\n",
      "[145899] At stationary point:  calculating eqivelant net ..\n",
      "[145999] At stationary point:  calculating eqivelant net ..\n",
      "[146299] At stationary point:  calculating eqivelant net ..\n",
      "[146399] At stationary point:  calculating eqivelant net ..\n",
      "[148999] At stationary point:  calculating eqivelant net ..\n",
      "[149099] At stationary point:  calculating eqivelant net ..\n",
      "[149199] At stationary point:  calculating eqivelant net ..\n",
      "[149299] At stationary point:  calculating eqivelant net ..\n",
      "[149399] At stationary point:  calculating eqivelant net ..\n",
      "[149499] At stationary point:  calculating eqivelant net ..\n",
      "[149599] At stationary point:  calculating eqivelant net ..\n",
      "[149699] At stationary point:  calculating eqivelant net ..\n",
      "[149799] At stationary point:  calculating eqivelant net ..\n",
      "[149899] At stationary point:  calculating eqivelant net ..\n",
      "[149999] At stationary point:  calculating eqivelant net ..\n",
      "[150099] At stationary point:  calculating eqivelant net ..\n",
      "[150199] At stationary point:  calculating eqivelant net ..\n",
      "[150299] At stationary point:  calculating eqivelant net ..\n",
      "[150399] At stationary point:  calculating eqivelant net ..\n",
      "[150499] At stationary point:  calculating eqivelant net ..\n",
      "[150599] At stationary point:  calculating eqivelant net ..\n",
      "[150699] At stationary point:  calculating eqivelant net ..\n",
      "[150799] At stationary point:  calculating eqivelant net ..\n",
      "[150899] At stationary point:  calculating eqivelant net ..\n",
      "[150999] At stationary point:  calculating eqivelant net ..\n",
      "[151099] At stationary point:  calculating eqivelant net ..\n",
      "[151199] At stationary point:  calculating eqivelant net ..\n",
      "[151299] At stationary point:  calculating eqivelant net ..\n",
      "[151399] At stationary point:  calculating eqivelant net ..\n",
      "[151499] At stationary point:  calculating eqivelant net ..\n",
      "[151599] At stationary point:  calculating eqivelant net ..\n",
      "[151699] At stationary point:  calculating eqivelant net ..\n",
      "[151799] At stationary point:  calculating eqivelant net ..\n",
      "[151899] At stationary point:  calculating eqivelant net ..\n",
      "[151999] At stationary point:  calculating eqivelant net ..\n",
      "[152099] At stationary point:  calculating eqivelant net ..\n",
      "[152199] At stationary point:  calculating eqivelant net ..\n",
      "[152299] At stationary point:  calculating eqivelant net ..\n",
      "[152399] At stationary point:  calculating eqivelant net ..\n",
      "[152499] At stationary point:  calculating eqivelant net ..\n",
      "[152503] Bad location:  retrive to old net ..\n"
     ]
    },
    {
     "name": "stdout",
     "output_type": "stream",
     "text": [
      "[152599] At stationary point:  calculating eqivelant net ..\n",
      "[152699] At stationary point:  calculating eqivelant net ..\n",
      "[152799] At stationary point:  calculating eqivelant net ..\n",
      "[152899] At stationary point:  calculating eqivelant net ..\n",
      "[152999] At stationary point:  calculating eqivelant net ..\n",
      "[153099] At stationary point:  calculating eqivelant net ..\n",
      "[153199] At stationary point:  calculating eqivelant net ..\n",
      "[153299] At stationary point:  calculating eqivelant net ..\n",
      "[153399] At stationary point:  calculating eqivelant net ..\n",
      "[153499] At stationary point:  calculating eqivelant net ..\n",
      "[153599] At stationary point:  calculating eqivelant net ..\n",
      "[154199] At stationary point:  calculating eqivelant net ..\n",
      "[154299] At stationary point:  calculating eqivelant net ..\n",
      "[154399] At stationary point:  calculating eqivelant net ..\n",
      "[154499] At stationary point:  calculating eqivelant net ..\n",
      "[154599] At stationary point:  calculating eqivelant net ..\n",
      "[154699] At stationary point:  calculating eqivelant net ..\n",
      "[154799] At stationary point:  calculating eqivelant net ..\n",
      "[154899] At stationary point:  calculating eqivelant net ..\n",
      "[154999] At stationary point:  calculating eqivelant net ..\n",
      "[155099] At stationary point:  calculating eqivelant net ..\n",
      "[155199] At stationary point:  calculating eqivelant net ..\n",
      "[155299] At stationary point:  calculating eqivelant net ..\n",
      "[155399] At stationary point:  calculating eqivelant net ..\n",
      "[155499] At stationary point:  calculating eqivelant net ..\n",
      "[155599] At stationary point:  calculating eqivelant net ..\n",
      "[155699] At stationary point:  calculating eqivelant net ..\n",
      "[155799] At stationary point:  calculating eqivelant net ..\n",
      "[155899] At stationary point:  calculating eqivelant net ..\n",
      "[155999] At stationary point:  calculating eqivelant net ..\n",
      "[156099] At stationary point:  calculating eqivelant net ..\n",
      "[156199] At stationary point:  calculating eqivelant net ..\n",
      "[156299] At stationary point:  calculating eqivelant net ..\n",
      "[156399] At stationary point:  calculating eqivelant net ..\n",
      "[156499] At stationary point:  calculating eqivelant net ..\n",
      "[156599] At stationary point:  calculating eqivelant net ..\n",
      "[156699] At stationary point:  calculating eqivelant net ..\n",
      "[156799] At stationary point:  calculating eqivelant net ..\n",
      "[156899] At stationary point:  calculating eqivelant net ..\n",
      "[156999] At stationary point:  calculating eqivelant net ..\n",
      "[157099] At stationary point:  calculating eqivelant net ..\n",
      "[157199] At stationary point:  calculating eqivelant net ..\n",
      "[157299] At stationary point:  calculating eqivelant net ..\n",
      "[157399] At stationary point:  calculating eqivelant net ..\n",
      "[157499] At stationary point:  calculating eqivelant net ..\n",
      "[157599] At stationary point:  calculating eqivelant net ..\n",
      "[157699] At stationary point:  calculating eqivelant net ..\n",
      "[157799] At stationary point:  calculating eqivelant net ..\n",
      "[157899] At stationary point:  calculating eqivelant net ..\n",
      "[157999] At stationary point:  calculating eqivelant net ..\n",
      "[158099] At stationary point:  calculating eqivelant net ..\n",
      "[158199] At stationary point:  calculating eqivelant net ..\n",
      "[158299] At stationary point:  calculating eqivelant net ..\n",
      "[158399] At stationary point:  calculating eqivelant net ..\n",
      "[158499] At stationary point:  calculating eqivelant net ..\n",
      "[158599] At stationary point:  calculating eqivelant net ..\n",
      "[158699] At stationary point:  calculating eqivelant net ..\n",
      "[158799] At stationary point:  calculating eqivelant net ..\n",
      "[158899] At stationary point:  calculating eqivelant net ..\n",
      "[158999] At stationary point:  calculating eqivelant net ..\n",
      "[159099] At stationary point:  calculating eqivelant net ..\n",
      "[159199] At stationary point:  calculating eqivelant net ..\n",
      "[159299] At stationary point:  calculating eqivelant net ..\n",
      "[159399] At stationary point:  calculating eqivelant net ..\n",
      "[159499] At stationary point:  calculating eqivelant net ..\n",
      "[159599] At stationary point:  calculating eqivelant net ..\n",
      "[159699] At stationary point:  calculating eqivelant net ..\n",
      "[159799] At stationary point:  calculating eqivelant net ..\n",
      "[159899] At stationary point:  calculating eqivelant net ..\n",
      "[159999] At stationary point:  calculating eqivelant net ..\n",
      "[160099] At stationary point:  calculating eqivelant net ..\n",
      "[160199] At stationary point:  calculating eqivelant net ..\n",
      "[160299] At stationary point:  calculating eqivelant net ..\n",
      "[160399] At stationary point:  calculating eqivelant net ..\n",
      "[160499] At stationary point:  calculating eqivelant net ..\n",
      "[160599] At stationary point:  calculating eqivelant net ..\n",
      "[160699] At stationary point:  calculating eqivelant net ..\n",
      "[160799] At stationary point:  calculating eqivelant net ..\n",
      "[160899] At stationary point:  calculating eqivelant net ..\n",
      "[160999] At stationary point:  calculating eqivelant net ..\n",
      "[161099] At stationary point:  calculating eqivelant net ..\n",
      "[161199] At stationary point:  calculating eqivelant net ..\n",
      "[161299] At stationary point:  calculating eqivelant net ..\n",
      "[161399] At stationary point:  calculating eqivelant net ..\n",
      "[161499] At stationary point:  calculating eqivelant net ..\n",
      "[161599] At stationary point:  calculating eqivelant net ..\n",
      "[161699] At stationary point:  calculating eqivelant net ..\n",
      "[161799] At stationary point:  calculating eqivelant net ..\n",
      "[161899] At stationary point:  calculating eqivelant net ..\n",
      "[161999] At stationary point:  calculating eqivelant net ..\n",
      "[162099] At stationary point:  calculating eqivelant net ..\n",
      "[162199] At stationary point:  calculating eqivelant net ..\n",
      "[162299] At stationary point:  calculating eqivelant net ..\n",
      "[162399] At stationary point:  calculating eqivelant net ..\n",
      "[162499] At stationary point:  calculating eqivelant net ..\n",
      "[162599] At stationary point:  calculating eqivelant net ..\n",
      "[162699] At stationary point:  calculating eqivelant net ..\n",
      "[162799] At stationary point:  calculating eqivelant net ..\n",
      "[162899] At stationary point:  calculating eqivelant net ..\n",
      "[162999] At stationary point:  calculating eqivelant net ..\n",
      "[163099] At stationary point:  calculating eqivelant net ..\n",
      "[163599] At stationary point:  calculating eqivelant net ..\n",
      "[163699] At stationary point:  calculating eqivelant net ..\n",
      "[163799] At stationary point:  calculating eqivelant net ..\n",
      "[163899] At stationary point:  calculating eqivelant net ..\n",
      "[163999] At stationary point:  calculating eqivelant net ..\n",
      "[164099] At stationary point:  calculating eqivelant net ..\n",
      "[164199] At stationary point:  calculating eqivelant net ..\n",
      "[164299] At stationary point:  calculating eqivelant net ..\n",
      "[165799] At stationary point:  calculating eqivelant net ..\n",
      "[165899] At stationary point:  calculating eqivelant net ..\n",
      "[165999] At stationary point:  calculating eqivelant net ..\n",
      "[166099] At stationary point:  calculating eqivelant net ..\n",
      "[166199] At stationary point:  calculating eqivelant net ..\n",
      "[166299] At stationary point:  calculating eqivelant net ..\n",
      "[166399] At stationary point:  calculating eqivelant net ..\n",
      "[166499] At stationary point:  calculating eqivelant net ..\n",
      "[166599] At stationary point:  calculating eqivelant net ..\n",
      "[166699] At stationary point:  calculating eqivelant net ..\n",
      "[166799] At stationary point:  calculating eqivelant net ..\n",
      "[166899] At stationary point:  calculating eqivelant net ..\n",
      "[166999] At stationary point:  calculating eqivelant net ..\n",
      "[167099] At stationary point:  calculating eqivelant net ..\n",
      "[167199] At stationary point:  calculating eqivelant net ..\n",
      "[167299] At stationary point:  calculating eqivelant net ..\n",
      "[167399] At stationary point:  calculating eqivelant net ..\n",
      "[167499] At stationary point:  calculating eqivelant net ..\n",
      "[167599] At stationary point:  calculating eqivelant net ..\n",
      "[167699] At stationary point:  calculating eqivelant net ..\n",
      "[167799] At stationary point:  calculating eqivelant net ..\n",
      "[167899] At stationary point:  calculating eqivelant net ..\n",
      "[167999] At stationary point:  calculating eqivelant net ..\n",
      "[168099] At stationary point:  calculating eqivelant net ..\n",
      "[168199] At stationary point:  calculating eqivelant net ..\n",
      "[168299] At stationary point:  calculating eqivelant net ..\n",
      "[168399] At stationary point:  calculating eqivelant net ..\n",
      "[168499] At stationary point:  calculating eqivelant net ..\n"
     ]
    },
    {
     "name": "stdout",
     "output_type": "stream",
     "text": [
      "[168599] At stationary point:  calculating eqivelant net ..\n",
      "[168699] At stationary point:  calculating eqivelant net ..\n",
      "[168799] At stationary point:  calculating eqivelant net ..\n",
      "[168899] At stationary point:  calculating eqivelant net ..\n",
      "[168999] At stationary point:  calculating eqivelant net ..\n",
      "[169099] At stationary point:  calculating eqivelant net ..\n",
      "[169199] At stationary point:  calculating eqivelant net ..\n",
      "[169299] At stationary point:  calculating eqivelant net ..\n",
      "[169399] At stationary point:  calculating eqivelant net ..\n",
      "[169499] At stationary point:  calculating eqivelant net ..\n",
      "[169599] At stationary point:  calculating eqivelant net ..\n",
      "[169699] At stationary point:  calculating eqivelant net ..\n",
      "[169799] At stationary point:  calculating eqivelant net ..\n",
      "[169899] At stationary point:  calculating eqivelant net ..\n",
      "[169999] At stationary point:  calculating eqivelant net ..\n",
      "[170099] At stationary point:  calculating eqivelant net ..\n",
      "[170199] At stationary point:  calculating eqivelant net ..\n",
      "[170299] At stationary point:  calculating eqivelant net ..\n",
      "[170399] At stationary point:  calculating eqivelant net ..\n",
      "[170499] At stationary point:  calculating eqivelant net ..\n",
      "[170599] At stationary point:  calculating eqivelant net ..\n",
      "[170699] At stationary point:  calculating eqivelant net ..\n",
      "[170799] At stationary point:  calculating eqivelant net ..\n",
      "[170899] At stationary point:  calculating eqivelant net ..\n",
      "[170999] At stationary point:  calculating eqivelant net ..\n",
      "[171099] At stationary point:  calculating eqivelant net ..\n",
      "[171199] At stationary point:  calculating eqivelant net ..\n",
      "[171299] At stationary point:  calculating eqivelant net ..\n",
      "[171399] At stationary point:  calculating eqivelant net ..\n",
      "[171499] At stationary point:  calculating eqivelant net ..\n",
      "[171599] At stationary point:  calculating eqivelant net ..\n",
      "[171699] At stationary point:  calculating eqivelant net ..\n",
      "[171799] At stationary point:  calculating eqivelant net ..\n",
      "[171899] At stationary point:  calculating eqivelant net ..\n",
      "[171999] At stationary point:  calculating eqivelant net ..\n",
      "[172099] At stationary point:  calculating eqivelant net ..\n",
      "[172199] At stationary point:  calculating eqivelant net ..\n",
      "[172299] At stationary point:  calculating eqivelant net ..\n",
      "[172399] At stationary point:  calculating eqivelant net ..\n",
      "[172499] At stationary point:  calculating eqivelant net ..\n",
      "[172502] Bad location:  retrive to old net ..\n",
      "[172599] At stationary point:  calculating eqivelant net ..\n",
      "[172699] At stationary point:  calculating eqivelant net ..\n",
      "[172799] At stationary point:  calculating eqivelant net ..\n",
      "[172899] At stationary point:  calculating eqivelant net ..\n",
      "[172999] At stationary point:  calculating eqivelant net ..\n",
      "[173099] At stationary point:  calculating eqivelant net ..\n",
      "[173199] At stationary point:  calculating eqivelant net ..\n",
      "[173299] At stationary point:  calculating eqivelant net ..\n",
      "[173399] At stationary point:  calculating eqivelant net ..\n",
      "[173499] At stationary point:  calculating eqivelant net ..\n",
      "[173599] At stationary point:  calculating eqivelant net ..\n",
      "[173699] At stationary point:  calculating eqivelant net ..\n",
      "[173799] At stationary point:  calculating eqivelant net ..\n",
      "[173899] At stationary point:  calculating eqivelant net ..\n",
      "[173999] At stationary point:  calculating eqivelant net ..\n",
      "[174099] At stationary point:  calculating eqivelant net ..\n",
      "[174199] At stationary point:  calculating eqivelant net ..\n",
      "[174299] At stationary point:  calculating eqivelant net ..\n",
      "[174399] At stationary point:  calculating eqivelant net ..\n",
      "[174499] At stationary point:  calculating eqivelant net ..\n",
      "[174599] At stationary point:  calculating eqivelant net ..\n",
      "[174699] At stationary point:  calculating eqivelant net ..\n",
      "[174799] At stationary point:  calculating eqivelant net ..\n",
      "[174899] At stationary point:  calculating eqivelant net ..\n",
      "[174999] At stationary point:  calculating eqivelant net ..\n",
      "[175099] At stationary point:  calculating eqivelant net ..\n",
      "[175199] At stationary point:  calculating eqivelant net ..\n",
      "[175299] At stationary point:  calculating eqivelant net ..\n",
      "[175399] At stationary point:  calculating eqivelant net ..\n",
      "[175499] At stationary point:  calculating eqivelant net ..\n",
      "[175599] At stationary point:  calculating eqivelant net ..\n",
      "[175699] At stationary point:  calculating eqivelant net ..\n",
      "[175799] At stationary point:  calculating eqivelant net ..\n",
      "[175899] At stationary point:  calculating eqivelant net ..\n",
      "[175999] At stationary point:  calculating eqivelant net ..\n",
      "[176099] At stationary point:  calculating eqivelant net ..\n",
      "[176199] At stationary point:  calculating eqivelant net ..\n",
      "[176299] At stationary point:  calculating eqivelant net ..\n",
      "[176399] At stationary point:  calculating eqivelant net ..\n",
      "[176499] At stationary point:  calculating eqivelant net ..\n",
      "[176599] At stationary point:  calculating eqivelant net ..\n",
      "[176699] At stationary point:  calculating eqivelant net ..\n",
      "[176799] At stationary point:  calculating eqivelant net ..\n",
      "[176899] At stationary point:  calculating eqivelant net ..\n",
      "[176999] At stationary point:  calculating eqivelant net ..\n",
      "[177099] At stationary point:  calculating eqivelant net ..\n",
      "[177199] At stationary point:  calculating eqivelant net ..\n",
      "[177299] At stationary point:  calculating eqivelant net ..\n",
      "[177399] At stationary point:  calculating eqivelant net ..\n",
      "[177499] At stationary point:  calculating eqivelant net ..\n",
      "[177599] At stationary point:  calculating eqivelant net ..\n",
      "[177699] At stationary point:  calculating eqivelant net ..\n",
      "[177799] At stationary point:  calculating eqivelant net ..\n",
      "[177899] At stationary point:  calculating eqivelant net ..\n",
      "[177999] At stationary point:  calculating eqivelant net ..\n",
      "[178099] At stationary point:  calculating eqivelant net ..\n",
      "[178199] At stationary point:  calculating eqivelant net ..\n",
      "[178299] At stationary point:  calculating eqivelant net ..\n",
      "[178399] At stationary point:  calculating eqivelant net ..\n",
      "[178499] At stationary point:  calculating eqivelant net ..\n",
      "[178599] At stationary point:  calculating eqivelant net ..\n",
      "[178699] At stationary point:  calculating eqivelant net ..\n",
      "[178799] At stationary point:  calculating eqivelant net ..\n",
      "[178899] At stationary point:  calculating eqivelant net ..\n",
      "[178999] At stationary point:  calculating eqivelant net ..\n",
      "[179099] At stationary point:  calculating eqivelant net ..\n",
      "[179199] At stationary point:  calculating eqivelant net ..\n",
      "[179299] At stationary point:  calculating eqivelant net ..\n",
      "[179399] At stationary point:  calculating eqivelant net ..\n",
      "[179499] At stationary point:  calculating eqivelant net ..\n",
      "[179599] At stationary point:  calculating eqivelant net ..\n",
      "[179699] At stationary point:  calculating eqivelant net ..\n",
      "[179799] At stationary point:  calculating eqivelant net ..\n",
      "[179899] At stationary point:  calculating eqivelant net ..\n",
      "[179999] At stationary point:  calculating eqivelant net ..\n",
      "[180099] At stationary point:  calculating eqivelant net ..\n",
      "[180199] At stationary point:  calculating eqivelant net ..\n",
      "[180299] At stationary point:  calculating eqivelant net ..\n",
      "[180399] At stationary point:  calculating eqivelant net ..\n",
      "[180499] At stationary point:  calculating eqivelant net ..\n",
      "[180599] At stationary point:  calculating eqivelant net ..\n",
      "[180699] At stationary point:  calculating eqivelant net ..\n",
      "[180799] At stationary point:  calculating eqivelant net ..\n",
      "[180899] At stationary point:  calculating eqivelant net ..\n",
      "[180999] At stationary point:  calculating eqivelant net ..\n",
      "[181099] At stationary point:  calculating eqivelant net ..\n",
      "[181199] At stationary point:  calculating eqivelant net ..\n",
      "[181299] At stationary point:  calculating eqivelant net ..\n",
      "[181399] At stationary point:  calculating eqivelant net ..\n",
      "[181499] At stationary point:  calculating eqivelant net ..\n",
      "[181599] At stationary point:  calculating eqivelant net ..\n",
      "[181699] At stationary point:  calculating eqivelant net ..\n",
      "[181799] At stationary point:  calculating eqivelant net ..\n",
      "[181899] At stationary point:  calculating eqivelant net ..\n",
      "[181999] At stationary point:  calculating eqivelant net ..\n",
      "[182199] At stationary point:  calculating eqivelant net ..\n"
     ]
    },
    {
     "name": "stdout",
     "output_type": "stream",
     "text": [
      "[182299] At stationary point:  calculating eqivelant net ..\n",
      "[182899] At stationary point:  calculating eqivelant net ..\n",
      "[182999] At stationary point:  calculating eqivelant net ..\n",
      "[183099] At stationary point:  calculating eqivelant net ..\n",
      "[183199] At stationary point:  calculating eqivelant net ..\n",
      "[183299] At stationary point:  calculating eqivelant net ..\n",
      "[183399] At stationary point:  calculating eqivelant net ..\n",
      "[183499] At stationary point:  calculating eqivelant net ..\n",
      "[183599] At stationary point:  calculating eqivelant net ..\n",
      "[183699] At stationary point:  calculating eqivelant net ..\n",
      "[183799] At stationary point:  calculating eqivelant net ..\n",
      "[183899] At stationary point:  calculating eqivelant net ..\n",
      "[183999] At stationary point:  calculating eqivelant net ..\n",
      "[184099] At stationary point:  calculating eqivelant net ..\n",
      "[184199] At stationary point:  calculating eqivelant net ..\n",
      "[184299] At stationary point:  calculating eqivelant net ..\n",
      "[184399] At stationary point:  calculating eqivelant net ..\n",
      "[184410] Bad location:  retrive to old net ..\n",
      "[184499] At stationary point:  calculating eqivelant net ..\n",
      "[184599] At stationary point:  calculating eqivelant net ..\n",
      "[184699] At stationary point:  calculating eqivelant net ..\n",
      "[184799] At stationary point:  calculating eqivelant net ..\n",
      "[184899] At stationary point:  calculating eqivelant net ..\n",
      "[184999] At stationary point:  calculating eqivelant net ..\n",
      "[185099] At stationary point:  calculating eqivelant net ..\n",
      "[185199] At stationary point:  calculating eqivelant net ..\n",
      "[185299] At stationary point:  calculating eqivelant net ..\n",
      "[185399] At stationary point:  calculating eqivelant net ..\n",
      "[185499] At stationary point:  calculating eqivelant net ..\n",
      "[185599] At stationary point:  calculating eqivelant net ..\n",
      "[185699] At stationary point:  calculating eqivelant net ..\n",
      "[185799] At stationary point:  calculating eqivelant net ..\n",
      "[185899] At stationary point:  calculating eqivelant net ..\n",
      "[185999] At stationary point:  calculating eqivelant net ..\n",
      "[186099] At stationary point:  calculating eqivelant net ..\n",
      "[186199] At stationary point:  calculating eqivelant net ..\n",
      "[186299] At stationary point:  calculating eqivelant net ..\n",
      "[186399] At stationary point:  calculating eqivelant net ..\n",
      "[186499] At stationary point:  calculating eqivelant net ..\n",
      "[186599] At stationary point:  calculating eqivelant net ..\n",
      "[186699] At stationary point:  calculating eqivelant net ..\n",
      "[186799] At stationary point:  calculating eqivelant net ..\n",
      "[186899] At stationary point:  calculating eqivelant net ..\n",
      "[186999] At stationary point:  calculating eqivelant net ..\n",
      "[187099] At stationary point:  calculating eqivelant net ..\n",
      "[187199] At stationary point:  calculating eqivelant net ..\n",
      "[187299] At stationary point:  calculating eqivelant net ..\n",
      "[187399] At stationary point:  calculating eqivelant net ..\n",
      "[187499] At stationary point:  calculating eqivelant net ..\n",
      "[187599] At stationary point:  calculating eqivelant net ..\n",
      "[187699] At stationary point:  calculating eqivelant net ..\n",
      "[187799] At stationary point:  calculating eqivelant net ..\n",
      "[187899] At stationary point:  calculating eqivelant net ..\n",
      "[187999] At stationary point:  calculating eqivelant net ..\n",
      "[188099] At stationary point:  calculating eqivelant net ..\n",
      "[188199] At stationary point:  calculating eqivelant net ..\n",
      "[188299] At stationary point:  calculating eqivelant net ..\n",
      "[188399] At stationary point:  calculating eqivelant net ..\n",
      "[188499] At stationary point:  calculating eqivelant net ..\n",
      "[188599] At stationary point:  calculating eqivelant net ..\n",
      "[188699] At stationary point:  calculating eqivelant net ..\n",
      "[188799] At stationary point:  calculating eqivelant net ..\n",
      "[188899] At stationary point:  calculating eqivelant net ..\n",
      "[188999] At stationary point:  calculating eqivelant net ..\n",
      "[189099] At stationary point:  calculating eqivelant net ..\n",
      "[189199] At stationary point:  calculating eqivelant net ..\n",
      "[189299] At stationary point:  calculating eqivelant net ..\n",
      "[189399] At stationary point:  calculating eqivelant net ..\n",
      "[189499] At stationary point:  calculating eqivelant net ..\n",
      "[189599] At stationary point:  calculating eqivelant net ..\n",
      "[189699] At stationary point:  calculating eqivelant net ..\n",
      "[189799] At stationary point:  calculating eqivelant net ..\n",
      "[189899] At stationary point:  calculating eqivelant net ..\n",
      "[189999] At stationary point:  calculating eqivelant net ..\n",
      "[190099] At stationary point:  calculating eqivelant net ..\n",
      "[190199] At stationary point:  calculating eqivelant net ..\n",
      "[190299] At stationary point:  calculating eqivelant net ..\n",
      "[190399] At stationary point:  calculating eqivelant net ..\n",
      "[190499] At stationary point:  calculating eqivelant net ..\n",
      "[190599] At stationary point:  calculating eqivelant net ..\n",
      "[190699] At stationary point:  calculating eqivelant net ..\n",
      "[190799] At stationary point:  calculating eqivelant net ..\n",
      "[190899] At stationary point:  calculating eqivelant net ..\n",
      "[190999] At stationary point:  calculating eqivelant net ..\n",
      "[191099] At stationary point:  calculating eqivelant net ..\n",
      "[191199] At stationary point:  calculating eqivelant net ..\n",
      "[191299] At stationary point:  calculating eqivelant net ..\n",
      "[191399] At stationary point:  calculating eqivelant net ..\n",
      "[191499] At stationary point:  calculating eqivelant net ..\n",
      "[191599] At stationary point:  calculating eqivelant net ..\n",
      "[191699] At stationary point:  calculating eqivelant net ..\n",
      "[191799] At stationary point:  calculating eqivelant net ..\n",
      "[191899] At stationary point:  calculating eqivelant net ..\n",
      "[192099] At stationary point:  calculating eqivelant net ..\n",
      "[192199] At stationary point:  calculating eqivelant net ..\n",
      "[192299] At stationary point:  calculating eqivelant net ..\n",
      "[192399] At stationary point:  calculating eqivelant net ..\n",
      "[192499] At stationary point:  calculating eqivelant net ..\n",
      "[192599] At stationary point:  calculating eqivelant net ..\n",
      "[198099] At stationary point:  calculating eqivelant net ..\n",
      "[198199] At stationary point:  calculating eqivelant net ..\n",
      "[198299] At stationary point:  calculating eqivelant net ..\n",
      "[198399] At stationary point:  calculating eqivelant net ..\n",
      "[198499] At stationary point:  calculating eqivelant net ..\n",
      "[198599] At stationary point:  calculating eqivelant net ..\n",
      "[198699] At stationary point:  calculating eqivelant net ..\n",
      "[198799] At stationary point:  calculating eqivelant net ..\n",
      "[198899] At stationary point:  calculating eqivelant net ..\n",
      "[198999] At stationary point:  calculating eqivelant net ..\n",
      "[199099] At stationary point:  calculating eqivelant net ..\n",
      "[199199] At stationary point:  calculating eqivelant net ..\n",
      "[199299] At stationary point:  calculating eqivelant net ..\n",
      "[199399] At stationary point:  calculating eqivelant net ..\n",
      "[199499] At stationary point:  calculating eqivelant net ..\n",
      "[199599] At stationary point:  calculating eqivelant net ..\n",
      "[199699] At stationary point:  calculating eqivelant net ..\n",
      "[199799] At stationary point:  calculating eqivelant net ..\n",
      "[199899] At stationary point:  calculating eqivelant net ..\n",
      "[199999] At stationary point:  calculating eqivelant net ..\n",
      "578.8220202922821\n"
     ]
    }
   ],
   "source": [
    "start_time = time.time()\n",
    "iter_loss2 = []\n",
    "\n",
    "num_iter1 = 200000\n",
    "lr = 0.001\n",
    "net1 = Sequential_modified(width_list, 200)\n",
    "\n",
    "x = x.to('cuda:0')\n",
    "targets = targets.to('cuda:0')\n",
    "net1 = net1.to('cuda:0')\n",
    "\n",
    "old_net = Sequential_modified(width_list, 11234)\n",
    "old_net = old_net.to('cuda:0')\n",
    "\n",
    "optim1 = torch.optim.SGD(net1.parameters(), lr=lr)\n",
    "symm_counter = 0\n",
    "for iter_ in range(num_iter1):\n",
    "    optim1.zero_grad()\n",
    "    y1 = net1(x)\n",
    "    loss2 = criterion1(y1,targets)\n",
    "    if revert_condition(loss2, iter_loss2):\n",
    "        print(f'[{iter_}] Bad location:  retrive to old net ..')\n",
    "#         net1 = clone_net(old_net)\n",
    "#         optim1 = torch.optim.SGD(net1.parameters(), lr=lr)\n",
    "        copy_weights(old_net, net1)\n",
    "        symm_counter += 1  ##### ???????????????????????????????????????????????????????\n",
    "        continue\n",
    "    iter_loss2.append((iter_,loss2.item()))\n",
    "    loss2.backward()\n",
    "    optim1.step()\n",
    "    if (iter_+1)%100 == 0 and net_at_stationary_point(iter_loss2, iter_interval=100,percentage=0.1):\n",
    "        print(f'[{iter_}] At stationary point:  calculating eqivelant net ..')\n",
    "#         old_net = clone_net(net1)\n",
    "        copy_weights(net1, old_net)\n",
    "#         factors = generate_numbers_mul_to_1(len(width_list)-1,[0.7n = clone_net(net1),1.3])\n",
    "#         net1 = scale_net(net1, factors)\n",
    "        net1 = diagonal_matrix_symmetry_balanced_3(net1, [0.01,100], symm_counter)\n",
    "        symm_counter += 1\n",
    "loss2 = criterion1(y1,targets)\n",
    "iter_loss2.append((iter_+1,loss2.item()))\n",
    "elapsed_time = time.time() - start_time\n",
    "print(elapsed_time)"
   ]
  },
  {
   "cell_type": "code",
   "execution_count": 279,
   "metadata": {},
   "outputs": [
    {
     "data": {
      "text/plain": [
       "5.640387826133519e-06"
      ]
     },
     "execution_count": 279,
     "metadata": {},
     "output_type": "execute_result"
    },
    {
     "data": {
      "image/png": "[encoded data removed]",
      "text/plain": [
       "<Figure size 432x288 with 1 Axes>"
      ]
     },
     "metadata": {
      "needs_background": "light"
     },
     "output_type": "display_data"
    }
   ],
   "source": [
    "start = 2000\n",
    "iter_, loss2 = zip(*iter_loss2)\n",
    "plt.plot(iter_[start:], loss2[start:])\n",
    "min(loss2)"
   ]
  },
  {
   "cell_type": "code",
   "execution_count": 235,
   "metadata": {},
   "outputs": [
    {
     "data": {
      "text/plain": [
       "9.591623211235856e-07"
      ]
     },
     "execution_count": 235,
     "metadata": {},
     "output_type": "execute_result"
    },
    {
     "data": {
      "image/png": "[encoded data removed]",
      "text/plain": [
       "<Figure size 432x288 with 1 Axes>"
      ]
     },
     "metadata": {
      "needs_background": "light"
     },
     "output_type": "display_data"
    }
   ],
   "source": [
    "start = 2000\n",
    "iter_, loss2 = zip(*iter_loss2)\n",
    "plt.plot(iter_[start:], loss2[start:])\n",
    "min(loss2)"
   ]
  },
  {
   "cell_type": "code",
   "execution_count": null,
   "metadata": {},
   "outputs": [],
   "source": []
  },
  {
   "cell_type": "code",
   "execution_count": 114,
   "metadata": {},
   "outputs": [
    {
     "data": {
      "text/plain": [
       "1.365399953101587e-06"
      ]
     },
     "execution_count": 114,
     "metadata": {},
     "output_type": "execute_result"
    },
    {
     "data": {
      "image/png": "[encoded data removed]",
      "text/plain": [
       "<Figure size 432x288 with 1 Axes>"
      ]
     },
     "metadata": {
      "needs_background": "light"
     },
     "output_type": "display_data"
    }
   ],
   "source": [
    "start = 2000\n",
    "iter_, loss2 = zip(*iter_loss2)\n",
    "plt.plot(iter_[start:], loss2[start:])\n",
    "min(loss2)"
   ]
  },
  {
   "cell_type": "code",
   "execution_count": 121,
   "metadata": {},
   "outputs": [
    {
     "name": "stdout",
     "output_type": "stream",
     "text": [
      "0\n",
      "max = 38.04113006591797 \n",
      "min = 0.08715080469846725\n",
      "\n",
      "\n",
      "\n",
      "2\n",
      "max = 1.5745043754577637 \n",
      "min = 0.0021841109264642\n",
      "\n",
      "\n",
      "\n",
      "4\n",
      "max = 3.157644748687744 \n",
      "min = 0.0012977380538359284\n",
      "\n",
      "\n",
      "\n",
      "6\n",
      "max = 4.850064277648926 \n",
      "min = 0.00048151344526559114\n",
      "\n",
      "\n",
      "\n",
      "8\n",
      "max = 0.017153698951005936 \n",
      "min = 7.804937195032835e-05\n",
      "\n",
      "\n",
      "\n"
     ]
    }
   ],
   "source": [
    "for i, l in enumerate(net1):\n",
    "    if isinstance(l, nn.Linear):\n",
    "        w = l.weight.data.cpu().flatten()\n",
    "        print(i)\n",
    "#         plt.figure()\n",
    "#         plt.hist(w)\n",
    "        print(f'max = {max(abs(w))} \\nmin = {min(abs(w))}')\n",
    "        print('\\n\\n')"
   ]
  },
  {
   "cell_type": "code",
   "execution_count": 280,
   "metadata": {},
   "outputs": [
    {
     "name": "stdout",
     "output_type": "stream",
     "text": [
      "0\n",
      "max = 3.6676723957061768 \n",
      "min = 0.0009450032957829535\n",
      "\n",
      "\n",
      "\n",
      "2\n",
      "max = 2.4450809955596924 \n",
      "min = 5.157007194611651e-07\n",
      "\n",
      "\n",
      "\n",
      "4\n",
      "max = 7988.0712890625 \n",
      "min = 0.004598158877342939\n",
      "\n",
      "\n",
      "\n",
      "6\n",
      "max = 5.295494079589844 \n",
      "min = 0.00012949939991813153\n",
      "\n",
      "\n",
      "\n",
      "8\n",
      "max = 2.0893146991729736 \n",
      "min = 0.0019502161303535104\n",
      "\n",
      "\n",
      "\n"
     ]
    }
   ],
   "source": [
    "for i, l in enumerate(net1):\n",
    "    if isinstance(l, nn.Linear):\n",
    "        w = l.weight.data.cpu().flatten()\n",
    "        print(i)\n",
    "#         plt.figure()\n",
    "#         plt.hist(w)\n",
    "        print(f'max = {max(abs(w))} \\nmin = {min(abs(w))}')\n",
    "        print('\\n\\n')"
   ]
  },
  {
   "cell_type": "code",
   "execution_count": 25,
   "metadata": {},
   "outputs": [],
   "source": [
    "a0 = net1[0].weight.data.cpu()"
   ]
  },
  {
   "cell_type": "code",
   "execution_count": 27,
   "metadata": {},
   "outputs": [],
   "source": [
    "a0 = a0.flatten().tolist()"
   ]
  },
  {
   "cell_type": "code",
   "execution_count": 28,
   "metadata": {},
   "outputs": [
    {
     "data": {
      "text/plain": [
       "(array([ 1.,  1.,  0.,  1.,  0.,  1.,  3., 40.,  1.,  2.]),\n",
       " array([-194.44639587, -167.46435318, -140.48231049, -113.50026779,\n",
       "         -86.5182251 ,  -59.5361824 ,  -32.55413971,   -5.57209702,\n",
       "          21.40994568,   48.39198837,   75.37403107]),\n",
       " <BarContainer object of 10 artists>)"
      ]
     },
     "execution_count": 28,
     "metadata": {},
     "output_type": "execute_result"
    },
    {
     "data": {
      "image/png": "[encoded data removed]",
      "text/plain": [
       "<Figure size 432x288 with 1 Axes>"
      ]
     },
     "metadata": {
      "needs_background": "light"
     },
     "output_type": "display_data"
    }
   ],
   "source": [
    "plt.hist(a0)"
   ]
  },
  {
   "cell_type": "code",
   "execution_count": null,
   "metadata": {},
   "outputs": [],
   "source": []
  },
  {
   "cell_type": "code",
   "execution_count": null,
   "metadata": {},
   "outputs": [],
   "source": []
  },
  {
   "cell_type": "code",
   "execution_count": 40,
   "metadata": {
    "scrolled": true
   },
   "outputs": [
    {
     "name": "stdout",
     "output_type": "stream",
     "text": [
      "tensor([[-5.9637e-03, -2.3248e-02,  3.1903e-02,  1.0911e-01, -4.6071e-03],\n",
      "        [-1.4190e+00, -1.5413e+00, -7.9573e+00,  5.4617e+00, -5.1666e+00],\n",
      "        [-5.9956e-01, -7.8389e-01,  2.4906e-01, -5.6519e-01,  2.2806e-01],\n",
      "        [-1.0562e-04,  4.4877e-05, -1.1258e-04,  2.6549e-04,  4.1885e-04],\n",
      "        [-1.0300e-02,  4.2106e-03,  1.0836e-02,  6.0312e-03,  4.5060e-03],\n",
      "        [-2.1892e+00, -1.5306e+00,  1.4012e+00, -1.2771e+00,  2.1137e+00],\n",
      "        [-2.3750e-04,  7.9866e-04,  8.9205e-04,  1.0761e-03, -3.7757e-04],\n",
      "        [-3.0206e-02,  6.1366e-03,  1.8046e-02, -1.5663e-04, -8.8449e-03],\n",
      "        [-3.8713e+00, -6.3987e+00, -2.1507e+00,  5.2316e+00, -2.8268e+00],\n",
      "        [ 5.8043e-01, -5.2455e-01, -3.0501e-01,  3.8463e-01,  4.4293e-01]],\n",
      "       device='cuda:0')\n",
      "tensor([ 1.6794e-01,  2.9716e+00, -7.2916e-01,  4.9050e-04, -5.6470e-03,\n",
      "         2.5688e+00,  3.1474e-03,  6.1435e-03, -2.3564e+00,  3.6144e-01],\n",
      "       device='cuda:0')\n",
      "\n",
      "tensor([[-1.9932e-01, -5.2386e-04,  6.3514e-02, -5.8824e+01, -6.6533e+00,\n",
      "          1.3818e-02, -5.0031e+01,  1.4843e+00, -5.0863e-03, -1.1735e-01],\n",
      "        [-3.6661e-01,  7.3842e-03,  8.4397e-02,  8.4661e+01,  8.8481e+00,\n",
      "         -2.4046e-02, -6.0379e+01,  4.0619e+00, -1.6092e-02, -1.3952e-01],\n",
      "        [ 5.3398e-03,  5.6382e-07,  3.8889e-03, -5.0929e+00, -2.1224e-01,\n",
      "          2.7205e-03, -2.4112e+00,  2.7018e-02,  1.7127e-04,  4.1672e-04],\n",
      "        [-1.0489e-05,  6.2640e-08,  1.6800e-06, -1.5108e-03,  4.6825e-04,\n",
      "         -1.6373e-06, -2.5266e-04, -1.2949e-04, -1.2622e-08, -5.1416e-06],\n",
      "        [-7.2263e-05, -7.8133e-06, -1.5075e-06, -2.5806e-03, -3.1034e-04,\n",
      "         -1.1743e-05,  1.0016e-03, -9.4029e-05,  1.5413e-07, -2.4377e-04],\n",
      "        [ 8.4211e-04,  2.6958e-04,  6.1747e-03,  1.6091e+01,  1.5301e+00,\n",
      "          5.9250e-04, -6.5842e+00, -5.9936e-01,  4.4371e-04, -2.3413e-02],\n",
      "        [-1.3669e-03, -3.9471e-04,  2.2409e-03,  2.4325e+00,  6.6403e-02,\n",
      "         -1.2437e-03,  1.5630e-02, -8.8828e-02, -1.3330e-04, -3.9578e-03],\n",
      "        [ 8.7455e-02,  6.1770e-04, -2.4236e-02,  1.5837e+01,  6.7504e-01,\n",
      "          4.2966e-03,  1.7434e+01,  9.6107e-01, -4.9415e-04, -4.8834e-02],\n",
      "        [ 1.3986e-03, -2.1110e-04,  8.9691e-04,  3.1698e+00, -3.3253e-01,\n",
      "         -1.6410e-03,  3.5101e+00,  3.6204e-02,  1.1235e-03, -3.7252e-03],\n",
      "        [ 2.3870e-01, -4.2383e-02,  8.7198e-02, -2.1627e+02, -4.7569e+00,\n",
      "         -1.1196e-01,  1.0570e+02, -1.0123e+00,  8.5360e-03, -1.5162e-01]],\n",
      "       device='cuda:0')\n",
      "tensor([-1.0191e-01,  2.2497e-01,  6.0545e-03, -1.0676e-05,  2.4133e-06,\n",
      "         1.7763e-04,  1.3959e-03,  7.1975e-02,  8.6520e-03, -4.6899e-01],\n",
      "       device='cuda:0')\n",
      "\n",
      "tensor([[-1.9721e-03,  1.6534e-03,  4.6770e-02,  2.8070e+01,  2.0885e+01,\n",
      "         -1.5892e-02, -3.2874e-02,  2.9186e-03, -4.7673e-03, -4.1111e-04],\n",
      "        [ 5.9473e+01, -2.9182e+01, -1.4028e+02,  5.2850e+04,  8.9280e+05,\n",
      "         -1.3019e+02, -2.3354e+03,  1.7791e+01, -1.9602e+01, -1.3330e+01],\n",
      "        [-5.2612e-05,  4.4778e-05, -5.1656e-04,  4.6046e-01,  1.0356e+00,\n",
      "          2.3396e-04, -1.9233e-03, -1.0547e-04,  7.1588e-04, -1.6059e-05],\n",
      "        [ 6.8240e+00,  4.9902e+00, -2.1660e+01, -4.4745e+04, -1.3567e+05,\n",
      "         -1.7904e+01,  5.8037e+01, -3.2100e+00,  1.8780e+01,  2.7220e+00],\n",
      "        [-1.7799e+00,  8.7544e-01, -2.6079e+00,  2.2460e+04, -4.0658e+04,\n",
      "         -1.3980e+00, -3.3857e+01,  6.8159e-01, -1.8636e+01,  2.8263e-01],\n",
      "        [-1.5197e+00, -1.5869e+00,  2.3866e+00,  2.3485e+04, -4.0176e+04,\n",
      "         -2.2674e+00,  2.4502e+01, -3.5160e+00, -1.0561e+01,  5.6002e-01],\n",
      "        [ 2.0626e-01,  5.6555e-01,  6.1554e+00,  1.1093e+04, -8.2480e+03,\n",
      "          7.1130e+00,  2.1511e+01, -1.7624e+00,  9.3929e+00,  1.2152e-01],\n",
      "        [ 4.6528e-03, -1.6062e-02,  1.0721e-01, -3.9996e+02, -3.1717e+02,\n",
      "         -1.1048e-01,  3.2464e-02, -4.2653e-02, -4.2811e-01,  8.2800e-03],\n",
      "        [-2.0569e-02, -6.2561e-02,  2.9906e-01,  4.0409e+02,  5.9144e+02,\n",
      "         -2.5872e-01, -5.8129e-01, -8.0761e-02, -1.4835e+00,  1.9005e-02],\n",
      "        [-1.3910e+01, -5.0148e+01,  6.7212e+02, -4.6889e+05,  4.5646e+05,\n",
      "         -1.2880e+02, -2.8406e+03, -4.8404e+00,  4.4354e+02,  1.0073e+01]],\n",
      "       device='cuda:0')\n",
      "tensor([-1.2874e-05,  1.6326e+01, -1.6449e-05, -2.6070e+00,  1.1056e-02,\n",
      "         2.6107e-01,  6.2728e-02,  1.3426e-02,  3.5896e-02, -3.9034e+01],\n",
      "       device='cuda:0')\n",
      "\n",
      "tensor([[-3.3775e+01, -7.5240e-04,  5.5014e+02, -1.0032e-03,  4.8376e-02,\n",
      "          2.1011e-02, -1.0096e-02, -7.7937e+00,  1.8940e+00, -2.0855e-04],\n",
      "        [ 1.8659e+02, -9.1721e-03, -7.9046e+03, -7.5937e-02, -3.1943e-01,\n",
      "         -5.9700e-01,  3.8388e-01,  1.7380e+01,  5.0591e-01, -4.3587e-03],\n",
      "        [ 4.3289e+05,  7.0969e+01, -2.4463e+07,  1.3746e+01,  2.1693e+02,\n",
      "          1.0716e+02, -2.2129e+03, -8.7418e+04,  2.4013e+04, -3.3500e+01],\n",
      "        [-3.3582e+05,  1.1200e+02,  4.0546e+07, -3.0823e+02, -8.4159e+02,\n",
      "          2.6785e+03, -1.7928e+03, -1.4335e+05, -4.8955e+04, -7.9512e+01],\n",
      "        [-6.9461e+02, -7.4403e-02, -8.7786e+04,  6.1733e-01,  1.7516e+00,\n",
      "         -1.7709e+00,  4.5351e+00, -8.7319e+01,  8.4746e+01,  5.3128e-02],\n",
      "        [-1.1293e+02,  1.4107e-03, -3.7076e+03, -3.5850e-02, -2.8141e-01,\n",
      "         -7.7159e-01, -6.4743e-02,  1.0818e+01,  7.9646e+00, -1.5942e-03],\n",
      "        [ 2.9617e+03,  6.7798e-02,  4.9527e+03,  1.7113e-01, -4.8761e+00,\n",
      "         -1.8128e+00, -1.9140e+00, -5.8804e+00,  8.8523e+01, -4.5339e-02],\n",
      "        [ 5.6725e+02,  6.1715e-02,  6.7098e+04,  1.6296e-01,  1.7637e+00,\n",
      "          1.0582e+00,  2.5852e+00, -1.5098e+01,  6.4674e+00, -4.6744e-02],\n",
      "        [-5.2182e+00, -1.7234e-04,  1.2764e+02,  6.3356e-04,  5.2838e-04,\n",
      "         -1.8501e-03, -4.7056e-03,  8.0004e-02,  6.1709e-02, -1.9549e-05],\n",
      "        [-1.4629e-01,  1.8083e-04,  4.4540e+01, -2.1548e-04, -1.3075e-01,\n",
      "         -2.5283e-02,  5.6072e-03,  3.5128e-01,  5.0954e-02, -3.5099e-05]],\n",
      "       device='cuda:0')\n",
      "tensor([ 3.6450e-01,  4.3934e-03, -1.6845e+03, -2.6958e+03,  4.3793e+00,\n",
      "         1.1095e+00,  9.5496e+00, -7.4906e+00,  6.1383e-03, -4.9901e-03],\n",
      "       device='cuda:0')\n",
      "\n",
      "tensor([[ 2.0531e-01, -2.5707e-02, -1.8517e-05,  6.2674e-06, -2.0792e-03,\n",
      "         -1.7436e-02,  3.1269e-03, -6.9531e-03,  2.6407e+00,  1.1265e+00]],\n",
      "       device='cuda:0')\n",
      "tensor([0.1191], device='cuda:0')\n",
      "\n"
     ]
    }
   ],
   "source": [
    "for l in net1:\n",
    "    if isinstance(l,nn.Linear):\n",
    "        print(l.weight.data)\n",
    "        print(l.bias.data)\n",
    "        print()"
   ]
  },
  {
   "cell_type": "code",
   "execution_count": 12,
   "metadata": {},
   "outputs": [
    {
     "data": {
      "text/plain": [
       "0.00013252634380478412"
      ]
     },
     "execution_count": 12,
     "metadata": {},
     "output_type": "execute_result"
    }
   ],
   "source": [
    "0.00013252634380478412"
   ]
  },
  {
   "cell_type": "code",
   "execution_count": 4,
   "metadata": {},
   "outputs": [],
   "source": [
    "x = torch.randn(100,5)\n",
    "x = x.to('cuda:0')"
   ]
  },
  {
   "cell_type": "code",
   "execution_count": null,
   "metadata": {},
   "outputs": [],
   "source": []
  },
  {
   "cell_type": "code",
   "execution_count": null,
   "metadata": {},
   "outputs": [],
   "source": [
    "class Random_data_loa"
   ]
  },
  {
   "cell_type": "code",
   "execution_count": null,
   "metadata": {},
   "outputs": [],
   "source": [
    "torch.utils.data.DataLoader()"
   ]
  },
  {
   "cell_type": "code",
   "execution_count": 75,
   "metadata": {},
   "outputs": [],
   "source": [
    "class Random_data():\n",
    "    def __init__(self, Architecture, batch_size, num_iterations):\n",
    "        self.x = torch.randn(batch_size, Architecture[0])\n",
    "        labels_net = Sequential_modified(width_list, 123)\n",
    "        self.targets = labels_net(x).detach()\n",
    "        self.num_iterations = num_iterations\n",
    "    def __getitem__(self, idx):\n",
    "        return self.x, self.targets\n",
    "    def __len__(self):\n",
    "        return self.num_iterations"
   ]
  },
  {
   "cell_type": "code",
   "execution_count": 76,
   "metadata": {},
   "outputs": [],
   "source": [
    "from torch.utils.data import DataLoader"
   ]
  },
  {
   "cell_type": "code",
   "execution_count": 78,
   "metadata": {},
   "outputs": [
    {
     "name": "stdout",
     "output_type": "stream",
     "text": [
      "10\n",
      "tensor([[[ 0.7507,  0.1941, -0.5153,  0.3557,  0.4701],\n",
      "         [ 1.1138, -0.7832, -1.4160, -0.7005, -0.2032],\n",
      "         [ 1.2721,  1.0418, -0.3025, -0.6228,  1.7089]]])\n",
      "tensor([[[ 0.7507,  0.1941, -0.5153,  0.3557,  0.4701],\n",
      "         [ 1.1138, -0.7832, -1.4160, -0.7005, -0.2032],\n",
      "         [ 1.2721,  1.0418, -0.3025, -0.6228,  1.7089]]])\n",
      "tensor([[[ 0.7507,  0.1941, -0.5153,  0.3557,  0.4701],\n",
      "         [ 1.1138, -0.7832, -1.4160, -0.7005, -0.2032],\n",
      "         [ 1.2721,  1.0418, -0.3025, -0.6228,  1.7089]]])\n",
      "tensor([[[ 0.7507,  0.1941, -0.5153,  0.3557,  0.4701],\n",
      "         [ 1.1138, -0.7832, -1.4160, -0.7005, -0.2032],\n",
      "         [ 1.2721,  1.0418, -0.3025, -0.6228,  1.7089]]])\n",
      "tensor([[[ 0.7507,  0.1941, -0.5153,  0.3557,  0.4701],\n",
      "         [ 1.1138, -0.7832, -1.4160, -0.7005, -0.2032],\n",
      "         [ 1.2721,  1.0418, -0.3025, -0.6228,  1.7089]]])\n",
      "tensor([[[ 0.7507,  0.1941, -0.5153,  0.3557,  0.4701],\n",
      "         [ 1.1138, -0.7832, -1.4160, -0.7005, -0.2032],\n",
      "         [ 1.2721,  1.0418, -0.3025, -0.6228,  1.7089]]])\n",
      "tensor([[[ 0.7507,  0.1941, -0.5153,  0.3557,  0.4701],\n",
      "         [ 1.1138, -0.7832, -1.4160, -0.7005, -0.2032],\n",
      "         [ 1.2721,  1.0418, -0.3025, -0.6228,  1.7089]]])\n",
      "tensor([[[ 0.7507,  0.1941, -0.5153,  0.3557,  0.4701],\n",
      "         [ 1.1138, -0.7832, -1.4160, -0.7005, -0.2032],\n",
      "         [ 1.2721,  1.0418, -0.3025, -0.6228,  1.7089]]])\n",
      "tensor([[[ 0.7507,  0.1941, -0.5153,  0.3557,  0.4701],\n",
      "         [ 1.1138, -0.7832, -1.4160, -0.7005, -0.2032],\n",
      "         [ 1.2721,  1.0418, -0.3025, -0.6228,  1.7089]]])\n",
      "tensor([[[ 0.7507,  0.1941, -0.5153,  0.3557,  0.4701],\n",
      "         [ 1.1138, -0.7832, -1.4160, -0.7005, -0.2032],\n",
      "         [ 1.2721,  1.0418, -0.3025, -0.6228,  1.7089]]])\n"
     ]
    }
   ],
   "source": [
    "data = Random_data(width_list, 3, 10)\n",
    "data_loader = DataLoader(data)\n",
    "print(len(data))\n",
    "for x, target in data_loader:\n",
    "    print(x)"
   ]
  },
  {
   "cell_type": "code",
   "execution_count": 4,
   "metadata": {},
   "outputs": [
    {
     "data": {
      "text/plain": [
       "device(type='cuda', index=0)"
      ]
     },
     "execution_count": 4,
     "metadata": {},
     "output_type": "execute_result"
    }
   ],
   "source": [
    "q = torch.randn(3).to('cuda:0')\n",
    "q.device"
   ]
  },
  {
   "cell_type": "code",
   "execution_count": 5,
   "metadata": {},
   "outputs": [],
   "source": [
    "x = torch.randn([1,2,3])"
   ]
  },
  {
   "cell_type": "code",
   "execution_count": 6,
   "metadata": {},
   "outputs": [
    {
     "data": {
      "text/plain": [
       "tensor([[[-0.1943, -0.2271,  0.9522],\n",
       "         [ 1.5618, -1.6365,  0.9213]]], device='cuda:0')"
      ]
     },
     "execution_count": 6,
     "metadata": {},
     "output_type": "execute_result"
    }
   ],
   "source": [
    "x.to(q.device)"
   ]
  },
  {
   "cell_type": "code",
   "execution_count": 93,
   "metadata": {},
   "outputs": [
    {
     "name": "stdout",
     "output_type": "stream",
     "text": [
      "tensor([1.4013e-45])\n",
      "tensor([inf])\n",
      "tensor([inf])\n"
     ]
    }
   ],
   "source": [
    "num_iter = 100000\n",
    "range_ = [0.5,1.5]\n",
    "m = 1\n",
    "for i in range(num_iter):\n",
    "    r = (range_[1]-range_[0])*torch.rand(1) + range_[0]\n",
    "    m *= r\n",
    "print(m)\n",
    "\n",
    "m = 1\n",
    "for i in range(num_iter):\n",
    "    r = (range_[1]-range_[0])*torch.rand(1) + range_[0]\n",
    "    m *= 1/r\n",
    "print(m)\n",
    "\n",
    "m = 1\n",
    "for i in range(int(num_iter/2)):\n",
    "    r1 = (range_[1]-range_[0])*torch.rand(1) + range_[0]\n",
    "    r2 = (1.2-0.65)*torch.rand(1) + 0.65\n",
    "    m *= (r1 * 1/r2)\n",
    "print(m)"
   ]
  },
  {
   "cell_type": "code",
   "execution_count": 67,
   "metadata": {},
   "outputs": [
    {
     "data": {
      "text/plain": [
       "tensor([1.9688])"
      ]
     },
     "execution_count": 67,
     "metadata": {},
     "output_type": "execute_result"
    }
   ],
   "source": [
    "r = 1.5*torch.rand(1) + 0.5\n",
    "r"
   ]
  },
  {
   "cell_type": "code",
   "execution_count": 78,
   "metadata": {},
   "outputs": [
    {
     "data": {
      "text/plain": [
       "tensor(9.3303)"
      ]
     },
     "execution_count": 78,
     "metadata": {},
     "output_type": "execute_result"
    }
   ],
   "source": [
    "a=2\n",
    "b=4\n",
    "r = (b-a)*torch.rand(100000) + a\n",
    "z = r*r\n",
    "z.mean()"
   ]
  },
  {
   "cell_type": "code",
   "execution_count": 77,
   "metadata": {},
   "outputs": [
    {
     "data": {
      "text/plain": [
       "torch.Size([100000])"
      ]
     },
     "execution_count": 77,
     "metadata": {},
     "output_type": "execute_result"
    }
   ],
   "source": [
    "z.shape"
   ]
  },
  {
   "cell_type": "code",
   "execution_count": 79,
   "metadata": {},
   "outputs": [
    {
     "data": {
      "text/plain": [
       "0.3333333333333333"
      ]
     },
     "execution_count": 79,
     "metadata": {},
     "output_type": "execute_result"
    }
   ],
   "source": [
    "1/3"
   ]
  },
  {
   "cell_type": "code",
   "execution_count": 224,
   "metadata": {},
   "outputs": [],
   "source": [
    "v = (2*torch.rand(10000) - 1)"
   ]
  },
  {
   "cell_type": "code",
   "execution_count": 225,
   "metadata": {},
   "outputs": [
    {
     "data": {
      "text/plain": [
       "tensor([-0.2056,  0.9440, -0.6131,  ...,  0.5120,  0.9461,  0.5986])"
      ]
     },
     "execution_count": 225,
     "metadata": {},
     "output_type": "execute_result"
    }
   ],
   "source": [
    "v"
   ]
  },
  {
   "cell_type": "code",
   "execution_count": 226,
   "metadata": {},
   "outputs": [],
   "source": [
    "scaler = 10"
   ]
  },
  {
   "cell_type": "code",
   "execution_count": 227,
   "metadata": {},
   "outputs": [],
   "source": [
    "v = ((v>0)*v) * scaler + ((v<0)*v.abs()) / scaler"
   ]
  },
  {
   "cell_type": "code",
   "execution_count": 228,
   "metadata": {},
   "outputs": [
    {
     "data": {
      "text/plain": [
       "tensor([0.0206, 9.4395, 0.0613,  ..., 5.1198, 9.4607, 5.9862])"
      ]
     },
     "execution_count": 228,
     "metadata": {},
     "output_type": "execute_result"
    }
   ],
   "source": [
    "v"
   ]
  },
  {
   "cell_type": "code",
   "execution_count": 229,
   "metadata": {},
   "outputs": [
    {
     "data": {
      "text/plain": [
       "tensor(0.)"
      ]
     },
     "execution_count": 229,
     "metadata": {},
     "output_type": "execute_result"
    }
   ],
   "source": [
    "multiplication = 1\n",
    "for num in v:\n",
    "    multiplication *= num\n",
    "multiplication"
   ]
  },
  {
   "cell_type": "code",
   "execution_count": 223,
   "metadata": {},
   "outputs": [
    {
     "data": {
      "text/plain": [
       "tensor(9.9990)"
      ]
     },
     "execution_count": 223,
     "metadata": {},
     "output_type": "execute_result"
    }
   ],
   "source": [
    "v.max()"
   ]
  },
  {
   "cell_type": "code",
   "execution_count": 210,
   "metadata": {},
   "outputs": [
    {
     "data": {
      "text/plain": [
       "tensor(0.0004)"
      ]
     },
     "execution_count": 210,
     "metadata": {},
     "output_type": "execute_result"
    }
   ],
   "source": [
    "v.min()*v.max()"
   ]
  },
  {
   "cell_type": "code",
   "execution_count": 212,
   "metadata": {},
   "outputs": [
    {
     "data": {
      "text/plain": [
       "tensor(-0.9995)"
      ]
     },
     "execution_count": 212,
     "metadata": {},
     "output_type": "execute_result"
    }
   ],
   "source": [
    "(2*torch.rand(10000) - 1).min()"
   ]
  },
  {
   "cell_type": "code",
   "execution_count": 269,
   "metadata": {},
   "outputs": [],
   "source": [
    "def f2_1(a2_1):\n",
    "    print('f2_1')\n",
    "    \n",
    "def f2_2(a2_2, k1=2):\n",
    "    print(f'f2_2   k={k1}')\n",
    "\n",
    "def f1(a1,**kwargs):\n",
    "    if a1==1:\n",
    "        f2_1(a1,**kwargs)\n",
    "    if a1==2:\n",
    "        f2_2(a1,**kwargs)"
   ]
  },
  {
   "cell_type": "code",
   "execution_count": 270,
   "metadata": {},
   "outputs": [
    {
     "name": "stdout",
     "output_type": "stream",
     "text": [
      "f2_1\n"
     ]
    }
   ],
   "source": [
    "par = {'k1':5, 'k9':9}\n",
    "f1(1)"
   ]
  },
  {
   "cell_type": "code",
   "execution_count": 374,
   "metadata": {},
   "outputs": [],
   "source": [
    "n = Sequential_modified([5,5,1],11)"
   ]
  },
  {
   "cell_type": "code",
   "execution_count": 375,
   "metadata": {},
   "outputs": [],
   "source": [
    "criterion = nn.MSELoss()\n",
    "optim = torch.optim.SGD(n.parameters(), lr = 0.01)"
   ]
  },
  {
   "cell_type": "code",
   "execution_count": 376,
   "metadata": {},
   "outputs": [],
   "source": [
    "x = 1000*torch.randn(5)\n",
    "out = n(x)"
   ]
  },
  {
   "cell_type": "code",
   "execution_count": 377,
   "metadata": {},
   "outputs": [
    {
     "data": {
      "text/plain": [
       "Parameter containing:\n",
       "tensor([[-0.3139, -0.0120,  0.4344, -0.2966,  0.0751],\n",
       "        [ 0.1732,  0.0743, -0.3323,  0.0645,  0.3800],\n",
       "        [-0.2063,  0.2526, -0.2040, -0.0329,  0.2389],\n",
       "        [ 0.0022, -0.3555,  0.2325,  0.2715,  0.2373],\n",
       "        [ 0.3317,  0.1995,  0.3009,  0.0734,  0.3036]], requires_grad=True)"
      ]
     },
     "execution_count": 377,
     "metadata": {},
     "output_type": "execute_result"
    }
   ],
   "source": [
    "n[0].weight"
   ]
  },
  {
   "cell_type": "code",
   "execution_count": 378,
   "metadata": {},
   "outputs": [],
   "source": [
    "loss = criterion(out,torch.tensor([0], dtype=torch.float32))"
   ]
  },
  {
   "cell_type": "code",
   "execution_count": 379,
   "metadata": {
    "scrolled": true
   },
   "outputs": [],
   "source": [
    "loss.backward()"
   ]
  },
  {
   "cell_type": "code",
   "execution_count": 380,
   "metadata": {},
   "outputs": [
    {
     "name": "stdout",
     "output_type": "stream",
     "text": [
      "tensor([[      0.0000,      -0.0000,      -0.0000,       0.0000,       0.0000],\n",
      "        [ 173349.0625,  -94948.1016, -280932.7812,  231823.3906,  106050.2969],\n",
      "        [ 131636.4844,  -72100.9609, -213332.5781,  176040.2656,   80531.6562],\n",
      "        [  83148.2656,  -45542.6172, -134751.6562,  111195.9453,   50867.8711],\n",
      "        [-197683.7812,  108276.9062,  320370.0625, -264366.7188, -120937.6172]])\n"
     ]
    }
   ],
   "source": [
    "print(n[0].weight.grad)"
   ]
  },
  {
   "cell_type": "code",
   "execution_count": 381,
   "metadata": {},
   "outputs": [
    {
     "name": "stdout",
     "output_type": "stream",
     "text": [
      "tensor(964355.8750)\n"
     ]
    }
   ],
   "source": [
    "# norm = clip_grad_norm_(n.parameters(), 0.1)\n",
    "print(norm)"
   ]
  },
  {
   "cell_type": "code",
   "execution_count": 382,
   "metadata": {},
   "outputs": [],
   "source": [
    "optim.step()"
   ]
  },
  {
   "cell_type": "code",
   "execution_count": 383,
   "metadata": {},
   "outputs": [
    {
     "data": {
      "text/plain": [
       "Parameter containing:\n",
       "tensor([[-3.1391e-01, -1.2027e-02,  4.3439e-01, -2.9659e-01,  7.5081e-02],\n",
       "        [-1.7333e+03,  9.4956e+02,  2.8090e+03, -2.3182e+03, -1.0601e+03],\n",
       "        [-1.3166e+03,  7.2126e+02,  2.1331e+03, -1.7604e+03, -8.0508e+02],\n",
       "        [-8.3148e+02,  4.5507e+02,  1.3477e+03, -1.1117e+03, -5.0844e+02],\n",
       "        [ 1.9772e+03, -1.0826e+03, -3.2034e+03,  2.6437e+03,  1.2097e+03]],\n",
       "       requires_grad=True)"
      ]
     },
     "execution_count": 383,
     "metadata": {},
     "output_type": "execute_result"
    }
   ],
   "source": [
    "n[0].weight"
   ]
  },
  {
   "cell_type": "code",
   "execution_count": null,
   "metadata": {},
   "outputs": [],
   "source": []
  },
  {
   "cell_type": "code",
   "execution_count": 328,
   "metadata": {},
   "outputs": [],
   "source": [
    "from torch.nn.utils import clip_grad_norm_"
   ]
  },
  {
   "cell_type": "code",
   "execution_count": null,
   "metadata": {},
   "outputs": [],
   "source": [
    "clip_grad_norm_()"
   ]
  }
 ],
 "metadata": {
  "kernelspec": {
   "display_name": "Python 3",
   "language": "python",
   "name": "python3"
  },
  "language_info": {
   "codemirror_mode": {
    "name": "ipython",
    "version": 3
   },
   "file_extension": ".py",
   "mimetype": "text/x-python",
   "name": "python",
   "nbconvert_exporter": "python",
   "pygments_lexer": "ipython3",
   "version": "3.8.5"
  }
 },
 "nbformat": 4,
 "nbformat_minor": 4
}
