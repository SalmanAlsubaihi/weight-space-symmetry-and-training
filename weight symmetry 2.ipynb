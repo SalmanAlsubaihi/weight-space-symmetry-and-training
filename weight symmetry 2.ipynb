{
 "cells": [
  {
   "cell_type": "code",
   "execution_count": 1,
   "metadata": {},
   "outputs": [],
   "source": [
    "from importlib import reload\n",
    "import utils\n",
    "reload(utils)\n",
    "from utils import *"
   ]
  },
  {
   "cell_type": "code",
   "execution_count": null,
   "metadata": {},
   "outputs": [],
   "source": [
    "def train(module, data_loader, weight_symmetry_function, weight_symmetry_condition, revert_condition, ):\n",
    "    "
   ]
  },
  {
   "cell_type": "code",
   "execution_count": null,
   "metadata": {},
   "outputs": [],
   "source": [
    "num_iter1 = 200000\n",
    "lr = 0.001\n",
    "net1 = Sequential_modified(width_list, 200)\n",
    "\n",
    "x = x.to('cuda:0')\n",
    "targets = targets.to('cuda:0')\n",
    "net1 = net1.to('cuda:0')\n",
    "\n",
    "optim1 = torch.optim.SGD(net1.parameters(), lr=lr)\n",
    "for iter_ in range(num_iter1):\n",
    "    optim1.zero_grad()\n",
    "    y1 = net1(x)\n",
    "    loss2 = criterion1(y1,targets)\n",
    "    if iter_>1 and (loss2-iter_loss2[-1][1])/iter_loss2[-1][1]>0.1:\n",
    "        print(f'[{iter_}] Bad location:  retrive to old net ..')\n",
    "        net1 = clone_net(old_net)\n",
    "        optim1 = torch.optim.SGD(net1.parameters(), lr=lr)\n",
    "        continue\n",
    "    iter_loss2.append((iter_,loss2.item()))\n",
    "    loss2.backward()\n",
    "    optim1.step()\n",
    "    if (iter_+1)%100 == 0 and net_at_stationary_point(iter_loss2, iter_interval=100,percentage=0.1):\n",
    "        print(f'[{iter_}] At stationary point:  calculating eqivelant net ..')\n",
    "        old_net = clone_net(net1)\n",
    "#         factors = generate_numbers_mul_to_1(len(width_list)-1,[0.7n = clone_net(net1),1.3])\n",
    "#         net1 = scale_net(net1, factors)\n",
    "        net1 = scale_net_type2(net1, range_=[0.5,1.6])\n",
    "loss2 = criterion1(y1,targets)\n",
    "iter_loss2.append((iter_+1,loss2.item()))"
   ]
  },
  {
   "cell_type": "code",
   "execution_count": 226,
   "metadata": {},
   "outputs": [],
   "source": [
    "params = {\n",
    "    'a':1,\n",
    "    'b':2\n",
    "}"
   ]
  },
  {
   "cell_type": "code",
   "execution_count": 227,
   "metadata": {},
   "outputs": [],
   "source": [
    "def func(**kwargs):\n",
    "    def f2(a=None, *):\n",
    "        print(a)\n",
    "    f2(**kwargs)\n",
    "#     a=5\n",
    "#     print(kwargs)\n",
    "#     kwargs\n",
    "#     print(a)"
   ]
  },
  {
   "cell_type": "code",
   "execution_count": 228,
   "metadata": {},
   "outputs": [
    {
     "ename": "TypeError",
     "evalue": "f2() got an unexpected keyword argument 'b'",
     "output_type": "error",
     "traceback": [
      "\u001b[0;31m---------------------------------------------------------------------------\u001b[0m",
      "\u001b[0;31mTypeError\u001b[0m                                 Traceback (most recent call last)",
      "\u001b[0;32m<ipython-input-228-eb451916ddd4>\u001b[0m in \u001b[0;36m<module>\u001b[0;34m\u001b[0m\n\u001b[0;32m----> 1\u001b[0;31m \u001b[0mfunc\u001b[0m\u001b[0;34m(\u001b[0m\u001b[0;34m**\u001b[0m\u001b[0mparams\u001b[0m\u001b[0;34m)\u001b[0m\u001b[0;34m\u001b[0m\u001b[0;34m\u001b[0m\u001b[0m\n\u001b[0m",
      "\u001b[0;32m<ipython-input-227-272a84f7e8b3>\u001b[0m in \u001b[0;36mfunc\u001b[0;34m(**kwargs)\u001b[0m\n\u001b[1;32m      2\u001b[0m     \u001b[0;32mdef\u001b[0m \u001b[0mf2\u001b[0m\u001b[0;34m(\u001b[0m\u001b[0ma\u001b[0m\u001b[0;34m=\u001b[0m\u001b[0;32mNone\u001b[0m\u001b[0;34m)\u001b[0m\u001b[0;34m:\u001b[0m\u001b[0;34m\u001b[0m\u001b[0;34m\u001b[0m\u001b[0m\n\u001b[1;32m      3\u001b[0m         \u001b[0mprint\u001b[0m\u001b[0;34m(\u001b[0m\u001b[0ma\u001b[0m\u001b[0;34m)\u001b[0m\u001b[0;34m\u001b[0m\u001b[0;34m\u001b[0m\u001b[0m\n\u001b[0;32m----> 4\u001b[0;31m     \u001b[0mf2\u001b[0m\u001b[0;34m(\u001b[0m\u001b[0;34m**\u001b[0m\u001b[0mkwargs\u001b[0m\u001b[0;34m)\u001b[0m\u001b[0;34m\u001b[0m\u001b[0;34m\u001b[0m\u001b[0m\n\u001b[0m\u001b[1;32m      5\u001b[0m \u001b[0;31m#     a=5\u001b[0m\u001b[0;34m\u001b[0m\u001b[0;34m\u001b[0m\u001b[0;34m\u001b[0m\u001b[0m\n\u001b[1;32m      6\u001b[0m \u001b[0;31m#     print(kwargs)\u001b[0m\u001b[0;34m\u001b[0m\u001b[0;34m\u001b[0m\u001b[0;34m\u001b[0m\u001b[0m\n",
      "\u001b[0;31mTypeError\u001b[0m: f2() got an unexpected keyword argument 'b'"
     ]
    }
   ],
   "source": [
    "func(**params)"
   ]
  },
  {
   "cell_type": "code",
   "execution_count": 225,
   "metadata": {},
   "outputs": [
    {
     "name": "stdout",
     "output_type": "stream",
     "text": [
      "None\n"
     ]
    }
   ],
   "source": [
    "func()"
   ]
  },
  {
   "cell_type": "code",
   "execution_count": null,
   "metadata": {},
   "outputs": [],
   "source": []
  },
  {
   "cell_type": "code",
   "execution_count": null,
   "metadata": {},
   "outputs": [],
   "source": [
    "d_a_11 = "
   ]
  },
  {
   "cell_type": "code",
   "execution_count": 37,
   "metadata": {},
   "outputs": [],
   "source": [
    "f = nn.Sequential(nn.Linear(2,2, bias=False), nn.Linear(2,1, bias=False))"
   ]
  },
  {
   "cell_type": "code",
   "execution_count": 46,
   "metadata": {},
   "outputs": [
    {
     "data": {
      "text/plain": [
       "tensor(0.0776)"
      ]
     },
     "execution_count": 46,
     "metadata": {},
     "output_type": "execute_result"
    }
   ],
   "source": [
    "f[1].weight.data[0][1]"
   ]
  },
  {
   "cell_type": "code",
   "execution_count": 77,
   "metadata": {},
   "outputs": [],
   "source": [
    "# labels_net = nn.Sequential(nn.Linear(2,1))\n",
    "# x = torch.randn(100,2)\n",
    "x = torch.tensor([[1,1],[2,3],[1,0]], dtype=torch.float)\n",
    "# targets = labels_net(x)\n",
    "# targets = targets.detach()\n",
    "targets = torch.tensor([[1],[5],[4]], dtype=torch.float)\n",
    "criterion = torch.nn.MSELoss()"
   ]
  },
  {
   "cell_type": "code",
   "execution_count": 171,
   "metadata": {},
   "outputs": [],
   "source": [
    "linear_net = nn.Sequential(nn.Linear(2,2, bias=False), nn.Linear(2,1, bias=False))"
   ]
  },
  {
   "cell_type": "code",
   "execution_count": 180,
   "metadata": {},
   "outputs": [],
   "source": [
    "lr=0.000001\n",
    "optim = torch.optim.SGD(linear_net.parameters(), lr=lr)\n",
    "iter_loss = []\n",
    "for iter_ in range(100000):\n",
    "    optim.zero_grad()\n",
    "    y = linear_net(x)\n",
    "    loss = criterion(y,targets)\n",
    "    iter_loss.append((iter_,loss.item()))\n",
    "    loss.backward()\n",
    "    optim.step()"
   ]
  },
  {
   "cell_type": "code",
   "execution_count": 181,
   "metadata": {},
   "outputs": [
    {
     "name": "stdout",
     "output_type": "stream",
     "text": [
      "3.1202614307403564\n"
     ]
    },
    {
     "data": {
      "image/png": "[encoded data removed]",
      "text/plain": [
       "<Figure size 432x288 with 1 Axes>"
      ]
     },
     "metadata": {
      "needs_background": "light"
     },
     "output_type": "display_data"
    }
   ],
   "source": [
    "start = 0\n",
    "iter_, loss_list = zip(*iter_loss)\n",
    "plt.plot(iter_[start:], loss_list[start:])\n",
    "print(min(loss_list))"
   ]
  },
  {
   "cell_type": "code",
   "execution_count": 182,
   "metadata": {},
   "outputs": [
    {
     "name": "stdout",
     "output_type": "stream",
     "text": [
      "tensor([[ 1.2855, -1.0644],\n",
      "        [-0.2105,  0.1743]])\n"
     ]
    }
   ],
   "source": [
    "print(linear_net[0].weight.grad)"
   ]
  },
  {
   "cell_type": "code",
   "execution_count": 161,
   "metadata": {},
   "outputs": [],
   "source": [
    "A = linear_net[0].weight.data\n",
    "B = linear_net[1].weight.data"
   ]
  },
  {
   "cell_type": "code",
   "execution_count": 162,
   "metadata": {},
   "outputs": [
    {
     "data": {
      "text/plain": [
       "tensor([[ 3.4546, -0.8182]])"
      ]
     },
     "execution_count": 162,
     "metadata": {},
     "output_type": "execute_result"
    }
   ],
   "source": [
    "AB = torch.matmul(B,A)\n",
    "AB"
   ]
  },
  {
   "cell_type": "code",
   "execution_count": 1,
   "metadata": {},
   "outputs": [],
   "source": [
    "from torch import nn"
   ]
  },
  {
   "cell_type": "code",
   "execution_count": null,
   "metadata": {},
   "outputs": [],
   "source": [
    "nn.CrossEntropyLoss"
   ]
  }
 ],
 "metadata": {
  "kernelspec": {
   "display_name": "Python 3",
   "language": "python",
   "name": "python3"
  },
  "language_info": {
   "codemirror_mode": {
    "name": "ipython",
    "version": 3
   },
   "file_extension": ".py",
   "mimetype": "text/x-python",
   "name": "python",
   "nbconvert_exporter": "python",
   "pygments_lexer": "ipython3",
   "version": "3.8.5"
  }
 },
 "nbformat": 4,
 "nbformat_minor": 4
}
