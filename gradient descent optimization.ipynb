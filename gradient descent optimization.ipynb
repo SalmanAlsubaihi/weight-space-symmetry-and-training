{
 "cells": [
  {
   "cell_type": "code",
   "execution_count": 1,
   "metadata": {},
   "outputs": [],
   "source": [
    "import numpy as np\n",
    "\n",
    "class Function():\n",
    "    def __init__(self, *params, **kwargs):\n",
    "        self.params = params\n",
    "        self.func = kwargs['function']\n",
    "        self.grad_func = kwargs['grad_function']\n",
    "    def __call__(self):\n",
    "        return self.func(self.params)\n",
    "    def calculate_grad(self):\n",
    "        self.grad = self.grad_func(self.params)\n",
    "        return self.grad\n",
    "    def step(self, step_size):\n",
    "        self.params += - step_size * np.array(self.grad)\n",
    "\n",
    "\n",
    "# def simple_func(params):\n",
    "#     return np.abs(params[0]*params[1]+10)\n",
    "# def grad_func(params):\n",
    "#     return np.sign(params[0]*params[1]+10)*np.array([params[1], params[0]])\n",
    "\n",
    "def simple_func(params):\n",
    "    return np.abs(np.matmul(params[0],params[1]) +10)\n",
    "def grad_func(params):\n",
    "    return np.sign(np.matmul(params[0],params[1]) +10) * np.array([params[1], params[0]])"
   ]
  },
  {
   "cell_type": "code",
   "execution_count": 2,
   "metadata": {},
   "outputs": [],
   "source": [
    "# params = np.array([3,2])\n",
    "params = np.array([[1,-2],[5,6]])\n",
    "kwargs = {'function':simple_func, 'grad_function':grad_func}\n",
    "f = Function(*params, **kwargs)"
   ]
  },
  {
   "cell_type": "code",
   "execution_count": 4,
   "metadata": {},
   "outputs": [],
   "source": [
    "a=np.array([[ 0.53774807, -0.90220421],\n",
    "       [-0.34134399, -1.8529719 ]])"
   ]
  },
  {
   "cell_type": "code",
   "execution_count": 43,
   "metadata": {},
   "outputs": [
    {
     "name": "stdout",
     "output_type": "stream",
     "text": [
      "[[ 0.53774807 -0.90220421]\n",
      " [-0.34134399 -1.8529719 ]]\n"
     ]
    }
   ],
   "source": [
    "# params = np.array([3,2])\n",
    "# initial_params = np.random.randn(2,2)\n",
    "initial_params = np.array([[ 0.53774807, -0.90220421], [-0.34134399, -1.8529719 ]])\n",
    "# initial_params = np.array([10*initial_params[0], 0.1*initial_params[1]])\n",
    "print(initial_params)\n",
    "kwargs = {'function':simple_func, 'grad_function':grad_func}\n",
    "f = Function(*params, **kwargs)\n",
    "value = []\n",
    "line_space = np.linspace(0, 10, 10001)\n",
    "for step_size in line_space:\n",
    "    params = initial_params\n",
    "    f = Function(*params, **kwargs)\n",
    "    f.calculate_grad()\n",
    "    f.step(step_size)\n",
    "    value.append(f())"
   ]
  },
  {
   "cell_type": "code",
   "execution_count": 44,
   "metadata": {},
   "outputs": [
    {
     "data": {
      "text/plain": [
       "array([[ 0.53774807, -0.90220421],\n",
       "       [-0.34134399, -1.8529719 ]])"
      ]
     },
     "execution_count": 44,
     "metadata": {},
     "output_type": "execute_result"
    }
   ],
   "source": [
    "initial_params"
   ]
  },
  {
   "cell_type": "code",
   "execution_count": 45,
   "metadata": {},
   "outputs": [
    {
     "data": {
      "text/plain": [
       "[<matplotlib.lines.Line2D at 0x7ff663ce0160>]"
      ]
     },
     "execution_count": 45,
     "metadata": {},
     "output_type": "execute_result"
    },
    {
     "data": {
      "image/png": "[encoded data removed]",
      "text/plain": [
       "<Figure size 432x288 with 1 Axes>"
      ]
     },
     "metadata": {
      "needs_background": "light"
     },
     "output_type": "display_data"
    }
   ],
   "source": [
    "import matplotlib.pyplot as plt\n",
    "\n",
    "plt.plot(line_space, value)"
   ]
  },
  {
   "cell_type": "code",
   "execution_count": 46,
   "metadata": {},
   "outputs": [
    {
     "data": {
      "text/plain": [
       "11.488201977363099"
      ]
     },
     "execution_count": 46,
     "metadata": {},
     "output_type": "execute_result"
    }
   ],
   "source": [
    "value[0]"
   ]
  },
  {
   "cell_type": "code",
   "execution_count": 29,
   "metadata": {},
   "outputs": [
    {
     "data": {
      "text/plain": [
       "11.488201977363099"
      ]
     },
     "execution_count": 29,
     "metadata": {},
     "output_type": "execute_result"
    }
   ],
   "source": [
    "value[0]"
   ]
  },
  {
   "cell_type": "code",
   "execution_count": null,
   "metadata": {},
   "outputs": [],
   "source": [
    "torch."
   ]
  }
 ],
 "metadata": {
  "kernelspec": {
   "display_name": "Python 3",
   "language": "python",
   "name": "python3"
  },
  "language_info": {
   "codemirror_mode": {
    "name": "ipython",
    "version": 3
   },
   "file_extension": ".py",
   "mimetype": "text/x-python",
   "name": "python",
   "nbconvert_exporter": "python",
   "pygments_lexer": "ipython3",
   "version": "3.8.5"
  }
 },
 "nbformat": 4,
 "nbformat_minor": 4
}
