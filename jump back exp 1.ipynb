{
 "cells": [
  {
   "cell_type": "code",
   "execution_count": 1,
   "metadata": {},
   "outputs": [],
   "source": [
    "from utils import *\n",
    "import numpy as np\n",
    "import random"
   ]
  },
  {
   "cell_type": "code",
   "execution_count": 62,
   "metadata": {},
   "outputs": [],
   "source": [
    "def normalize_grad_norm_(parameters) -> torch.Tensor:\n",
    "    if isinstance(parameters, torch.Tensor):\n",
    "        parameters = [parameters]\n",
    "    parameters = [p for p in parameters if p.grad is not None]\n",
    "    if len(parameters) == 0:\n",
    "        return torch.tensor(0.)\n",
    "    device = parameters[0].grad.device\n",
    "    total_norm = torch.norm(torch.stack([torch.norm(p.grad.detach()).to(device) for p in parameters]))\n",
    "    coef = 1/total_norm\n",
    "    for p in parameters:\n",
    "        p.grad.detach().mul_(coef.to(p.grad.device))\n",
    "    return total_norm\n",
    "\n",
    "def turn_off_bias_grad(net):\n",
    "    for l in net:\n",
    "        if isinstance(l, nn.Linear):\n",
    "            l.bias.requires_grad = False\n",
    "            \n",
    "def zero_bias(net):\n",
    "    for l in net:\n",
    "        if isinstance(l, nn.Linear):\n",
    "            l.bias.data = torch.zeros_like(l.bias.data)"
   ]
  },
  {
   "cell_type": "code",
   "execution_count": 2,
   "metadata": {},
   "outputs": [],
   "source": [
    "n1 = nn.Sequential(nn.Linear(5,5),nn.Linear(5,1))\n",
    "n1[0].weight.data = n1[0].weight.data.type(torch.float64)\n",
    "n1[1].weight.data = n1[1].weight.data.type(torch.float64)\n",
    "n1[0].bias.data = n1[0].bias.data.type(torch.float64)\n",
    "n1[1].bias.data = n1[1].bias.data.type(torch.float64)\n",
    "\n",
    "n1[0].bias.data = torch.zeros_like(n1[0].bias.data)\n",
    "n1[1].bias.data = torch.zeros_like(n1[1].bias.data)\n",
    "\n",
    "n1_copy = nn.Sequential(nn.Linear(5,5),nn.Linear(5,1))\n",
    "copy_weights(n1, n1_copy)\n",
    "n1_copy[0].weight.data = n1[0].weight.data.type(torch.float64)\n",
    "n1_copy[1].weight.data = n1[1].weight.data.type(torch.float64)\n",
    "n1_copy[0].bias.data = n1[0].bias.data.type(torch.float64)\n",
    "n1_copy[1].bias.data = n1[1].bias.data.type(torch.float64)\n",
    "\n",
    "n1[0].bias.requires_grad = False\n",
    "n1[1].bias.requires_grad = False\n",
    "n1_copy[0].bias.requires_grad = False\n",
    "n1_copy[1].bias.requires_grad = False"
   ]
  },
  {
   "cell_type": "code",
   "execution_count": 3,
   "metadata": {},
   "outputs": [],
   "source": [
    "batch_size = 1000\n",
    "x = 10*torch.randn(batch_size,5, dtype=torch.float64)\n",
    "targets = 2*torch.randn(batch_size,1, dtype=torch.float64)\n",
    "criterion = nn.MSELoss()"
   ]
  },
  {
   "cell_type": "code",
   "execution_count": 4,
   "metadata": {},
   "outputs": [
    {
     "data": {
      "text/plain": [
       "tensor(0., dtype=torch.float64)"
      ]
     },
     "execution_count": 4,
     "metadata": {},
     "output_type": "execute_result"
    }
   ],
   "source": [
    "(n1[0].weight.data - n1_copy[0].weight.data).abs().max()"
   ]
  },
  {
   "cell_type": "code",
   "execution_count": 5,
   "metadata": {},
   "outputs": [],
   "source": [
    "# v = 2*torch.ones_like(v)\n",
    "v = 1.5*torch.rand(5, dtype=torch.float64) + 0.5\n",
    "diag_mat = torch.diag(v)\n",
    "diag_mat_inv = torch.diag(1/v)\n",
    "n1[0].weight.data = torch.matmul(diag_mat, n1[0].weight.data)\n",
    "# n1[0].bias.data = torch.matmul(diag_mat, n1[0].bias.data)\n",
    "n1[1].weight.data = torch.matmul(n1[1].weight.data, diag_mat_inv)"
   ]
  },
  {
   "cell_type": "code",
   "execution_count": 6,
   "metadata": {},
   "outputs": [
    {
     "data": {
      "text/plain": [
       "tensor(0.3138, dtype=torch.float64)"
      ]
     },
     "execution_count": 6,
     "metadata": {},
     "output_type": "execute_result"
    }
   ],
   "source": [
    "(n1[0].weight.data - n1_copy[0].weight.data).abs().max()"
   ]
  },
  {
   "cell_type": "code",
   "execution_count": 7,
   "metadata": {},
   "outputs": [],
   "source": [
    "diag_mat_sq = torch.matmul(diag_mat, diag_mat)\n",
    "diag_mat_inv_sq = torch.matmul(diag_mat_inv, diag_mat_inv)"
   ]
  },
  {
   "cell_type": "code",
   "execution_count": 8,
   "metadata": {},
   "outputs": [],
   "source": [
    "optim1 = torch.optim.SGD(n1.parameters(), lr = 1)\n",
    "optim2 = torch.optim.SGD(n1_copy.parameters(), lr = 1)"
   ]
  },
  {
   "cell_type": "code",
   "execution_count": 9,
   "metadata": {},
   "outputs": [
    {
     "data": {
      "text/plain": [
       "tensor(2.2204e-15, dtype=torch.float64, grad_fn=<MaxBackward1>)"
      ]
     },
     "execution_count": 9,
     "metadata": {},
     "output_type": "execute_result"
    }
   ],
   "source": [
    "(n1(x) - n1_copy(x)).abs().max()l.bias.data"
   ]
  },
  {
   "cell_type": "code",
   "execution_count": 10,
   "metadata": {},
   "outputs": [
    {
     "name": "stdout",
     "output_type": "stream",
     "text": [
      "tensor([[-10.6191,   2.7505,   0.4137,  -0.9133,  -3.6858],\n",
      "        [-24.1424,   6.2531,   0.9405,  -2.0764,  -8.3795],\n",
      "        [  6.2442,  -1.6173,  -0.2433,   0.5370,   2.1673],\n",
      "        [ -6.5466,   1.6956,   0.2550,  -0.5630,  -2.2723],\n",
      "        [  1.7463,  -0.4523,  -0.0680,   0.1502,   0.6061]],\n",
      "       dtype=torch.float64)\n",
      "tensor([[25.0421,  9.7548,  0.8253,  9.1209, -5.6090]], dtype=torch.float64)\n"
     ]
    }
   ],
   "source": [
    "optim1.zero_grad()\n",
    "out1 = n1(x)\n",
    "loss1 = criterion(out1, targets)\n",
    "loss1.backward()\n",
    "gradiants_n1 = []\n",
    "for l in n1:\n",
    "    gradiants_n1.append(l.weight.grad)\n",
    "    print(l.weight.grad)"
   ]
  },
  {
   "cell_type": "code",
   "execution_count": 11,
   "metadata": {},
   "outputs": [
    {
     "name": "stdout",
     "output_type": "stream",
     "text": [
      "tensor([[-10.8847,   2.8193,   0.4240,  -0.9361,  -3.7780],\n",
      "        [-12.3701,   3.2040,   0.4819,  -1.0639,  -4.2935],\n",
      "        [ 10.7702,  -2.7896,  -0.4196,   0.9263,   3.7382],\n",
      "        [ -9.0210,   2.3365,   0.3514,  -0.7759,  -3.1311],\n",
      "        [  1.9491,  -0.5048,  -0.0759,   0.1676,   0.6765]],\n",
      "       dtype=torch.float64)\n",
      "tensor([[24.4310, 19.0381,  0.4785,  6.6191, -5.0256]], dtype=torch.float64)\n"
     ]
    }
   ],
   "source": [
    "optim2.zero_grad()\n",
    "out2 = n1_copy(x)\n",
    "loss2 = criterion(out2, targets)\n",
    "loss2.backward()\n",
    "gradiants_copy = []\n",
    "for l in n1_copy:\n",
    "    gradiants_copy.append(l.weight.grad)\n",
    "    print(l.weight.grad)"
   ]
  },
  {
   "cell_type": "code",
   "execution_count": 12,
   "metadata": {},
   "outputs": [
    {
     "data": {
      "text/plain": [
       "tensor(7.1054e-15, dtype=torch.float64)"
      ]
     },
     "execution_count": 12,
     "metadata": {},
     "output_type": "execute_result"
    }
   ],
   "source": [
    "(torch.matmul(diag_mat_inv, gradiants_copy[0]) - gradiants_n1[0]).abs().max()"
   ]
  },
  {
   "cell_type": "code",
   "execution_count": 13,
   "metadata": {},
   "outputs": [
    {
     "data": {
      "text/plain": [
       "tensor(2.4869e-14, dtype=torch.float64)"
      ]
     },
     "execution_count": 13,
     "metadata": {},
     "output_type": "execute_result"
    }
   ],
   "source": [
    "(torch.matmul(gradiants_copy[1], diag_mat) - gradiants_n1[1]).abs().max()"
   ]
  },
  {
   "cell_type": "code",
   "execution_count": 14,
   "metadata": {},
   "outputs": [],
   "source": [
    "# assign gradients\n",
    "n1_copy[0].weight.grad = torch.matmul(diag_mat_inv_sq, gradiants_copy[0])\n",
    "n1_copy[1].weight.grad = torch.matmul(gradiants_copy[1], diag_mat_sq)"
   ]
  },
  {
   "cell_type": "code",
   "execution_count": 15,
   "metadata": {},
   "outputs": [
    {
     "data": {
      "text/plain": [
       "tensor([[25.0421,  9.7548,  0.8253,  9.1209, -5.6090]], dtype=torch.float64)"
      ]
     },
     "execution_count": 15,
     "metadata": {},
     "output_type": "execute_result"
    }
   ],
   "source": [
    "n1[1].weight.grad"
   ]
  },
  {
   "cell_type": "code",
   "execution_count": 16,
   "metadata": {},
   "outputs": [],
   "source": [
    "optim1.step()\n",
    "optim2.step()"
   ]
  },
  {
   "cell_type": "code",
   "execution_count": 17,
   "metadata": {},
   "outputs": [
    {
     "data": {
      "text/plain": [
       "tensor(7.2760e-12, dtype=torch.float64, grad_fn=<MaxBackward1>)"
      ]
     },
     "execution_count": 17,
     "metadata": {},
     "output_type": "execute_result"
    }
   ],
   "source": [
    "(n1(x) - n1_copy(x)).abs().max()"
   ]
  },
  {
   "cell_type": "code",
   "execution_count": null,
   "metadata": {},
   "outputs": [],
   "source": []
  },
  {
   "cell_type": "code",
   "execution_count": null,
   "metadata": {},
   "outputs": [],
   "source": []
  },
  {
   "cell_type": "code",
   "execution_count": null,
   "metadata": {},
   "outputs": [],
   "source": []
  },
  {
   "cell_type": "code",
   "execution_count": 51,
   "metadata": {},
   "outputs": [],
   "source": [
    "net = nn.Sequential(nn.Linear(5,5),nn.Linear(5,1))\n",
    "batch_size = 1000\n",
    "x = 10*torch.randn(batch_size,5)\n",
    "targets = 2*torch.randn(batch_size,1)\n",
    "criterion = nn.MSELoss()"
   ]
  },
  {
   "cell_type": "code",
   "execution_count": 177,
   "metadata": {},
   "outputs": [
    {
     "name": "stdout",
     "output_type": "stream",
     "text": [
      "original_grad\n",
      "0\n",
      "1\n",
      "2\n",
      "3\n",
      "4\n",
      "5\n",
      "6\n",
      "7\n",
      "8\n"
     ]
    }
   ],
   "source": [
    "net_seed = np.random.randint(0,100000)\n",
    "start, stop, step = 0, 0.1, 0.001\n",
    "\n",
    "exp_seeds = ['original_grad'] + list(range(0,9,1))\n",
    "\n",
    "all_exp = {}\n",
    "for exp_s in exp_seeds:\n",
    "    print(exp_s)\n",
    "    lr_loss = []\n",
    "    if exp_s == 'original_grad':\n",
    "        for lr in np.linspace(start, stop, int((stop-start)/step)+1):\n",
    "            net = Sequential_modified([5,5,1], net_seed)\n",
    "            zero_bias(net)\n",
    "            turn_off_bias_grad(net)\n",
    "            optim = torch.optim.SGD(net.parameters(), lr=lr)\n",
    "            optim.zero_grad()\n",
    "            out = net(x)\n",
    "            loss = criterion(out, targets)\n",
    "            loss.backward()\n",
    "            normalize_grad_norm_(net.parameters())\n",
    "            optim.step()\n",
    "            out = net(x)\n",
    "            loss = criterion(out, targets)\n",
    "            lr_loss.append((lr, loss.item()))\n",
    "    else:\n",
    "        exp_s = np.random.randint(0,100000)\n",
    "        torch.manual_seed(exp_s)\n",
    "        v = 1.5*torch.rand(5) + 0.5\n",
    "        diag_mat = torch.diag(v)\n",
    "        diag_mat_inv = torch.diag(1/v)\n",
    "        diag_mat_sq = torch.matmul(diag_mat, diag_mat)\n",
    "        diag_mat_inv_sq = torch.matmul(diag_mat_inv, diag_mat_inv)\n",
    "        for lr in np.linspace(start, stop, int((stop-start)/step)+1):\n",
    "            net = Sequential_modified([5,5,1], net_seed)\n",
    "            zero_bias(net)\n",
    "            turn_off_bias_grad(net)\n",
    "            optim = torch.optim.SGD(net.parameters(), lr=lr)\n",
    "            optim.zero_grad()\n",
    "            out = net(x)\n",
    "            loss = criterion(out, targets)\n",
    "            loss.backward()\n",
    "            \n",
    "            net[0].weight.grad = torch.matmul(diag_mat_inv_sq, net[0].weight.grad)\n",
    "            net[2].weight.grad = torch.matmul(net[2].weight.grad, diag_mat_sq)\n",
    "            \n",
    "            normalize_grad_norm_(net.parameters())\n",
    "            optim.step()\n",
    "            out = net(x)\n",
    "            loss = criterion(out, targets)\n",
    "            lr_loss.append((lr, loss.item()))\n",
    "    all_exp.update({str(exp_s):lr_loss})"
   ]
  },
  {
   "cell_type": "code",
   "execution_count": 181,
   "metadata": {},
   "outputs": [
    {
     "data": {
      "text/plain": [
       "<matplotlib.legend.Legend at 0x7f04142b7eb0>"
      ]
     },
     "execution_count": 181,
     "metadata": {},
     "output_type": "execute_result"
    },
    {
     "data": {
      "image/png": "[encoded data removed]",
      "text/plain": [
       "<Figure size 432x288 with 1 Axes>"
      ]
     },
     "metadata": {
      "needs_background": "light"
     },
     "output_type": "display_data"
    }
   ],
   "source": [
    "import matplotlib.pyplot as plt\n",
    "for key, data in all_exp.items():\n",
    "#     print(key)\n",
    "#     plt.figure()\n",
    "    lr, loss = zip(*data)\n",
    "    plt.plot(lr, loss)\n",
    "    plt.ylim([9, 13])\n",
    "    plt.xlim([0, 0.1])\n",
    "plt.legend(all_exp.keys())"
   ]
  },
  {
   "cell_type": "code",
   "execution_count": null,
   "metadata": {},
   "outputs": [],
   "source": []
  },
  {
   "cell_type": "code",
   "execution_count": null,
   "metadata": {},
   "outputs": [],
   "source": []
  },
  {
   "cell_type": "code",
   "execution_count": null,
   "metadata": {},
   "outputs": [],
   "source": [
    "(((n1[0].weight.grad).norm())**2 + ((n1[1].weight.grad).norm())**2)**(1/2)"
   ]
  },
  {
   "cell_type": "code",
   "execution_count": 37,
   "metadata": {},
   "outputs": [],
   "source": [
    "norm_ = normalize_grad_norm_(n1.parameters())"
   ]
  },
  {
   "cell_type": "code",
   "execution_count": 40,
   "metadata": {},
   "outputs": [],
   "source": [
    "norm_ = normalize_grad_norm_(n1.parameters())"
   ]
  },
  {
   "cell_type": "code",
   "execution_count": 41,
   "metadata": {},
   "outputs": [
    {
     "data": {
      "text/plain": [
       "tensor(1., dtype=torch.float64)"
      ]
     },
     "execution_count": 41,
     "metadata": {},
     "output_type": "execute_result"
    }
   ],
   "source": [
    "norm_"
   ]
  },
  {
   "cell_type": "code",
   "execution_count": 73,
   "metadata": {},
   "outputs": [],
   "source": [
    "net = Sequential_modified([5,5,1], 1)"
   ]
  },
  {
   "cell_type": "code",
   "execution_count": 76,
   "metadata": {},
   "outputs": [
    {
     "data": {
      "text/plain": [
       "False"
      ]
     },
     "execution_count": 76,
     "metadata": {},
     "output_type": "execute_result"
    }
   ],
   "source": [
    "net[0].bias.requires_grad"
   ]
  },
  {
   "cell_type": "code",
   "execution_count": 75,
   "metadata": {},
   "outputs": [
    {
     "data": {
      "text/plain": [
       "Sequential_modified(\n",
       "  (0): Linear(in_features=5, out_features=5, bias=True)\n",
       "  (1): ReLU()\n",
       "  (2): Linear(in_features=5, out_features=1, bias=True)\n",
       ")"
      ]
     },
     "execution_count": 75,
     "metadata": {},
     "output_type": "execute_result"
    }
   ],
   "source": [
    "turn_grad_off(net)"
   ]
  },
  {
   "cell_type": "code",
   "execution_count": 65,
   "metadata": {},
   "outputs": [
    {
     "data": {
      "text/plain": [
       "Parameter containing:\n",
       "tensor([0., 0., 0., 0., 0.])"
      ]
     },
     "execution_count": 65,
     "metadata": {},
     "output_type": "execute_result"
    }
   ],
   "source": [
    "net[0].bias"
   ]
  },
  {
   "cell_type": "code",
   "execution_count": 64,
   "metadata": {},
   "outputs": [],
   "source": [
    "zero_bias(net)"
   ]
  },
  {
   "cell_type": "code",
   "execution_count": 153,
   "metadata": {},
   "outputs": [],
   "source": [
    "def calc_loss(p):\n",
    "    return abs(p[0]*p[1] + 10)"
   ]
  },
  {
   "cell_type": "code",
   "execution_count": 468,
   "metadata": {},
   "outputs": [],
   "source": [
    "start, stop, step = 0, 0.1, 0.000001\n",
    "\n",
    "a, b = 2, 3\n",
    "alpha = 3\n",
    "\n",
    "p_loss = []\n",
    "p_alpha_loss = []\n",
    "for lr in np.linspace(start, stop, int((stop-start)/step)+1):\n",
    "    p = np.array([a, b])\n",
    "    p_alpha = np.array([a*alpha, b/alpha])\n",
    "    p_grad = np.array([b, a])\n",
    "    p_grad_normalized = p_grad/np.linalg.norm(p_grad)\n",
    "    \n",
    "    p_alpha_grad = np.array([b/alpha, a*alpha])\n",
    "    p_alpha_grad_normalized = p_alpha_grad/np.linalg.norm(p_alpha_grad)\n",
    "    \n",
    "    p_alpha_grad_equiv = np.array([b/(alpha**2), a*(alpha**2)])\n",
    "    p_alpha_grad_equiv_normalized = p_alpha_grad_equiv/np.linalg.norm(p_alpha_grad_equiv)\n",
    "    \n",
    "    p_alpha_grad_equiv_normalized = np.array([p_alpha_grad_normalized[0]/alpha, p_alpha_grad_normalized[1]*alpha])\n",
    "    p_alpha_grad_equiv_normalized = p_alpha_grad_equiv_normalized/np.linalg.norm(p_alpha_grad_equiv_normalized)\n",
    "    \n",
    "    p_new = p - lr*p_grad_normalized\n",
    "#     p_alpha_new___ = p - lr*p_alpha_grad_equiv_normalized ####\n",
    "#     p_alpha_new = p_alpha - lr*p_alpha_grad_normalized\n",
    "    \n",
    "#     p_alpha_new = p - lr*p_alpha_grad_equiv_normalized ####\n",
    "    p_alpha_new = p_alpha - lr*p_alpha_grad_normalized\n",
    "    \n",
    "    p_loss.append((lr, calc_loss(p_new)))\n",
    "    p_alpha_loss.append((lr, calc_loss(p_alpha_new)))"
   ]
  },
  {
   "cell_type": "code",
   "execution_count": 469,
   "metadata": {},
   "outputs": [],
   "source": [
    "all_exp = {}\n",
    "all_exp.update({'p':p_loss})\n",
    "all_exp.update({'p_alpha':p_alpha_loss})"
   ]
  },
  {
   "cell_type": "code",
   "execution_count": 470,
   "metadata": {},
   "outputs": [
    {
     "name": "stdout",
     "output_type": "stream",
     "text": [
      "15.644060257068986\n",
      "15.393345368591799\n"
     ]
    },
    {
     "data": {
      "text/plain": [
       "<matplotlib.legend.Legend at 0x7f040fa941c0>"
      ]
     },
     "execution_count": 470,
     "metadata": {},
     "output_type": "execute_result"
    },
    {
     "data": {
      "image/png": "[encoded data removed]",
      "text/plain": [
       "<Figure size 432x288 with 1 Axes>"
      ]
     },
     "metadata": {
      "needs_background": "light"
     },
     "output_type": "display_data"
    }
   ],
   "source": [
    "import matplotlib.pyplot as plt\n",
    "for key, data in all_exp.items():\n",
    "#     print(key)\n",
    "#     plt.figure()\n",
    "    lr, loss = zip(*data)\n",
    "    plt.plot(lr, loss)\n",
    "#     plt.ylim([10, 17])\n",
    "    print(loss[-1])\n",
    "plt.legend(all_exp.keys())"
   ]
  },
  {
   "cell_type": "code",
   "execution_count": 450,
   "metadata": {},
   "outputs": [
    {
     "ename": "SyntaxError",
     "evalue": "invalid syntax (<ipython-input-450-3aba30ed73bb>, line 2)",
     "output_type": "error",
     "traceback": [
      "\u001b[0;36m  File \u001b[0;32m\"<ipython-input-450-3aba30ed73bb>\"\u001b[0;36m, line \u001b[0;32m2\u001b[0m\n\u001b[0;31m    a*alpha - lr*\u001b[0m\n\u001b[0m                 ^\u001b[0m\n\u001b[0;31mSyntaxError\u001b[0m\u001b[0;31m:\u001b[0m invalid syntax\n"
     ]
    }
   ],
   "source": [
    "# p_alpha_new\n",
    "a*alpha - lr*"
   ]
  },
  {
   "cell_type": "code",
   "execution_count": 430,
   "metadata": {},
   "outputs": [
    {
     "data": {
      "text/plain": [
       "-1.7957479897135968"
      ]
     },
     "execution_count": 430,
     "metadata": {},
     "output_type": "execute_result"
    }
   ],
   "source": [
    "p_alpha_new[0]*p_alpha_new[1] - p_alpha_new___[0]*p_alpha_new___[1]"
   ]
  },
  {
   "cell_type": "code",
   "execution_count": 432,
   "metadata": {},
   "outputs": [
    {
     "data": {
      "text/plain": [
       "5.99795523499835"
      ]
     },
     "execution_count": 432,
     "metadata": {},
     "output_type": "execute_result"
    }
   ],
   "source": [
    "1.999985*2.99900011"
   ]
  },
  {
   "cell_type": "code",
   "execution_count": 433,
   "metadata": {},
   "outputs": [
    {
     "data": {
      "text/plain": [
       "100"
      ]
     },
     "execution_count": 433,
     "metadata": {},
     "output_type": "execute_result"
    }
   ],
   "source": [
    "alpha**2"
   ]
  },
  {
   "cell_type": "code",
   "execution_count": 434,
   "metadata": {},
   "outputs": [
    {
     "data": {
      "text/plain": [
       "1.6441352781565683"
      ]
     },
     "execution_count": 434,
     "metadata": {},
     "output_type": "execute_result"
    }
   ],
   "source": [
    "p_new[0]*p_new[1] - p_alpha_new[0]*p_alpha_new[1]"
   ]
  },
  {
   "cell_type": "code",
   "execution_count": 426,
   "metadata": {},
   "outputs": [
    {
     "data": {
      "text/plain": [
       "array([19.99985002,  0.29000112])"
      ]
     },
     "execution_count": 426,
     "metadata": {},
     "output_type": "execute_result"
    }
   ],
   "source": [
    "p_alpha_new"
   ]
  },
  {
   "cell_type": "code",
   "execution_count": null,
   "metadata": {},
   "outputs": [],
   "source": []
  },
  {
   "cell_type": "code",
   "execution_count": 10,
   "metadata": {},
   "outputs": [],
   "source": [
    "net1 = Sequential_modified([5,5,5,1], seed=100)"
   ]
  },
  {
   "cell_type": "code",
   "execution_count": 11,
   "metadata": {},
   "outputs": [],
   "source": [
    "net2 = Sequential_modified_2([5,5,5,1], seed=100)"
   ]
  },
  {
   "cell_type": "code",
   "execution_count": 12,
   "metadata": {},
   "outputs": [],
   "source": [
    "optim1 = torch.optim.SGD(net1.parameters(), lr=1)\n",
    "optim2 = torch.optim.SGD(net2.parameters(), lr=1)"
   ]
  },
  {
   "cell_type": "code",
   "execution_count": 13,
   "metadata": {},
   "outputs": [],
   "source": [
    "batch_size = 1000\n",
    "x = 10*torch.randn(batch_size,5)\n",
    "targets = 2*torch.randn(batch_size,1)\n",
    "criterion = nn.MSELoss()"
   ]
  },
  {
   "cell_type": "code",
   "execution_count": 14,
   "metadata": {},
   "outputs": [],
   "source": [
    "optim1.zero_grad()\n",
    "net1 = diagonal_matrix_symmetry_balanced_3(net1, 2, 100)\n",
    "out1 = net1(x)\n",
    "loss1 = criterion(out1, targets)\n",
    "loss1.backward()\n",
    "optim1.step()\n",
    "\n",
    "optim2.zero_grad()\n",
    "out2 = net2(x)\n",
    "loss2 = criterion(out2, targets)\n",
    "loss2.backward()\n",
    "optim2.step()"
   ]
  },
  {
   "cell_type": "code",
   "execution_count": 15,
   "metadata": {},
   "outputs": [
    {
     "data": {
      "text/plain": [
       "tensor(7.1526e-07, grad_fn=<MaxBackward1>)"
      ]
     },
     "execution_count": 15,
     "metadata": {},
     "output_type": "execute_result"
    }
   ],
   "source": [
    "(out1-out2).max()"
   ]
  },
  {
   "cell_type": "code",
   "execution_count": 16,
   "metadata": {},
   "outputs": [
    {
     "name": "stdout",
     "output_type": "stream",
     "text": [
      "tensor([[ 5.6325e-03, -1.9003e-03,  5.7731e-03, -5.0916e-03,  7.3978e-04],\n",
      "        [ 4.5690e-01, -2.3964e+00, -2.6378e+00,  1.4673e-01, -6.8174e-01],\n",
      "        [-3.5947e-01,  5.1545e-01,  2.2729e-02,  8.0619e-01, -3.1151e-01],\n",
      "        [ 1.0285e-03,  1.7370e-02,  1.4789e-02, -4.0335e-03, -6.9280e-05],\n",
      "        [-7.8424e-01,  5.7851e-01,  1.0682e-01,  1.1445e+00, -2.6965e-01]])\n",
      "tensor([[-5.2424e-02, -2.5218e-05, -2.6175e-04, -4.3902e-02, -4.0520e-04],\n",
      "        [ 1.5108e+02,  2.2926e+00,  8.0218e-01,  7.6591e+01,  4.7933e+00],\n",
      "        [ 3.9982e-03,  0.0000e+00,  5.3697e-05,  2.2437e-04,  8.0202e-05],\n",
      "        [ 5.8604e+00,  9.2037e-03,  3.3300e-02,  6.9895e+00,  1.8103e-01],\n",
      "        [ 6.2120e+02,  9.0589e+00,  2.7125e+00,  1.8955e+02,  1.7192e+01]])\n",
      "tensor([[ 2.6368,  1.0662,  0.5268, 41.6131,  0.2743]])\n"
     ]
    }
   ],
   "source": [
    "for l in net1:\n",
    "    if isinstance(l, nn.Linear):\n",
    "        print(l.weight.grad)"
   ]
  },
  {
   "cell_type": "code",
   "execution_count": 17,
   "metadata": {},
   "outputs": [
    {
     "name": "stdout",
     "output_type": "stream",
     "text": [
      "tensor([[ 0.2902, -0.0979,  0.2975, -0.2623,  0.0381],\n",
      "        [ 0.2062, -1.0817, -1.1907,  0.0662, -0.3077],\n",
      "        [-0.0733,  0.1051,  0.0046,  0.1644, -0.0635],\n",
      "        [ 0.0483,  0.8153,  0.6942, -0.1893, -0.0033],\n",
      "        [-0.7462,  0.5504,  0.1016,  1.0889, -0.2566]])\n",
      "tensor([[-6.1016e-02, -3.3505e-03, -7.7001e-02, -5.6094e-02, -2.5541e-02],\n",
      "        [ 6.3251e-01,  1.0957e+00,  8.4886e-01,  3.5202e-01,  1.0868e+00],\n",
      "        [ 3.9476e-03,  0.0000e+00,  1.3400e-02,  2.4319e-04,  4.2885e-03],\n",
      "        [ 1.5811e+00,  2.8346e-01,  2.2708e+00,  2.0701e+00,  2.6451e+00],\n",
      "        [ 1.5967e+00,  2.6581e+00,  1.7622e+00,  5.3486e-01,  2.3932e+00]])\n",
      "tensor([[0.0440, 4.9425, 0.0104, 2.9934, 2.0707]])\n"
     ]
    }
   ],
   "source": [
    "for l in net2:\n",
    "    if isinstance(l, nn.Linear):\n",
    "        print(l.weight.grad)"
   ]
  },
  {
   "cell_type": "code",
   "execution_count": 7,
   "metadata": {},
   "outputs": [
    {
     "data": {
      "text/plain": [
       "tensor(4.7684e-07, grad_fn=<MaxBackward1>)"
      ]
     },
     "execution_count": 7,
     "metadata": {},
     "output_type": "execute_result"
    }
   ],
   "source": []
  },
  {
   "cell_type": "code",
   "execution_count": 61,
   "metadata": {},
   "outputs": [],
   "source": [
    "random_vector = torch.rand(5)\n",
    "diag_mat = torch.diag(random_vector)\n",
    "diag_mat_inv = torch.diag(1/random_vector)"
   ]
  },
  {
   "cell_type": "code",
   "execution_count": 62,
   "metadata": {},
   "outputs": [],
   "source": [
    "input_=x"
   ]
  },
  {
   "cell_type": "code",
   "execution_count": 63,
   "metadata": {},
   "outputs": [
    {
     "data": {
      "text/plain": [
       "tensor([[ -9.7585,  13.3118,   9.0074,  -6.5847,  -9.3275],\n",
       "        [-15.7490,   4.4221,  14.1873,  14.3303,   3.8986],\n",
       "        [ -1.1516,  -2.3609, -22.2351,   0.7884,   2.2462],\n",
       "        ...,\n",
       "        [  9.5964,   1.7724, -18.0632,   9.2267,  17.1216],\n",
       "        [  4.7554,  13.3373,   3.6072, -28.0376, -14.0398],\n",
       "        [  5.6445,  11.0822,   1.7125,  -2.9020,  11.7651]])"
      ]
     },
     "execution_count": 63,
     "metadata": {},
     "output_type": "execute_result"
    }
   ],
   "source": [
    "x"
   ]
  },
  {
   "cell_type": "code",
   "execution_count": 64,
   "metadata": {},
   "outputs": [
    {
     "data": {
      "text/plain": [
       "tensor([[ -9.7585,  13.3118,   9.0074,  -6.5847,  -9.3275],\n",
       "        [-15.7490,   4.4221,  14.1873,  14.3303,   3.8986],\n",
       "        [ -1.1516,  -2.3609, -22.2351,   0.7884,   2.2462],\n",
       "        ...,\n",
       "        [  9.5964,   1.7724, -18.0632,   9.2267,  17.1216],\n",
       "        [  4.7554,  13.3373,   3.6072, -28.0376, -14.0398],\n",
       "        [  5.6445,  11.0822,   1.7125,  -2.9020,  11.7651]])"
      ]
     },
     "execution_count": 64,
     "metadata": {},
     "output_type": "execute_result"
    }
   ],
   "source": [
    "input_"
   ]
  },
  {
   "cell_type": "code",
   "execution_count": 65,
   "metadata": {},
   "outputs": [],
   "source": [
    "layer = nn.ReLU()"
   ]
  },
  {
   "cell_type": "code",
   "execution_count": 66,
   "metadata": {},
   "outputs": [
    {
     "name": "stdout",
     "output_type": "stream",
     "text": [
      "torch.Size([1000, 5])\n"
     ]
    }
   ],
   "source": [
    "input_ = torch.matmul(input_, diag_mat)\n",
    "input_ = layer(input_)\n",
    "input_ = torch.matmul(input_, diag_mat_inv)"
   ]
  },
  {
   "cell_type": "code",
   "execution_count": 67,
   "metadata": {},
   "outputs": [
    {
     "data": {
      "text/plain": [
       "tensor([[ 0.0000, 13.3118,  9.0074,  0.0000,  0.0000],\n",
       "        [ 0.0000,  4.4221, 14.1873, 14.3303,  3.8986],\n",
       "        [ 0.0000,  0.0000,  0.0000,  0.7884,  2.2462],\n",
       "        ...,\n",
       "        [ 9.5964,  1.7724,  0.0000,  9.2267, 17.1216],\n",
       "        [ 4.7554, 13.3373,  3.6072,  0.0000,  0.0000],\n",
       "        [ 5.6445, 11.0822,  1.7125,  0.0000, 11.7651]])"
      ]
     },
     "execution_count": 67,
     "metadata": {},
     "output_type": "execute_result"
    }
   ],
   "source": [
    "input_"
   ]
  },
  {
   "cell_type": "code",
   "execution_count": null,
   "metadata": {},
   "outputs": [],
   "source": []
  },
  {
   "cell_type": "code",
   "execution_count": null,
   "metadata": {},
   "outputs": [],
   "source": []
  }
 ],
 "metadata": {
  "kernelspec": {
   "display_name": "Python 3",
   "language": "python",
   "name": "python3"
  },
  "language_info": {
   "codemirror_mode": {
    "name": "ipython",
    "version": 3
   },
   "file_extension": ".py",
   "mimetype": "text/x-python",
   "name": "python",
   "nbconvert_exporter": "python",
   "pygments_lexer": "ipython3",
   "version": "3.8.5"
  }
 },
 "nbformat": 4,
 "nbformat_minor": 4
}
