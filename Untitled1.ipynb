{
 "cells": [
  {
   "cell_type": "code",
   "execution_count": 1,
   "metadata": {},
   "outputs": [],
   "source": [
    "import torch\n",
    "from torch import nn"
   ]
  },
  {
   "cell_type": "code",
   "execution_count": 27,
   "metadata": {},
   "outputs": [],
   "source": [
    "n1 = nn.Sequential(nn.Linear(2,2), nn.ReLU(), nn.Linear(2,1))"
   ]
  },
  {
   "cell_type": "code",
   "execution_count": 28,
   "metadata": {},
   "outputs": [
    {
     "name": "stdout",
     "output_type": "stream",
     "text": [
      "tensor([[ 0.4029, -0.6588],\n",
      "        [ 0.6210,  0.6727]])\n",
      "\n",
      "tensor([[0.7000, 0.1067]])\n",
      "\n"
     ]
    }
   ],
   "source": [
    "for l in n1:\n",
    "    try:\n",
    "        print(l.weight.data)\n",
    "        print()\n",
    "    except:\n",
    "        pass"
   ]
  },
  {
   "cell_type": "code",
   "execution_count": 29,
   "metadata": {},
   "outputs": [],
   "source": [
    "n2 = nn.Sequential(nn.Linear(2,2), nn.ReLU(), nn.Linear(2,1))"
   ]
  },
  {
   "cell_type": "code",
   "execution_count": 30,
   "metadata": {},
   "outputs": [
    {
     "name": "stdout",
     "output_type": "stream",
     "text": [
      "tensor([[ 0.1207, -0.0948],\n",
      "        [ 0.1217, -0.5402]])\n",
      "\n",
      "tensor([[0.2130, 0.3259]])\n",
      "\n"
     ]
    }
   ],
   "source": [
    "for l in n2:\n",
    "    try:\n",
    "        print(l.weight.data)\n",
    "        print()\n",
    "    except:\n",
    "        pass"
   ]
  },
  {
   "cell_type": "code",
   "execution_count": 24,
   "metadata": {},
   "outputs": [],
   "source": [
    "def revert_net(src_net, dst_net):\n",
    "    with torch.no_grad():\n",
    "        for dst_params, src_params in zip(dst_net.parameters(), src_net.parameters()):\n",
    "            src_params.copy_(dst_params)"
   ]
  },
  {
   "cell_type": "code",
   "execution_count": 32,
   "metadata": {},
   "outputs": [],
   "source": [
    "revert_net(n1, n2)"
   ]
  },
  {
   "cell_type": "code",
   "execution_count": 33,
   "metadata": {},
   "outputs": [
    {
     "name": "stdout",
     "output_type": "stream",
     "text": [
      "tensor([[ 0.1207, -0.0948],\n",
      "        [ 0.1217, -0.5402]])\n",
      "\n",
      "tensor([[0.2130, 0.3259]])\n",
      "\n"
     ]
    }
   ],
   "source": [
    "for l in n1:\n",
    "    try:\n",
    "        print(l.weight.data)\n",
    "        print()\n",
    "    except:\n",
    "        pass"
   ]
  },
  {
   "cell_type": "code",
   "execution_count": 34,
   "metadata": {},
   "outputs": [
    {
     "name": "stdout",
     "output_type": "stream",
     "text": [
      "tensor([[ 0.1207, -0.0948],\n",
      "        [ 0.1217, -0.5402]])\n",
      "\n",
      "tensor([[0.2130, 0.3259]])\n",
      "\n"
     ]
    }
   ],
   "source": [
    "for l in n2:\n",
    "    try:\n",
    "        print(l.weight.data)\n",
    "        print()\n",
    "    except:\n",
    "        pass"
   ]
  },
  {
   "cell_type": "code",
   "execution_count": null,
   "metadata": {},
   "outputs": [],
   "source": []
  },
  {
   "cell_type": "code",
   "execution_count": null,
   "metadata": {},
   "outputs": [],
   "source": []
  },
  {
   "cell_type": "code",
   "execution_count": 2,
   "metadata": {},
   "outputs": [],
   "source": [
    "net = nn.Sequential(nn.Linear(2,2), nn.ReLU(), nn.Linear(2,1))\n",
    "optim = torch.optim.SGD(net.parameters(), lr=0.001)\n",
    "label_net = nn.Sequential(nn.Linear(2,2), nn.ReLU(), nn.Linear(2,1))\n",
    "x = torch.randn(100,2)\n",
    "targets = label_net(x).detach()\n",
    "criterion = nn.MSELoss()"
   ]
  },
  {
   "cell_type": "code",
   "execution_count": 3,
   "metadata": {},
   "outputs": [],
   "source": [
    "old_net = nn.Sequential(nn.Linear(2,2), nn.ReLU(), nn.Linear(2,1))"
   ]
  },
  {
   "cell_type": "code",
   "execution_count": 4,
   "metadata": {},
   "outputs": [
    {
     "data": {
      "text/plain": [
       "Parameter containing:\n",
       "tensor([[ 0.0436, -0.0387],\n",
       "        [ 0.6015, -0.0554]], requires_grad=True)"
      ]
     },
     "execution_count": 4,
     "metadata": {},
     "output_type": "execute_result"
    }
   ],
   "source": [
    "net[0].weight"
   ]
  },
  {
   "cell_type": "code",
   "execution_count": 9,
   "metadata": {},
   "outputs": [],
   "source": [
    "def revert_net(src_net, dst_net):\n",
    "    with torch.no_grad():\n",
    "        for dst_params, src_params in zip(dst_net.parameters(), src_net.parameters()):\n",
    "            dst_params.copy_(src_params)"
   ]
  },
  {
   "cell_type": "code",
   "execution_count": 10,
   "metadata": {},
   "outputs": [
    {
     "name": "stdout",
     "output_type": "stream",
     "text": [
      "before   tensor([[-0.0742, -0.1077],\n",
      "        [ 0.6019, -0.0854]])\n",
      "after   tensor([[ 0.0050, -0.0622],\n",
      "        [ 0.6108, -0.0657]])\n"
     ]
    }
   ],
   "source": [
    "loss_list = []\n",
    "for i in range(500):\n",
    "    optim.zero_grad()\n",
    "    out = net(x)\n",
    "    loss = criterion(out, targets)\n",
    "    loss.backward()\n",
    "    optim.step()\n",
    "    loss_list.append(loss.item())\n",
    "    if i == 200:\n",
    "        print(f'before   {net[0].weight.data}')\n",
    "        revert_net(old_net, net)\n",
    "        print(f'after   {net[0].weight.data}')"
   ]
  },
  {
   "cell_type": "code",
   "execution_count": 11,
   "metadata": {},
   "outputs": [],
   "source": [
    "import matplotlib.pyplot as plt"
   ]
  },
  {
   "cell_type": "code",
   "execution_count": 12,
   "metadata": {},
   "outputs": [
    {
     "data": {
      "text/plain": [
       "[<matplotlib.lines.Line2D at 0x7fac7c4cc580>]"
      ]
     },
     "execution_count": 12,
     "metadata": {},
     "output_type": "execute_result"
    },
    {
     "data": {
      "image/png": "[encoded data removed]",
      "text/plain": [
       "<Figure size 432x288 with 1 Axes>"
      ]
     },
     "metadata": {
      "needs_background": "light"
     },
     "output_type": "display_data"
    }
   ],
   "source": [
    "plt.plot(range(len(loss_list)), loss_list)"
   ]
  },
  {
   "cell_type": "code",
   "execution_count": null,
   "metadata": {},
   "outputs": [],
   "source": [
    "class Random_data():\n",
    "    def __init__(self, Architecture, batch_size):\n",
    "        self.x = torch.randn(batch_size, Architecture[0])\n",
    "        labels_net = Sequential_modified(width_list, 123)\n",
    "        self.targets = labels_net(x).detach()\n",
    "    def __getitem__(self):\n",
    "        return self.x, self.targets\n"
   ]
  },
  {
   "cell_type": "code",
   "execution_count": 84,
   "metadata": {},
   "outputs": [],
   "source": [
    "from torch.utils.data import DataLoader\n",
    "from torch import nn"
   ]
  },
  {
   "cell_type": "code",
   "execution_count": 31,
   "metadata": {},
   "outputs": [],
   "source": [
    "import torchvision\n",
    "from torchvision import transforms\n",
    "batch_size = 100"
   ]
  },
  {
   "cell_type": "code",
   "execution_count": 215,
   "metadata": {},
   "outputs": [],
   "source": [
    "def squeeze(tens):\n",
    "    return tens.squeeze(0).squeeze(0)"
   ]
  },
  {
   "cell_type": "code",
   "execution_count": 216,
   "metadata": {},
   "outputs": [],
   "source": [
    "# transform = torchvision.transforms.Resize((28*28,1))\n",
    "# transform = transforms.ToTensor()\n",
    "transform = transforms.Compose(\n",
    "    [transforms.Resize((1,28*28)),\n",
    "     transforms.ToTensor(),\n",
    "     squeeze\n",
    "    ])"
   ]
  },
  {
   "cell_type": "code",
   "execution_count": 217,
   "metadata": {},
   "outputs": [],
   "source": [
    "train_data = torchvision.datasets.MNIST('datasets/', transform=transform, download=True)\n",
    "# train_data = torchvision.datasets.MNIST('datasets/', download=True)"
   ]
  },
  {
   "cell_type": "code",
   "execution_count": 218,
   "metadata": {},
   "outputs": [],
   "source": [
    "train_loader = DataLoader(train_data, batch_size=batch_size)"
   ]
  },
  {
   "cell_type": "code",
   "execution_count": 219,
   "metadata": {},
   "outputs": [
    {
     "name": "stdout",
     "output_type": "stream",
     "text": [
      "torch.Size([100, 784])\n",
      "tensor([5, 0, 4, 1, 9, 2, 1, 3, 1, 4, 3, 5, 3, 6, 1, 7, 2, 8, 6, 9, 4, 0, 9, 1,\n",
      "        1, 2, 4, 3, 2, 7, 3, 8, 6, 9, 0, 5, 6, 0, 7, 6, 1, 8, 7, 9, 3, 9, 8, 5,\n",
      "        9, 3, 3, 0, 7, 4, 9, 8, 0, 9, 4, 1, 4, 4, 6, 0, 4, 5, 6, 1, 0, 0, 1, 7,\n",
      "        1, 6, 3, 0, 2, 1, 1, 7, 9, 0, 2, 6, 7, 8, 3, 9, 0, 4, 6, 7, 4, 6, 8, 0,\n",
      "        7, 8, 3, 1])\n"
     ]
    }
   ],
   "source": [
    "for im, lab in train_loader:\n",
    "    print(im.shape)\n",
    "    print(lab)\n",
    "    break"
   ]
  },
  {
   "cell_type": "code",
   "execution_count": 220,
   "metadata": {},
   "outputs": [],
   "source": [
    "n = nn.Sequential(nn.Linear(28*28,1))"
   ]
  },
  {
   "cell_type": "code",
   "execution_count": 221,
   "metadata": {},
   "outputs": [
    {
     "data": {
      "text/plain": [
       "torch.Size([100, 1])"
      ]
     },
     "execution_count": 221,
     "metadata": {},
     "output_type": "execute_result"
    }
   ],
   "source": [
    "n(im).shape"
   ]
  },
  {
   "cell_type": "code",
   "execution_count": null,
   "metadata": {},
   "outputs": [],
   "source": []
  },
  {
   "cell_type": "code",
   "execution_count": 222,
   "metadata": {},
   "outputs": [
    {
     "ename": "TypeError",
     "evalue": "mean(): argument 'input' (position 1) must be Tensor, not list",
     "output_type": "error",
     "traceback": [
      "\u001b[0;31m---------------------------------------------------------------------------\u001b[0m",
      "\u001b[0;31mTypeError\u001b[0m                                 Traceback (most recent call last)",
      "\u001b[0;32m<ipython-input-222-6a2376fd47ff>\u001b[0m in \u001b[0;36m<module>\u001b[0;34m\u001b[0m\n\u001b[0;32m----> 1\u001b[0;31m \u001b[0mtorch\u001b[0m\u001b[0;34m.\u001b[0m\u001b[0mmean\u001b[0m\u001b[0;34m(\u001b[0m\u001b[0;34m[\u001b[0m\u001b[0;36m1\u001b[0m\u001b[0;34m,\u001b[0m\u001b[0;36m2\u001b[0m\u001b[0;34m]\u001b[0m\u001b[0;34m)\u001b[0m\u001b[0;34m\u001b[0m\u001b[0;34m\u001b[0m\u001b[0m\n\u001b[0m",
      "\u001b[0;31mTypeError\u001b[0m: mean(): argument 'input' (position 1) must be Tensor, not list"
     ]
    }
   ],
   "source": [
    "torch.mean([1,2])"
   ]
  },
  {
   "cell_type": "code",
   "execution_count": 229,
   "metadata": {},
   "outputs": [],
   "source": [
    "a = [[1,2],[3,4],[5,6],[1,2],[3,4],[5,6],[1,2],[3,4],[5,6],[1,2]]"
   ]
  },
  {
   "cell_type": "code",
   "execution_count": 230,
   "metadata": {},
   "outputs": [
    {
     "data": {
      "text/plain": [
       "10"
      ]
     },
     "execution_count": 230,
     "metadata": {},
     "output_type": "execute_result"
    }
   ],
   "source": [
    "len(a)"
   ]
  },
  {
   "cell_type": "code",
   "execution_count": 232,
   "metadata": {},
   "outputs": [
    {
     "data": {
      "text/plain": [
       "[3, 4]"
      ]
     },
     "execution_count": 232,
     "metadata": {},
     "output_type": "execute_result"
    }
   ],
   "source": [
    "a[-10:-5]"
   ]
  },
  {
   "cell_type": "code",
   "execution_count": 233,
   "metadata": {},
   "outputs": [],
   "source": [
    "import shutil"
   ]
  },
  {
   "cell_type": "code",
   "execution_count": 236,
   "metadata": {},
   "outputs": [],
   "source": [
    "shutil.rmtree('./remove/', ignore_errors=True)"
   ]
  },
  {
   "cell_type": "code",
   "execution_count": 237,
   "metadata": {},
   "outputs": [],
   "source": [
    "from torch.utils.tensorboard import SummaryWriter\n"
   ]
  },
  {
   "cell_type": "code",
   "execution_count": 255,
   "metadata": {},
   "outputs": [],
   "source": [
    "writer = SummaryWriter()"
   ]
  },
  {
   "cell_type": "code",
   "execution_count": 277,
   "metadata": {},
   "outputs": [],
   "source": [
    "net = nn.Sequential(nn.Linear(100,100),nn.ReLU(),nn.Linear(100,100))\n",
    "tensors = []\n",
    "for layer in net:\n",
    "    if isinstance(layer,nn.Linear) or isinstance(layer,nn.Conv2d):\n",
    "        tensors.append(layer.weight.data.flatten())\n",
    "        tensors.append(layer.bias.data.flatten())\n",
    "all_weights = torch.cat(tensors)"
   ]
  },
  {
   "cell_type": "code",
   "execution_count": 278,
   "metadata": {},
   "outputs": [
    {
     "data": {
      "text/plain": [
       "torch.Size([20200])"
      ]
     },
     "execution_count": 278,
     "metadata": {},
     "output_type": "execute_result"
    }
   ],
   "source": [
    "all_weights.shape"
   ]
  },
  {
   "cell_type": "code",
   "execution_count": null,
   "metadata": {},
   "outputs": [],
   "source": []
  },
  {
   "cell_type": "code",
   "execution_count": 266,
   "metadata": {},
   "outputs": [
    {
     "data": {
      "text/plain": [
       "torch.Size([10000])"
      ]
     },
     "execution_count": 266,
     "metadata": {},
     "output_type": "execute_result"
    }
   ],
   "source": [
    "net[0].weight.data.flatten().shape"
   ]
  },
  {
   "cell_type": "code",
   "execution_count": 256,
   "metadata": {},
   "outputs": [],
   "source": [
    "for i in range(100):\n",
    "    writer.add_histogram('hist', (i/10)*torch.randn(10000,1), i)"
   ]
  },
  {
   "cell_type": "code",
   "execution_count": 246,
   "metadata": {},
   "outputs": [
    {
     "data": {
      "text/plain": [
       "tensor([-4.7904e-01,  4.2930e-02,  8.8634e-01,  8.3134e-01,  3.8888e-01,\n",
       "         1.2775e-01,  1.6067e-01, -1.1809e+00,  8.4296e-01,  1.3021e-01,\n",
       "         2.2995e+00,  2.9016e-01, -7.8620e-01,  1.0727e+00,  4.7425e-01,\n",
       "         3.3765e-01, -1.5674e-01,  4.1818e-01,  2.5718e-01,  6.2483e-02,\n",
       "         4.1735e-01, -2.0642e-01, -7.9748e-01,  1.0161e+00, -1.5106e+00,\n",
       "        -4.0859e-01,  1.1820e+00, -1.6335e-01, -3.1781e-01,  6.8088e-01,\n",
       "         5.1660e-02, -3.1589e-01,  9.8028e-02, -5.4871e-01,  1.9165e+00,\n",
       "        -3.9679e-01,  2.1289e+00,  1.3589e+00,  7.3473e-01,  1.2432e+00,\n",
       "         1.0144e+00,  6.4013e-01,  3.4605e-01,  3.4502e-01,  5.0556e-02,\n",
       "        -1.2567e-01, -8.2292e-01,  1.2103e+00, -1.3484e-02, -1.7413e+00,\n",
       "        -2.0345e+00,  5.7524e-01,  1.7819e+00, -9.6080e-01,  6.4677e-01,\n",
       "        -9.0036e-01,  1.5550e+00, -2.1343e+00,  5.0071e-01,  1.0519e-02,\n",
       "         1.0596e+00, -1.7897e-02,  1.5143e+00, -1.7021e+00, -8.9213e-01,\n",
       "         7.2551e-01, -1.0519e+00,  5.7486e-01, -6.2805e-01, -1.7500e+00,\n",
       "        -2.3322e+00,  4.7992e-01,  1.0668e+00,  7.8800e-01, -1.1907e-01,\n",
       "         6.2494e-01,  1.6415e+00,  8.8837e-01,  4.1011e-01, -5.3053e-01,\n",
       "        -7.8511e-01,  4.6035e-01,  1.0111e+00, -3.9657e-01, -3.4061e-01,\n",
       "         1.3243e+00, -1.3933e-01, -4.2182e-02, -3.7985e-03,  1.6199e-01,\n",
       "        -4.5451e-01,  4.6434e-01, -1.5609e-01, -3.6242e-01, -2.7569e-01,\n",
       "         8.4557e-01, -2.5002e-01, -1.9964e-01,  4.8042e-01,  1.1528e+00,\n",
       "        -1.5914e+00,  1.2563e-01,  3.6751e-01, -6.0872e-01, -1.5962e-01,\n",
       "         1.3195e+00,  3.0752e-02,  1.0870e+00,  7.8858e-01,  1.2950e+00,\n",
       "        -1.7459e+00,  7.4741e-02,  1.0968e+00,  2.2613e+00, -1.6947e+00,\n",
       "         1.6505e+00, -6.7422e-01, -6.8421e-01,  2.4672e-01, -1.1173e+00,\n",
       "        -1.3731e+00,  1.2647e+00,  8.8662e-01, -6.6690e-01,  2.1888e+00,\n",
       "         5.4800e-02, -1.3640e+00,  3.5686e-01,  2.6388e-01,  8.4983e-01,\n",
       "         5.4595e-01,  7.2299e-01,  9.2588e-01,  1.5289e+00, -9.6342e-01,\n",
       "         1.6513e-01,  5.4361e-01,  3.3901e-01,  1.8709e+00,  5.9102e-01,\n",
       "         1.5392e-01, -2.2426e-02, -2.5022e-01,  8.7444e-01, -1.4485e+00,\n",
       "        -1.1133e+00, -6.7744e-01, -1.5404e+00, -3.5173e-01,  1.3301e+00,\n",
       "        -6.5993e-01, -9.8007e-01,  1.1109e+00,  2.6455e-01,  2.4280e-01,\n",
       "        -1.5550e+00, -7.5398e-01, -1.0655e+00,  1.5641e-01, -8.6131e-01,\n",
       "        -5.7958e-01, -6.9892e-01,  2.0558e+00,  8.5083e-01, -6.8823e-01,\n",
       "        -1.7555e+00,  7.9036e-01, -6.5587e-01,  1.7989e-01,  5.3808e-01,\n",
       "        -1.2637e+00, -1.0945e+00,  1.2167e-01,  2.1100e-01, -5.9073e-01,\n",
       "        -1.1379e-01, -1.1076e+00, -9.0582e-01,  2.9365e-01,  1.0892e+00,\n",
       "         1.4674e+00,  9.7930e-01,  9.0441e-01,  1.5001e+00, -3.5088e-01,\n",
       "         9.7992e-01, -3.5042e-01, -3.4958e-01, -1.7330e-01,  1.0921e+00,\n",
       "        -1.8323e-01, -1.3102e+00, -1.3390e+00,  1.3402e+00,  3.1559e-01,\n",
       "        -6.1729e-01, -1.6436e+00, -2.2426e-01,  5.2504e-01,  1.4136e-01,\n",
       "        -3.0108e-01,  1.1519e+00, -1.3012e-01,  6.2104e-02,  1.5020e+00,\n",
       "         1.2312e+00,  1.6923e+00,  1.7012e-01,  1.6834e+00,  3.6103e-01,\n",
       "         2.0327e+00, -6.7859e-01, -1.3722e+00, -9.5180e-01,  5.9580e-01,\n",
       "         1.9443e+00, -3.9829e-01,  3.6473e-01,  8.3031e-01,  8.0079e-01,\n",
       "        -7.5292e-04, -1.2729e+00, -2.7335e-01,  5.8078e-01,  4.0461e-01,\n",
       "        -2.2234e+00, -2.5500e-02, -8.2566e-02,  8.3053e-01,  5.6408e-01,\n",
       "        -1.9570e+00,  6.5081e-01,  2.5165e+00, -2.9841e-01,  1.1800e+00,\n",
       "         1.6683e-01,  1.9671e+00, -3.4278e-01, -9.0375e-01, -7.0428e-01,\n",
       "        -2.3867e-01,  1.6886e+00,  1.0833e+00,  1.6321e+00,  2.0627e+00,\n",
       "         1.6159e+00, -9.1810e-01, -7.9300e-01, -7.7699e-01, -5.6976e-01,\n",
       "        -2.5328e-01, -2.3254e-01,  1.2149e+00,  4.3685e-02, -5.5539e-01,\n",
       "        -7.3469e-01, -2.0767e+00, -4.4145e-01,  6.7750e-01,  2.1909e+00,\n",
       "         5.9950e-01, -1.4801e+00,  1.3650e-01, -5.5211e-01,  2.0449e-01,\n",
       "        -1.3856e+00, -4.2594e-01, -5.0753e-01, -1.1234e+00, -3.2490e-01,\n",
       "         9.5334e-01, -2.0565e-01,  2.1626e+00,  2.0500e-01, -1.0814e+00,\n",
       "         5.7309e-01, -9.5192e-01,  1.4290e+00,  9.4908e-01, -3.0541e-01,\n",
       "        -5.5798e-01, -8.5162e-01, -4.9945e-01, -4.9476e-01,  2.4895e-01,\n",
       "        -1.1219e-01,  1.4926e+00,  3.5695e-01,  8.8793e-01,  2.6419e+00,\n",
       "        -7.8201e-01, -4.3392e-02, -1.0316e-01, -8.8710e-01,  1.3024e+00,\n",
       "         7.5075e-01,  4.6104e-01, -3.1848e+00,  1.1747e+00, -1.1995e+00,\n",
       "        -9.4353e-01,  2.2213e-01, -6.5491e-01,  7.3842e-01, -6.5714e-01,\n",
       "        -4.6673e-01,  5.9823e-01,  3.9792e-01, -1.8082e-01,  6.0880e-01,\n",
       "         1.4692e+00, -7.1339e-01, -1.1597e+00, -1.7027e+00, -1.0005e+00,\n",
       "        -1.4999e+00, -2.1756e+00, -4.8350e-01,  1.4347e-02, -2.2957e-01,\n",
       "        -1.8860e+00, -4.9806e-01, -9.0098e-01,  2.9840e-01, -8.9296e-01,\n",
       "         6.9764e-01, -8.1807e-01,  6.4201e-02, -2.8347e-01, -9.1571e-01,\n",
       "        -1.4219e+00, -3.7202e-01,  4.6268e-01, -1.7846e+00,  8.4965e-01,\n",
       "         1.3936e-01, -8.1757e-01, -4.7335e-01, -2.3226e-01,  1.0529e+00,\n",
       "         8.2569e-01,  1.6219e+00,  1.0539e+00, -7.7197e-02,  2.3006e-01,\n",
       "         6.8650e-01,  1.0497e-01, -5.4926e-01, -1.5730e+00,  1.4078e-01,\n",
       "         1.2417e+00, -7.8050e-01,  7.3535e-01, -1.6067e+00,  1.0466e+00,\n",
       "         9.1243e-02,  3.5171e-01, -8.2157e-01, -8.7296e-01, -6.9326e-01,\n",
       "        -2.5113e-01, -1.3331e+00,  1.1871e+00,  1.9333e+00, -8.7936e-01,\n",
       "         2.7579e-01,  1.7030e+00, -2.5158e-01,  1.3092e+00, -3.0138e-01,\n",
       "         1.1070e-01,  2.3998e-01,  8.1957e-01, -5.7573e-01, -6.2454e-01,\n",
       "        -6.2248e-01, -3.5072e-01, -2.6673e-01,  1.1794e+00,  6.0070e-01,\n",
       "        -1.1776e-01,  1.6983e+00, -9.6195e-01, -1.0520e-01, -4.0015e-01,\n",
       "         8.9788e-01, -9.8523e-01,  6.5405e-01, -4.4929e-01, -1.4907e+00,\n",
       "         1.0390e+00,  5.2140e-01,  1.0999e+00, -4.2760e-01, -9.3283e-01,\n",
       "        -1.5213e-01, -6.4052e-01,  1.4300e+00,  1.3001e+00,  3.8155e-01,\n",
       "        -2.6038e-01,  2.4101e-01,  6.5901e-02, -4.6957e-01,  2.9601e-02,\n",
       "         1.5240e+00, -3.0248e-01, -1.2316e+00,  1.4427e+00,  3.9528e-01,\n",
       "        -1.8860e+00, -2.3250e-01,  3.6950e-02,  4.7275e-01, -1.0861e+00,\n",
       "        -9.5750e-02, -8.2886e-01,  2.3342e+00, -1.3599e+00, -1.6545e+00,\n",
       "         6.3858e-01,  4.8853e-02,  2.2449e+00, -6.2764e-01, -9.9826e-01,\n",
       "        -3.5358e-02,  2.3120e-01,  6.6920e-01,  2.0670e+00,  6.5343e-01,\n",
       "        -7.3220e-01,  1.1200e-01, -4.4487e-01,  7.2192e-01, -2.1281e-01,\n",
       "        -6.5081e-01,  1.1616e+00, -1.4236e+00,  1.1988e-01,  1.0982e-01,\n",
       "         3.8406e-01, -2.1262e-01, -1.5267e+00,  6.3927e-02, -1.3494e+00,\n",
       "         1.4963e+00,  2.8979e+00, -2.0979e-01,  3.8702e-01, -1.1677e+00,\n",
       "        -5.6633e-01,  6.1235e-01, -1.5703e+00, -1.0285e+00,  9.5679e-01,\n",
       "         3.6132e-01,  1.8912e-01,  6.0835e-01, -1.3888e+00, -5.7634e-01,\n",
       "        -7.3867e-01,  6.2727e-01, -4.4067e-01,  2.6131e+00,  1.8677e-01,\n",
       "        -7.0578e-01, -4.9955e-03, -1.0096e-01,  6.1082e-01, -5.4742e-01,\n",
       "         1.3538e-01, -2.4665e-01, -4.4656e-01,  3.9553e-01,  2.4298e-02,\n",
       "         6.5615e-01,  1.8200e+00, -8.5955e-02, -3.2264e-01,  1.2341e+00,\n",
       "        -9.7666e-01, -2.1342e-01, -1.6524e+00, -1.4980e+00,  3.1367e-01,\n",
       "        -1.3965e+00, -1.0449e+00,  1.5278e+00, -4.9725e-01,  4.5519e-01,\n",
       "         6.5060e-01, -2.8918e-01, -7.1640e-01,  1.0654e+00, -3.5260e-01,\n",
       "         6.4149e-01,  4.4871e-02,  1.0325e-01, -5.6899e-01,  6.1459e-01,\n",
       "         7.5510e-01, -1.4070e+00, -8.0681e-01, -2.6763e-01,  2.8992e-01,\n",
       "         8.9141e-02,  5.7854e-01,  8.2056e-01,  3.0175e-01, -1.4378e+00,\n",
       "         1.1609e+00,  1.4268e+00,  1.5535e-01,  8.7876e-01, -5.9510e-01,\n",
       "        -1.3642e+00,  1.2837e+00, -2.7234e+00,  1.5596e+00, -7.6575e-01,\n",
       "        -5.7443e-01,  2.3511e-02, -2.0559e+00,  1.6237e+00,  8.6312e-02,\n",
       "        -9.0691e-02,  8.9334e-01,  8.6519e-01, -1.9580e+00,  1.0636e-02,\n",
       "        -1.2828e+00, -5.5514e-01,  4.2148e-01, -1.6788e+00, -8.0575e-01,\n",
       "        -5.4452e-01, -4.8765e-01,  7.7499e-01,  1.7623e+00, -1.2715e+00,\n",
       "        -7.0589e-01, -7.0040e-02, -1.8580e+00,  7.1219e-02, -6.3039e-02,\n",
       "        -3.9061e-01,  4.7709e-02, -3.7084e-01, -1.5844e+00,  9.9393e-01,\n",
       "         9.4444e-03, -6.3248e-01,  1.9936e-01,  7.1432e-01,  7.8464e-01,\n",
       "         2.7660e-01, -1.2812e+00,  4.8000e-01,  3.4202e-01, -3.0727e-01,\n",
       "         1.1999e-01,  3.9354e-01, -2.2806e-01, -4.0329e-01, -1.0751e+00,\n",
       "        -1.3690e+00,  1.2959e+00,  8.9280e-01, -9.5287e-02, -9.6798e-02,\n",
       "        -4.1019e-01,  1.1749e+00,  1.2723e-01, -1.1128e+00,  1.6687e+00,\n",
       "         1.1376e+00,  9.3840e-01, -8.1663e-01, -8.4585e-01,  1.3497e+00,\n",
       "        -5.9335e-01,  9.1027e-01, -8.4132e-01, -1.2511e-01,  8.3262e-01,\n",
       "         1.0090e+00, -5.1279e-01,  4.3926e-01, -3.3752e-01,  1.1297e+00,\n",
       "         1.1862e+00, -3.6848e-01, -8.4234e-01,  5.7625e-01,  1.9782e+00,\n",
       "         8.8272e-01, -2.4927e-01, -7.4743e-01, -1.4063e-01,  1.0798e+00,\n",
       "         1.2335e+00, -2.5104e+00,  2.5680e+00,  3.1648e-01,  2.7483e-01,\n",
       "         2.7676e-01, -8.3414e-02,  1.1195e+00,  1.2718e+00,  6.3087e-01,\n",
       "        -5.3175e-02, -1.4873e+00, -2.7034e-01, -1.3936e+00,  1.6391e+00,\n",
       "        -1.1018e+00,  2.6241e+00,  6.6730e-01, -3.7400e-01,  1.1092e+00,\n",
       "        -6.6697e-01, -1.0592e+00, -1.1192e-01,  6.5047e-01, -1.1319e-01,\n",
       "         8.1924e-01, -7.1434e-01,  5.3203e-01, -9.8963e-01,  4.4930e-01,\n",
       "         2.4330e+00,  7.5962e-01,  2.4755e-01,  5.1197e-01, -2.0627e-01,\n",
       "        -2.2982e+00,  1.1342e+00,  9.5812e-01,  1.1484e+00, -4.6639e-01,\n",
       "        -9.1406e-01,  3.7517e-01,  2.1135e+00,  1.8591e+00,  3.3291e-01,\n",
       "         2.0746e+00,  2.8437e-01, -2.3734e+00,  1.0585e-01,  2.7861e+00,\n",
       "         1.3782e-01, -2.0014e-01,  7.1908e-01, -7.6783e-01, -2.0517e-01,\n",
       "         9.0748e-01,  1.6789e+00, -2.1862e-01,  1.1850e+00,  1.3192e+00,\n",
       "        -1.1289e+00,  9.6803e-01, -9.2681e-01,  1.0432e-01, -1.9846e-01,\n",
       "        -3.0764e-01, -1.4065e+00,  6.1651e-02, -1.3559e+00, -1.6503e-01,\n",
       "        -5.7018e-01, -1.6453e+00, -3.5786e-01,  4.3739e-01,  7.7946e-01,\n",
       "        -9.6518e-01,  1.0323e+00,  1.3167e+00, -3.8703e-01, -2.2131e+00,\n",
       "         1.2186e+00, -9.3991e-04, -1.0555e-01,  1.2206e+00, -9.5757e-01,\n",
       "        -9.3907e-01, -1.1946e+00, -7.2561e-01, -1.9706e+00, -2.0698e+00,\n",
       "         2.3112e+00, -1.4776e+00,  4.8944e-01, -1.5737e+00,  9.1069e-01,\n",
       "        -5.2894e-01, -3.9856e-01, -1.8391e+00,  5.4857e-01,  6.1428e-01,\n",
       "        -1.4854e+00,  2.6343e-01, -6.5895e-02,  8.7801e-01, -1.3429e+00,\n",
       "         4.3165e-01,  1.4092e-01, -3.7651e-01, -5.3202e-01,  7.7804e-01,\n",
       "         1.6613e-01,  6.0382e-01, -3.4050e-01,  1.1662e+00, -1.2596e+00,\n",
       "         1.4287e+00, -2.4137e+00, -4.7450e-01,  5.3373e-01, -8.3813e-01,\n",
       "        -1.3020e-01,  1.7199e+00,  5.2994e-01, -4.2722e-01,  6.0277e-02,\n",
       "        -1.5261e+00,  2.1297e-01,  6.9037e-01, -8.5979e-01,  2.2967e+00,\n",
       "         1.8747e+00,  5.2585e-01, -4.1253e-01, -5.3162e-01, -1.4358e-01,\n",
       "        -3.4533e-02, -6.9955e-01,  1.0665e+00,  3.2841e-01,  6.6979e-01,\n",
       "        -2.4193e+00, -5.5647e-02,  8.9231e-01, -1.3685e+00,  5.4461e-01,\n",
       "         5.1104e-01, -4.8426e-01, -9.5356e-01,  9.1063e-01, -4.8548e-01,\n",
       "        -5.3188e-01,  1.4125e-01, -6.1822e-01,  3.6093e-01,  6.8230e-01,\n",
       "         1.4384e+00, -2.9461e-01, -8.3206e-01, -1.6236e-01,  6.7289e-01,\n",
       "        -3.7475e-01,  5.2589e-01, -8.6687e-01,  4.1937e-01, -1.6982e+00,\n",
       "         6.2950e-01, -9.7525e-01, -2.6947e+00, -6.8477e-01, -5.8215e-01,\n",
       "        -6.1854e-01,  1.2058e-01, -9.5969e-01,  5.2379e-01, -1.4858e-01,\n",
       "         5.1355e-01,  2.5273e-02,  9.0185e-01,  1.1122e+00, -3.1316e-01,\n",
       "         9.7058e-01,  1.0376e+00, -3.4035e+00,  7.3387e-01, -7.4277e-01,\n",
       "         1.2508e+00,  1.6592e+00,  1.0109e+00, -3.9799e-01,  1.9627e+00,\n",
       "         1.7493e-01,  4.3230e-01,  1.3364e+00,  1.3399e+00, -2.0172e+00,\n",
       "         2.3542e-01, -3.2563e-01, -1.8571e+00, -1.3299e+00, -7.5539e-02,\n",
       "        -1.6951e+00,  1.8761e+00, -4.4806e-01, -4.1670e-01, -4.3432e-03,\n",
       "         1.1772e-01, -6.7306e-01, -1.0822e+00,  1.1805e+00, -3.4396e-01,\n",
       "        -5.9804e-01, -4.0933e-01, -3.5083e-01,  3.5281e-01,  8.7213e-01,\n",
       "         6.7326e-01, -3.2039e-01,  1.0267e+00,  1.2324e+00,  6.6860e-01,\n",
       "         7.0157e-01,  5.6276e-01, -1.0036e-02,  1.8618e+00,  7.3533e-02,\n",
       "        -1.0474e+00, -9.2072e-01,  3.2767e-01,  1.5681e+00, -1.8690e+00,\n",
       "        -5.4483e-01,  7.0633e-01,  7.5100e-01, -4.0849e-02, -9.2293e-01,\n",
       "         8.3362e-01, -2.0590e-01,  9.9831e-01, -1.5500e+00, -2.5096e-01,\n",
       "         1.9387e+00, -3.9995e-01,  6.1578e-02, -9.0237e-02,  1.2389e+00,\n",
       "         1.1534e+00, -8.9264e-02, -6.0244e-01, -4.3554e-01, -1.0246e+00,\n",
       "        -2.1780e+00, -2.5577e+00,  1.0118e+00, -1.1516e+00, -2.1906e-02,\n",
       "        -1.5254e-01,  4.7191e-01,  1.4966e+00,  8.5713e-01,  1.9569e+00,\n",
       "         6.9224e-01,  7.7274e-01, -7.6093e-01, -2.0642e+00,  6.3634e-02,\n",
       "         2.0418e+00,  1.0147e+00, -1.3183e+00,  3.9561e-01, -1.1236e+00,\n",
       "        -2.8917e-01, -1.8407e-01, -7.4761e-01, -4.5279e-01, -1.1837e+00,\n",
       "        -4.1371e-01, -2.0545e+00,  5.7916e-01,  1.8529e-01, -4.1250e-01,\n",
       "         8.7488e-01,  7.1458e-01,  8.0304e-01, -1.4055e+00, -3.3050e-01,\n",
       "         2.1343e+00,  2.0567e-01, -3.4822e-01, -3.9691e-01,  2.6195e-01,\n",
       "         3.3859e-01, -1.0725e+00, -4.7217e-01, -9.4527e-01, -3.7337e-01,\n",
       "        -7.2675e-01, -3.8892e-01, -1.6423e+00,  8.2802e-02,  7.2943e-01,\n",
       "        -4.3644e-01, -1.5079e+00, -4.8918e-01,  1.8993e-01, -2.4043e-01,\n",
       "        -4.0210e-01, -6.9143e-02,  1.6909e-01, -2.7521e-01, -1.2493e+00,\n",
       "         1.5120e+00,  2.0789e+00,  4.2352e-02, -7.6064e-01,  1.8862e+00,\n",
       "         1.2991e-01, -3.1477e+00, -8.5940e-01,  4.3120e-01,  7.3047e-01,\n",
       "        -9.2411e-01,  1.4694e+00,  1.0176e+00, -5.0270e-02, -1.1157e+00,\n",
       "        -3.9555e-01, -3.7615e-01, -2.5643e-01,  2.5459e-01, -9.2157e-01,\n",
       "         6.6292e-01, -7.3009e-01,  1.3981e-01,  5.9896e-01, -9.8698e-01,\n",
       "        -1.3620e+00,  1.1741e+00,  1.4167e-01,  6.1461e-01,  1.1049e+00,\n",
       "         8.5507e-01,  1.0344e+00,  2.7839e-01,  1.0637e-02,  4.2466e-01,\n",
       "         4.6432e-01,  6.4231e-01,  1.4254e+00, -1.4223e+00, -8.9100e-01,\n",
       "        -7.1871e-01, -2.8637e-01,  7.1885e-01,  1.4521e+00, -1.6378e-01,\n",
       "        -6.8092e-01,  1.5473e+00, -2.1473e-01,  3.0217e-01, -8.7599e-01,\n",
       "        -1.0488e-01,  1.3930e+00,  7.7670e-01,  1.9979e+00, -4.2535e-01,\n",
       "        -1.9008e+00, -1.0205e+00,  1.3429e+00, -4.5653e-01, -5.6719e-01,\n",
       "        -8.4639e-01,  2.4654e-01,  1.6503e+00,  1.2739e+00, -1.4985e-01,\n",
       "        -2.9195e-02, -1.1278e+00, -1.6587e+00, -5.9118e-01,  5.8267e-01,\n",
       "        -1.7666e+00,  7.8848e-01,  1.3039e-01, -7.4885e-01, -1.7913e-01,\n",
       "        -2.4885e-02,  6.9941e-01, -3.1454e-01, -1.8055e+00, -1.0062e+00,\n",
       "         6.9559e-01,  1.0149e+00,  4.9664e-01, -5.0109e-01,  6.0481e-01,\n",
       "         1.8405e+00, -8.4130e-01, -4.6065e-01,  1.7173e-01,  1.4273e-01])"
      ]
     },
     "execution_count": 246,
     "metadata": {},
     "output_type": "execute_result"
    }
   ],
   "source": [
    "torch.randn(1000)"
   ]
  },
  {
   "cell_type": "code",
   "execution_count": null,
   "metadata": {},
   "outputs": [],
   "source": [
    "net = Seq"
   ]
  }
 ],
 "metadata": {
  "kernelspec": {
   "display_name": "Python 3",
   "language": "python",
   "name": "python3"
  },
  "language_info": {
   "codemirror_mode": {
    "name": "ipython",
    "version": 3
   },
   "file_extension": ".py",
   "mimetype": "text/x-python",
   "name": "python",
   "nbconvert_exporter": "python",
   "pygments_lexer": "ipython3",
   "version": "3.8.5"
  }
 },
 "nbformat": 4,
 "nbformat_minor": 4
}
